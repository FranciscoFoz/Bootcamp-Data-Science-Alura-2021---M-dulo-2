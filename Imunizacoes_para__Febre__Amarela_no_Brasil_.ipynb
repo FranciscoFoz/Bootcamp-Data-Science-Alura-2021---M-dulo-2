{
  "nbformat": 4,
  "nbformat_minor": 0,
  "metadata": {
    "colab": {
      "name": "Imunizacoes_para_ Febre_ Amarela_no_Brasil:.ipynb",
      "provenance": [],
      "toc_visible": true,
      "authorship_tag": "ABX9TyOpZCrkcsjQlD89MVCIl17q",
      "include_colab_link": true
    },
    "kernelspec": {
      "name": "python3",
      "display_name": "Python 3"
    },
    "language_info": {
      "name": "python"
    }
  },
  "cells": [
    {
      "cell_type": "markdown",
      "metadata": {
        "id": "view-in-github",
        "colab_type": "text"
      },
      "source": [
        "<a href=\"https://colab.research.google.com/github/FranciscoFoz/Projeto_Modulo2_Bootcamp_Data_Science_Alura_2021/blob/main/Imunizacoes_para__Febre__Amarela_no_Brasil_.ipynb\" target=\"_parent\"><img src=\"https://colab.research.google.com/assets/colab-badge.svg\" alt=\"Open In Colab\"/></a>"
      ]
    },
    {
      "cell_type": "markdown",
      "metadata": {
        "id": "sbXZsLxJb_i2"
      },
      "source": [
        "# <font color= MediumSpringGreen\t\tsize = 6> Projeto Módulo 2\n",
        "# Imunizações para Febre Amarela no Brasil:  </font>\n",
        "\n",
        "# <font color= MediumSpringGreen\t\tsize = 5> Uma análise dos casos entre 2019/2020-2021 </font>"
      ]
    },
    {
      "cell_type": "markdown",
      "metadata": {
        "id": "p9qHltMYcFzz"
      },
      "source": [
        "Elaborado por [Francisco Foz](https://www.linkedin.com/in/francisco-tadeu-foz/)\n",
        "\n",
        "Data: 28/11/2021"
      ]
    },
    {
      "cell_type": "markdown",
      "metadata": {
        "id": "L3usCA-IcNlb"
      },
      "source": [
        "##<font color= MediumSpringGreen> Introdução  </font> \n",
        "\n",
        "A febre amarela é uma doença viral transmitida pela picada de mosquitos\n",
        "infectados a humanos e primatas não humanos (macacos). \n",
        "\n",
        "Ela possui dois ciclos de transmissão: \n",
        "\n",
        "\n",
        "*   Silvestre (transmissão em área rural ou floresta)\n",
        "*   Urbana\n",
        "\n",
        "Durante os meses de **dezembro** a **maio** é período de maior frequência da doença, devido ao maior índice de chuvas por conta da proliferação dos mosquitos.\n",
        "\n",
        "A **vacina** é a principal ferramenta de prevenção e controle da febre amarela. \n",
        "\n",
        "O Sistema Único de Saúde (SUS) oferece a vacina contra febre amarela para a população. \n",
        "\n",
        "Desde abril de 2017, o Brasil adota o esquema vacinal de apenas uma dose durante toda a vida, sendo que a pessoa que recebeu uma dose da vacina antes de completar 5 anos, está indicada a dose de reforço, independentemente da idade que tiver. \n",
        "\n",
        "> Fonte: [Secretaria do estado de Saúde](https://www.saude.mg.gov.br/febreamarela).\n",
        "\n",
        "\n",
        "\n",
        "Para haver uma maior controle, são realizadas vigiâncias em torno dos casos de febre amarela em humanos e em primatas não humanos (PNH).\n",
        "\n",
        "São passadas por análises até averiguar os casos confirmados.\n",
        "\n",
        "De acordo com os boletins epidemiológicos da Secretária de Vigilância em Saúde do Brasil: \n",
        "*   [Volume 51, Nº 46](https://www.gov.br/saude/pt-br/assuntos/media/pdf/2020/dezembro/09/boletim_epidemiologico_svs_46.pdf)\n",
        "*   [Volume 52, Nº 31](https://www.gov.br/saude/pt-br/media/pdf/2021/agosto/30/boletim_epidemiologico_svs_31.pdf)\n",
        "\n",
        "\n",
        "Entre julho de 2019 e junho de 2020, tivemos:    \n",
        "\n",
        "> 19 casos confirmados de Febre Amarela em humanos, sendo **17 em Santa Catarina (89%)**\n",
        "\n",
        "> 390 casos confirmados de Febre Amarela em PMH, sendo **88 em Santa Catarina (22,5%) e 298 no Paraná (76,4%).**\n",
        "\n",
        "Entre julho de 2020 e abril de 2021, tivemos:    \n",
        "\n",
        "\n",
        "> 5 casos confirmados, **todos no estado de Santa Catarina**.\n",
        "\n",
        "> 218 casos confirmados de Febre Amarela em PMH, sendo **17 no Paraná (7,8%), 47 no Rio Grande do Sul (21,6%) e 127 em Santa Catarina (58,25%).**\n",
        "\n",
        "Além dos dados podemos observar que de fato há uma tendência do vírus estar se deslocando no sentido do sul já há alguns anos. Conforme vemos na figura seguinte:  \n",
        "\n",
        "#### **Distribuição dos casos humanos e/ou em PNH confirmados de 07/2014 a 06/2020**\n",
        "\n",
        "![CasosConfirmados_FebreAmarela_2014-2020.png](https://github.com/FranciscoFoz/Projeto_Modulo2_Bootcamp_Data_Science_Alura_2021/raw/main/Imagens/CasosConfirmados_FebreAmarela_2014-2020.png)\n",
        "\n",
        "> Legenda: </p>\n",
        "> (ACRV) Área Com Recomendação de Vacinação </p>\n",
        "> (ASRV) Área Sem Recomendação de Vacinação \n",
        "\n",
        "> Fonte: [Volume 52, Nº 31](https://www.gov.br/saude/pt-br/media/pdf/2021/agosto/30/boletim_epidemiologico_svs_31.pdf)\n"
      ]
    },
    {
      "cell_type": "markdown",
      "metadata": {
        "id": "sY4DjKM4zZTo"
      },
      "source": [
        "### <font color= MediumSpringGreen> Cobertura Vacinal </font>\n",
        "\n",
        "De acordo com a [RIPSA (Rede Internacional de Informações para Saúde)](http://tabnet.datasus.gov.br/tabdata/livroidb/Com2007/Com_F13.pdf), este é um índice calculado através do número de doses aplicadas, dividido pelo número total da população alvo e multiplicado por 100, em uma área e tempo considerados.\n",
        "\n",
        "<img src=\"https://github.com/FranciscoFoz/Projeto_Modulo2_Bootcamp_Data_Science_Alura_2021/raw/main/Imagens/Cobertura_Vacinal_Formula.png\" width=\"600\"/>\n",
        "\n",
        "A população alvo para a imunização da febre amarela no Brasil sofreu alteração no ano de 2020, quando todos os municípios da nação passaram a fazerem parte da área de recomendação e atualizaram as indicações de vacina. \n",
        "\n",
        "Desta forma se ampliou o quadro geral da população alvo:\n",
        "\n",
        "<img src=\"https://github.com/FranciscoFoz/Projeto_Modulo2_Bootcamp_Data_Science_Alura_2021/raw/main/Imagens/Populacao_Alvo.png\" width=\"600\"/>\n",
        "\n",
        "> [Fonte](https://www.ufrgs.br/telessauders/perguntas/qual-recomendacao-para-vacinacao-contra-febre-amarela/)\n",
        "\n",
        "De acordo com a [Organização Pan-Americana da Saúde (OPAS)](https://www.paho.org/pt/node/40) é importanto vacinar **80%** ou mais da população em risco, entretanto ela tem recomendado que os países das Américas garantam pelo menos **95%** da população que vive nesta área. \n",
        "\n",
        "\n",
        "\n",
        "\n",
        "\n",
        "\n"
      ]
    },
    {
      "cell_type": "markdown",
      "metadata": {
        "id": "eIbSqFUEMeOI"
      },
      "source": [
        "### <font color= MediumSpringGreen> Projeto </font>\n",
        "\n",
        "Esta análise pretende explorar os dados de **imunizações** para febre amarela, nas UFs e municípios que tiveram casos confirmados no período entre jul/2019 - 2021.\n",
        "\n",
        "\n",
        ">  *Delimitou-se a partir do ano de 2019 devido aos dados serem semestrais e estarem entre 2019 e 2020. Além de um melhor entendimento do cenário atual de vacinação nos estados selecionados.*\n",
        "\n",
        "\n",
        "\n",
        "A análise será realizada através do entendimento dos seguintes dados:\n",
        "\n",
        "**1. Cobertura vacinal por UF com casos confirmados de Febre Amarela**\n",
        "  *   Número da cobertura vacinal para cada ano entre 2020-2021\n",
        "\n",
        "**2. Cobertura vacinal por municípios em UF com casos confirmados de Febre Amarela**\n",
        "  *   Número da cobertura vacinal para cada município e ano entre 2020-2021\n",
        "\n"
      ]
    },
    {
      "cell_type": "markdown",
      "metadata": {
        "id": "A7eCs-lTBnlH"
      },
      "source": [
        "### <font color= MediumSpringGreen> Questionamentos </font>\n",
        "\n",
        "A partir destes dados, procuro entender os seguintes questionamento\n",
        " \n",
        "  *   Como foi a cobertura vacinal para os estados que atualmente estão afetados de 2009-2019?\n",
        "  *   Como foi a cobertura vacinal para os estados que atualmente estão afetados em 2020-2021?\n",
        "  *   Qual é a distribuição da cobertura vacinal dos municípios destes estados em 2020 e 2021?\n",
        "  *   A cobertura vacinal dos municípios afetados em 2020 e elevou em 2021?\n",
        "  *   Qual é a quantidade dos municípios, dos estados afetados em 2021 que estão abaixo do mínimo de 80% de cobertura vacinal?\n",
        "  *   Quais são estes municípios? \n"
      ]
    },
    {
      "cell_type": "markdown",
      "metadata": {
        "id": "m33Z5rgrBrLO"
      },
      "source": [
        "### <font color= MediumSpringGreen> Objetivos </Font>\n",
        "\n",
        "*   Explorar os dados atuais  de cobertura vacinal, das imunizações de febre amarela de acordo com os estados afetados.\n",
        "*   Verificar a distribuição das coberturas vacinais ao decorrer dos municípios destes estados.\n",
        "*   Averiguar a cobertura vacinal dos municípios afetados em 2020 e sua modificação em 2021.\n",
        "*   Entender quais os municípios estão com coberturas vacinais abaixo de 80% em 2021.\n",
        "\n",
        "\n",
        "\n"
      ]
    },
    {
      "cell_type": "markdown",
      "metadata": {
        "id": "9y1AVAcfBtW-"
      },
      "source": [
        "### <font color= MediumSpringGreen> Hipóteses </Font>\n",
        "\n",
        "Diante dos boletins lidos inicialmente, boletins de anos anteriores e das informações adquiridas durante o primeiro módulo do bootcamp, deduzo que: \n",
        "\n",
        "*    O número de coberturas vacinais tenha tido um pico em 2019 devido ao surto de casos em 2017/2018.\n",
        "*    Houve uma queda em 2020, por conta da modificação e ampliação do público alvo e também por conta da crise do COVID-19. Entretanto é possível que tenha subido em 2021, principalmente nos estados afetados e principalmente no estado de SC onde ocorreu o maior índice de casos em humanos. \n",
        "\n",
        "*   Deduzo que os municípios com baixa cobertura vacinal em 2021 não são os que foram afetados em 2020.\n",
        "\n"
      ]
    },
    {
      "cell_type": "markdown",
      "metadata": {
        "id": "wIsxEdiycRzq"
      },
      "source": [
        "## <font color= MediumSpringGreen> Bibliotecas utilizadas \n",
        "\n",
        "*   Pandas\n",
        "*   Matplotlib\n",
        "*   Tabula\n",
        "*   Numpy\n",
        "*   Unidecode\n",
        "*   Seaborn\n",
        "*   Numpy\n"
      ]
    },
    {
      "cell_type": "code",
      "metadata": {
        "id": "IJaKI1yjHYQg",
        "colab": {
          "base_uri": "https://localhost:8080/"
        },
        "outputId": "38ca56bd-6ee5-4781-8ac7-4dd3d81013a1"
      },
      "source": [
        "import pandas as pd\n",
        "from matplotlib import transforms, pyplot as plt\n",
        "import matplotlib.ticker as ticker\n",
        "!pip install tabula-py              #Baixando e instalando o tabula\n",
        "import tabula\n",
        "import numpy as np\n",
        "!pip install unidecode\n",
        "import unidecode\n",
        "import seaborn as sns\n",
        "import plotly.express as px\n",
        "import plotly.graph_objs as go  "
      ],
      "execution_count": 1,
      "outputs": [
        {
          "output_type": "stream",
          "name": "stdout",
          "text": [
            "Requirement already satisfied: tabula-py in /usr/local/lib/python3.7/dist-packages (2.3.0)\n",
            "Requirement already satisfied: distro in /usr/local/lib/python3.7/dist-packages (from tabula-py) (1.6.0)\n",
            "Requirement already satisfied: numpy in /usr/local/lib/python3.7/dist-packages (from tabula-py) (1.19.5)\n",
            "Requirement already satisfied: pandas>=0.25.3 in /usr/local/lib/python3.7/dist-packages (from tabula-py) (1.1.5)\n",
            "Requirement already satisfied: python-dateutil>=2.7.3 in /usr/local/lib/python3.7/dist-packages (from pandas>=0.25.3->tabula-py) (2.8.2)\n",
            "Requirement already satisfied: pytz>=2017.2 in /usr/local/lib/python3.7/dist-packages (from pandas>=0.25.3->tabula-py) (2018.9)\n",
            "Requirement already satisfied: six>=1.5 in /usr/local/lib/python3.7/dist-packages (from python-dateutil>=2.7.3->pandas>=0.25.3->tabula-py) (1.15.0)\n",
            "Requirement already satisfied: unidecode in /usr/local/lib/python3.7/dist-packages (1.3.2)\n"
          ]
        }
      ]
    },
    {
      "cell_type": "markdown",
      "metadata": {
        "id": "KufxqvW8DUQs"
      },
      "source": [
        "## <font color= MediumSpringGreen> Importação de dados\n",
        "\n",
        "Realizei o download no Tabnet, dos arquivos necessários para eu trabalhar deixei eles salvos no [repositório](https://github.com/FranciscoFoz/Projeto_Modulo2_Bootcamp_Data_Science_Alura_2021) do meu Github. \n",
        "\n",
        "A partir disso, realizei a importação diretamente para o notebook."
      ]
    },
    {
      "cell_type": "code",
      "metadata": {
        "id": "t4y3YWRJb_IG"
      },
      "source": [
        "CV_porUF_2009_2019 = pd.read_csv('https://raw.githubusercontent.com/FranciscoFoz/Projeto_Modulo2_Bootcamp_Data_Science_Alura_2021/main/Datasets/CV_UF_ano_2009-2019.csv',\n",
        "                                 sep=';',encoding= 'UTF-8', thousands = '.', decimal=',', \n",
        "                                 engine='python')\n",
        "CV_porUF_2020_2021 = pd.read_csv('https://raw.githubusercontent.com/FranciscoFoz/Projeto_Modulo2_Bootcamp_Data_Science_Alura_2021/main/Datasets/CV_UF_ano_2020-2021.csv',\n",
        "                                 sep=';',encoding= 'UTF-8', thousands = '.', decimal=',', \n",
        "                                 engine='python')\n",
        "CV_porM_afetados2020_2020_2021 = pd.read_csv('https://github.com/FranciscoFoz/Projeto_Modulo2_Bootcamp_Data_Science_Alura_2021/raw/main/Datasets/CV_M_UF_Afetados2020_ano2020-2021.csv',\n",
        "                                 sep=';',encoding= 'ISO-8859-1', thousands = '.', decimal=',', \n",
        "                                 engine='python')\n",
        "CV_porM_afetados2021_2020_2021 = pd.read_csv('https://github.com/FranciscoFoz/Projeto_Modulo2_Bootcamp_Data_Science_Alura_2021/raw/main/Datasets/CV_M_UF_Afetados2021_ano2021.csv',\n",
        "                                 sep=';',encoding= 'UTF-8', thousands = '.', decimal=',', \n",
        "                                 engine='python')\n"
      ],
      "execution_count": 2,
      "outputs": []
    },
    {
      "cell_type": "markdown",
      "metadata": {
        "id": "slnaGcJuMcqn"
      },
      "source": [
        "## <font color= MediumSpringGreen> 1. Cobertura vacinal por UF com casos confirmados de Febre Amarela"
      ]
    },
    {
      "cell_type": "markdown",
      "metadata": {
        "id": "2DRPWCvl1OrQ"
      },
      "source": [
        "Buscarei entender como foram as coberturas vacinais nas UF's que tiveram casos confirmados de Febre Amarela em 2020 e em 2021.\n",
        "Dividi em duas partes para avaliar antes da mudança da população alvo e e após (2020-2021)."
      ]
    },
    {
      "cell_type": "markdown",
      "metadata": {
        "id": "3YxN2VuKfW6d"
      },
      "source": [
        "### <font color= MediumSpringGreen> 1.1 Cobertura vacinal entre 2009-2019\n"
      ]
    },
    {
      "cell_type": "markdown",
      "metadata": {
        "id": "4V_RyVRWTD87"
      },
      "source": [
        "#### <font color= MediumSpringGreen> 1.1.1 Manipulação de dados:\n"
      ]
    },
    {
      "cell_type": "code",
      "metadata": {
        "id": "lHcFYefRUFuQ"
      },
      "source": [
        "CV_porUF_2009_2019 = CV_porUF_2009_2019.iloc[:,0:12]                                                                 #Excluindo coluna de total\n",
        "CV_porUF_2009_2019 = CV_porUF_2009_2019[:-1]                                                                         #Excluindo linha de total\n",
        "CV_porUF_2009_2019['Unidade da Federação'] = CV_porUF_2009_2019['Unidade da Federação'].str.split(' ', n=1).str[1]   #Excluindo código UF\n",
        "CV_porUF_2009_2019 = CV_porUF_2009_2019.set_index('Unidade da Federação')                                            #Modificando o index"
      ],
      "execution_count": 3,
      "outputs": []
    },
    {
      "cell_type": "code",
      "metadata": {
        "id": "HbCxmWnTl-er"
      },
      "source": [
        "CV_porUF_2009_2019 = CV_porUF_2009_2019.reset_index().melt('Unidade da Federação',CV_porUF_2009_2019.columns)    #Resetendo index e derretendo df"
      ],
      "execution_count": 4,
      "outputs": []
    },
    {
      "cell_type": "code",
      "metadata": {
        "id": "95PvQ7JdmT_y"
      },
      "source": [
        "CV_porUF_2009_2019.columns = ['Unidade da Federação', 'Ano', 'Cobertura Vacinal'] #Modificando nome da coluna"
      ],
      "execution_count": 5,
      "outputs": []
    },
    {
      "cell_type": "code",
      "metadata": {
        "colab": {
          "base_uri": "https://localhost:8080/",
          "height": 0
        },
        "id": "UCkrL4QXloN8",
        "outputId": "c77c9e7e-4727-4d0f-a061-fe724efe9cc3"
      },
      "source": [
        "CV_porUF_2009_2019.sort_values(by='Unidade da Federação')\n"
      ],
      "execution_count": 6,
      "outputs": [
        {
          "output_type": "execute_result",
          "data": {
            "text/html": [
              "<div>\n",
              "<style scoped>\n",
              "    .dataframe tbody tr th:only-of-type {\n",
              "        vertical-align: middle;\n",
              "    }\n",
              "\n",
              "    .dataframe tbody tr th {\n",
              "        vertical-align: top;\n",
              "    }\n",
              "\n",
              "    .dataframe thead th {\n",
              "        text-align: right;\n",
              "    }\n",
              "</style>\n",
              "<table border=\"1\" class=\"dataframe\">\n",
              "  <thead>\n",
              "    <tr style=\"text-align: right;\">\n",
              "      <th></th>\n",
              "      <th>Unidade da Federação</th>\n",
              "      <th>Ano</th>\n",
              "      <th>Cobertura Vacinal</th>\n",
              "    </tr>\n",
              "  </thead>\n",
              "  <tbody>\n",
              "    <tr>\n",
              "      <th>0</th>\n",
              "      <td>Acre</td>\n",
              "      <td>2009</td>\n",
              "      <td>97.22</td>\n",
              "    </tr>\n",
              "    <tr>\n",
              "      <th>80</th>\n",
              "      <td>Acre</td>\n",
              "      <td>2019</td>\n",
              "      <td>68.69</td>\n",
              "    </tr>\n",
              "    <tr>\n",
              "      <th>16</th>\n",
              "      <td>Acre</td>\n",
              "      <td>2011</td>\n",
              "      <td>96.38</td>\n",
              "    </tr>\n",
              "    <tr>\n",
              "      <th>72</th>\n",
              "      <td>Acre</td>\n",
              "      <td>2018</td>\n",
              "      <td>66.74</td>\n",
              "    </tr>\n",
              "    <tr>\n",
              "      <th>64</th>\n",
              "      <td>Acre</td>\n",
              "      <td>2017</td>\n",
              "      <td>62.66</td>\n",
              "    </tr>\n",
              "    <tr>\n",
              "      <th>...</th>\n",
              "      <td>...</td>\n",
              "      <td>...</td>\n",
              "      <td>...</td>\n",
              "    </tr>\n",
              "    <tr>\n",
              "      <th>66</th>\n",
              "      <td>São Paulo</td>\n",
              "      <td>2017</td>\n",
              "      <td>24.09</td>\n",
              "    </tr>\n",
              "    <tr>\n",
              "      <th>10</th>\n",
              "      <td>São Paulo</td>\n",
              "      <td>2010</td>\n",
              "      <td>19.21</td>\n",
              "    </tr>\n",
              "    <tr>\n",
              "      <th>50</th>\n",
              "      <td>São Paulo</td>\n",
              "      <td>2015</td>\n",
              "      <td>19.70</td>\n",
              "    </tr>\n",
              "    <tr>\n",
              "      <th>2</th>\n",
              "      <td>São Paulo</td>\n",
              "      <td>2009</td>\n",
              "      <td>17.18</td>\n",
              "    </tr>\n",
              "    <tr>\n",
              "      <th>74</th>\n",
              "      <td>São Paulo</td>\n",
              "      <td>2018</td>\n",
              "      <td>60.18</td>\n",
              "    </tr>\n",
              "  </tbody>\n",
              "</table>\n",
              "<p>88 rows × 3 columns</p>\n",
              "</div>"
            ],
            "text/plain": [
              "   Unidade da Federação   Ano  Cobertura Vacinal\n",
              "0                  Acre  2009              97.22\n",
              "80                 Acre  2019              68.69\n",
              "16                 Acre  2011              96.38\n",
              "72                 Acre  2018              66.74\n",
              "64                 Acre  2017              62.66\n",
              "..                  ...   ...                ...\n",
              "66            São Paulo  2017              24.09\n",
              "10            São Paulo  2010              19.21\n",
              "50            São Paulo  2015              19.70\n",
              "2             São Paulo  2009              17.18\n",
              "74            São Paulo  2018              60.18\n",
              "\n",
              "[88 rows x 3 columns]"
            ]
          },
          "metadata": {},
          "execution_count": 6
        }
      ]
    },
    {
      "cell_type": "markdown",
      "metadata": {
        "id": "CCfW2ByYZ89u"
      },
      "source": [
        "#### <font color= MediumSpringGreen> 1.1.2 Visualização de dados:"
      ]
    },
    {
      "cell_type": "code",
      "metadata": {
        "id": "4bllF1ymVRnn",
        "colab": {
          "base_uri": "https://localhost:8080/",
          "height": 495
        },
        "outputId": "67c01732-d2b9-4bbd-e5a9-121dcf343e28"
      },
      "source": [
        "plt.figure(figsize=(15,7))\n",
        "color=['#65cef3','#154f63','#1917af','#716084','#010a00','#8642a2','#213962',   \n",
        "       '#7077f3']                                                               #Definindo as cores\n",
        "ax = sns.lineplot(data=CV_porUF_2009_2019,x='Ano', y='Cobertura Vacinal',\n",
        "                  hue='Unidade da Federação',palette=color)                     #Criando o gráfico\n",
        "ax.yaxis.set_major_formatter(ticker.StrMethodFormatter('{x:,.0f}%'))            #Formatar números do eixo y\n",
        "ax.legend(loc='center right', bbox_to_anchor=(1.16, 0.8))                       #Ajustar legenda\n",
        "ax.set_xticklabels(CV_porUF_2009_2019['Ano'].unique(),rotation=30)              #Ajustar eixo x\n",
        "ax.set_facecolor('#f9f9f9')\n",
        "\n",
        "plt.ylim(0,140)                                                                 #Ajustar limite do eixo y\n",
        "plt.xlabel('Ano',size=13)                                                       #Modificar o rórulo do eixo x\n",
        "plt.ylabel('Cobertura Vacinal',size=13)                                         #Modificar o rórulo do eixo y\n",
        "plt.grid(axis='y',color='lightgray')                                            #Adicionar grid apenas no eixo y\n",
        "plt.title(\"Cobertura vacinal em UF's com casos confirmados de febre amarela\",\n",
        "          size=20)                                                              #Adicionar Título"
      ],
      "execution_count": 7,
      "outputs": [
        {
          "output_type": "execute_result",
          "data": {
            "text/plain": [
              "Text(0.5, 1.0, \"Cobertura vacinal em UF's com casos confirmados de febre amarela\")"
            ]
          },
          "metadata": {},
          "execution_count": 7
        },
        {
          "output_type": "display_data",
          "data": {
            "image/png": "[encoded data removed]",
            "text/plain": [
              "<Figure size 1080x504 with 1 Axes>"
            ]
          },
          "metadata": {
            "needs_background": "light"
          }
        }
      ]
    },
    {
      "cell_type": "markdown",
      "metadata": {
        "id": "1Z5tISS202rY"
      },
      "source": [
        "Durante esses dez anos as cobertura vacinal das UF's tiveram algumas oscilações, mas se aproximaram da faixa entre **60% e 85 %** em 2019.\n",
        "O grande aumento a partir de 2017, principalmente em **São Paulo e Santa Catarina** se dá pela crise da epidemia que se deu neste período no país. \n",
        "\n",
        "Entretanto ao decorrer deste período, a maioria não atingiram o recomoendado pela OPAS de **95%**, mas isto se dá pela estratégia usada em anos anteriores de não ter como foco estados da região sul e sudeste."
      ]
    },
    {
      "cell_type": "markdown",
      "metadata": {
        "id": "arlwxTxuNL8V"
      },
      "source": [
        "### <font color= MediumSpringGreen> 1.2 Cobertura vacinal entre 2020-2021:\n"
      ]
    },
    {
      "cell_type": "markdown",
      "metadata": {
        "id": "kxoNQN-Ff2Aj"
      },
      "source": [
        "#### <font color= MediumSpringGreen> 1.2.1 Manipulação de dados:\n"
      ]
    },
    {
      "cell_type": "code",
      "metadata": {
        "id": "8xjUAufSNWEC"
      },
      "source": [
        "CV_porUF_2020_2021 = CV_porUF_2020_2021.iloc[:,0:3]                                                                  #Excluindo coluna de total\n",
        "CV_porUF_2020_2021 = CV_porUF_2020_2021[:-1]                                                                         #Excluindo linha de total\n",
        "CV_porUF_2020_2021['Unidade da Federação'] = CV_porUF_2020_2021['Unidade da Federação'].str.split(' ', n=1).str[1]   #Excluindo código UF\n",
        "CV_porUF_2020_2021 = CV_porUF_2020_2021.set_index('Unidade da Federação')                                            #Modificando o index"
      ],
      "execution_count": 8,
      "outputs": []
    },
    {
      "cell_type": "code",
      "metadata": {
        "id": "08-sxq2CfD1m",
        "colab": {
          "base_uri": "https://localhost:8080/",
          "height": 0
        },
        "outputId": "8c60a4a8-1147-4043-e3eb-30ea88136c65"
      },
      "source": [
        "CV_porUF_2020_2021"
      ],
      "execution_count": 9,
      "outputs": [
        {
          "output_type": "execute_result",
          "data": {
            "text/html": [
              "<div>\n",
              "<style scoped>\n",
              "    .dataframe tbody tr th:only-of-type {\n",
              "        vertical-align: middle;\n",
              "    }\n",
              "\n",
              "    .dataframe tbody tr th {\n",
              "        vertical-align: top;\n",
              "    }\n",
              "\n",
              "    .dataframe thead th {\n",
              "        text-align: right;\n",
              "    }\n",
              "</style>\n",
              "<table border=\"1\" class=\"dataframe\">\n",
              "  <thead>\n",
              "    <tr style=\"text-align: right;\">\n",
              "      <th></th>\n",
              "      <th>2020</th>\n",
              "      <th>2021</th>\n",
              "    </tr>\n",
              "    <tr>\n",
              "      <th>Unidade da Federação</th>\n",
              "      <th></th>\n",
              "      <th></th>\n",
              "    </tr>\n",
              "  </thead>\n",
              "  <tbody>\n",
              "    <tr>\n",
              "      <th>Acre</th>\n",
              "      <td>49.21</td>\n",
              "      <td>39.18</td>\n",
              "    </tr>\n",
              "    <tr>\n",
              "      <th>Pará</th>\n",
              "      <td>48.94</td>\n",
              "      <td>36.98</td>\n",
              "    </tr>\n",
              "    <tr>\n",
              "      <th>São Paulo</th>\n",
              "      <td>69.02</td>\n",
              "      <td>52.25</td>\n",
              "    </tr>\n",
              "    <tr>\n",
              "      <th>Paraná</th>\n",
              "      <td>76.01</td>\n",
              "      <td>57.24</td>\n",
              "    </tr>\n",
              "    <tr>\n",
              "      <th>Santa Catarina</th>\n",
              "      <td>77.29</td>\n",
              "      <td>58.30</td>\n",
              "    </tr>\n",
              "    <tr>\n",
              "      <th>Rio Grande do Sul</th>\n",
              "      <td>60.68</td>\n",
              "      <td>47.77</td>\n",
              "    </tr>\n",
              "    <tr>\n",
              "      <th>Goiás</th>\n",
              "      <td>66.10</td>\n",
              "      <td>53.49</td>\n",
              "    </tr>\n",
              "    <tr>\n",
              "      <th>Distrito Federal</th>\n",
              "      <td>74.36</td>\n",
              "      <td>60.72</td>\n",
              "    </tr>\n",
              "  </tbody>\n",
              "</table>\n",
              "</div>"
            ],
            "text/plain": [
              "                       2020   2021\n",
              "Unidade da Federação              \n",
              "Acre                  49.21  39.18\n",
              "Pará                  48.94  36.98\n",
              "São Paulo             69.02  52.25\n",
              "Paraná                76.01  57.24\n",
              "Santa Catarina        77.29  58.30\n",
              "Rio Grande do Sul     60.68  47.77\n",
              "Goiás                 66.10  53.49\n",
              "Distrito Federal      74.36  60.72"
            ]
          },
          "metadata": {},
          "execution_count": 9
        }
      ]
    },
    {
      "cell_type": "code",
      "metadata": {
        "id": "SHV3u_8n7xbj"
      },
      "source": [
        "CV_porUF_2020_2021 = CV_porUF_2020_2021.reset_index().melt('Unidade da Federação',CV_porUF_2020_2021.columns)    #Resetendo index e derretendo df"
      ],
      "execution_count": 10,
      "outputs": []
    },
    {
      "cell_type": "code",
      "metadata": {
        "id": "l82UUI2C78Zj"
      },
      "source": [
        "CV_porUF_2020_2021.columns = ['Unidade da Federação', 'Ano', 'Cobertura Vacinal'] #Modificando nome da coluna"
      ],
      "execution_count": 11,
      "outputs": []
    },
    {
      "cell_type": "code",
      "metadata": {
        "colab": {
          "base_uri": "https://localhost:8080/",
          "height": 0
        },
        "id": "WKPaxpQC8Afj",
        "outputId": "764cefb8-aac6-4f78-9265-5d061e6fec40"
      },
      "source": [
        "CV_porUF_2020_2021.sort_values(by='Unidade da Federação')"
      ],
      "execution_count": 12,
      "outputs": [
        {
          "output_type": "execute_result",
          "data": {
            "text/html": [
              "<div>\n",
              "<style scoped>\n",
              "    .dataframe tbody tr th:only-of-type {\n",
              "        vertical-align: middle;\n",
              "    }\n",
              "\n",
              "    .dataframe tbody tr th {\n",
              "        vertical-align: top;\n",
              "    }\n",
              "\n",
              "    .dataframe thead th {\n",
              "        text-align: right;\n",
              "    }\n",
              "</style>\n",
              "<table border=\"1\" class=\"dataframe\">\n",
              "  <thead>\n",
              "    <tr style=\"text-align: right;\">\n",
              "      <th></th>\n",
              "      <th>Unidade da Federação</th>\n",
              "      <th>Ano</th>\n",
              "      <th>Cobertura Vacinal</th>\n",
              "    </tr>\n",
              "  </thead>\n",
              "  <tbody>\n",
              "    <tr>\n",
              "      <th>0</th>\n",
              "      <td>Acre</td>\n",
              "      <td>2020</td>\n",
              "      <td>49.21</td>\n",
              "    </tr>\n",
              "    <tr>\n",
              "      <th>8</th>\n",
              "      <td>Acre</td>\n",
              "      <td>2021</td>\n",
              "      <td>39.18</td>\n",
              "    </tr>\n",
              "    <tr>\n",
              "      <th>7</th>\n",
              "      <td>Distrito Federal</td>\n",
              "      <td>2020</td>\n",
              "      <td>74.36</td>\n",
              "    </tr>\n",
              "    <tr>\n",
              "      <th>15</th>\n",
              "      <td>Distrito Federal</td>\n",
              "      <td>2021</td>\n",
              "      <td>60.72</td>\n",
              "    </tr>\n",
              "    <tr>\n",
              "      <th>6</th>\n",
              "      <td>Goiás</td>\n",
              "      <td>2020</td>\n",
              "      <td>66.10</td>\n",
              "    </tr>\n",
              "    <tr>\n",
              "      <th>14</th>\n",
              "      <td>Goiás</td>\n",
              "      <td>2021</td>\n",
              "      <td>53.49</td>\n",
              "    </tr>\n",
              "    <tr>\n",
              "      <th>3</th>\n",
              "      <td>Paraná</td>\n",
              "      <td>2020</td>\n",
              "      <td>76.01</td>\n",
              "    </tr>\n",
              "    <tr>\n",
              "      <th>11</th>\n",
              "      <td>Paraná</td>\n",
              "      <td>2021</td>\n",
              "      <td>57.24</td>\n",
              "    </tr>\n",
              "    <tr>\n",
              "      <th>1</th>\n",
              "      <td>Pará</td>\n",
              "      <td>2020</td>\n",
              "      <td>48.94</td>\n",
              "    </tr>\n",
              "    <tr>\n",
              "      <th>9</th>\n",
              "      <td>Pará</td>\n",
              "      <td>2021</td>\n",
              "      <td>36.98</td>\n",
              "    </tr>\n",
              "    <tr>\n",
              "      <th>5</th>\n",
              "      <td>Rio Grande do Sul</td>\n",
              "      <td>2020</td>\n",
              "      <td>60.68</td>\n",
              "    </tr>\n",
              "    <tr>\n",
              "      <th>13</th>\n",
              "      <td>Rio Grande do Sul</td>\n",
              "      <td>2021</td>\n",
              "      <td>47.77</td>\n",
              "    </tr>\n",
              "    <tr>\n",
              "      <th>4</th>\n",
              "      <td>Santa Catarina</td>\n",
              "      <td>2020</td>\n",
              "      <td>77.29</td>\n",
              "    </tr>\n",
              "    <tr>\n",
              "      <th>12</th>\n",
              "      <td>Santa Catarina</td>\n",
              "      <td>2021</td>\n",
              "      <td>58.30</td>\n",
              "    </tr>\n",
              "    <tr>\n",
              "      <th>2</th>\n",
              "      <td>São Paulo</td>\n",
              "      <td>2020</td>\n",
              "      <td>69.02</td>\n",
              "    </tr>\n",
              "    <tr>\n",
              "      <th>10</th>\n",
              "      <td>São Paulo</td>\n",
              "      <td>2021</td>\n",
              "      <td>52.25</td>\n",
              "    </tr>\n",
              "  </tbody>\n",
              "</table>\n",
              "</div>"
            ],
            "text/plain": [
              "   Unidade da Federação   Ano  Cobertura Vacinal\n",
              "0                  Acre  2020              49.21\n",
              "8                  Acre  2021              39.18\n",
              "7      Distrito Federal  2020              74.36\n",
              "15     Distrito Federal  2021              60.72\n",
              "6                 Goiás  2020              66.10\n",
              "14                Goiás  2021              53.49\n",
              "3                Paraná  2020              76.01\n",
              "11               Paraná  2021              57.24\n",
              "1                  Pará  2020              48.94\n",
              "9                  Pará  2021              36.98\n",
              "5     Rio Grande do Sul  2020              60.68\n",
              "13    Rio Grande do Sul  2021              47.77\n",
              "4        Santa Catarina  2020              77.29\n",
              "12       Santa Catarina  2021              58.30\n",
              "2             São Paulo  2020              69.02\n",
              "10            São Paulo  2021              52.25"
            ]
          },
          "metadata": {},
          "execution_count": 12
        }
      ]
    },
    {
      "cell_type": "markdown",
      "metadata": {
        "id": "6hsHyPZJfQo1"
      },
      "source": [
        "#### <font color= MediumSpringGreen> 1.2.2 Visualização de dados:"
      ]
    },
    {
      "cell_type": "code",
      "metadata": {
        "id": "VNLFO2rkfPj9",
        "colab": {
          "base_uri": "https://localhost:8080/",
          "height": 548
        },
        "outputId": "9250c3d1-a4fe-4cf8-894b-47ae32a949d9"
      },
      "source": [
        "plt.figure(figsize=(15,8))\n",
        "color=['#65cef3','#154f63','#1917af','#716084','#010a00','#8642a2','#213962',   \n",
        "       '#7077f3']                                                               #Definindo as cores\n",
        "ax = sns.lineplot(data=CV_porUF_2020_2021,x='Ano', y='Cobertura Vacinal',\n",
        "                  hue='Unidade da Federação',palette=color)                     #Criando o gráfico\n",
        "ax.yaxis.set_major_formatter(ticker.StrMethodFormatter('{x:,.0f}%'))            #Formatar números do eixo y\n",
        "ax.set_xticklabels(['2020','2021'],rotation=30)                                 #Ajustar eixo x\n",
        "ax.set_facecolor('#f9f9f9')\n",
        "ax.legend(loc='lower right', bbox_to_anchor=(1.16, 0.1))                        #Ajustar legenda\n",
        "ax.text(1.06,58, \"Santa Catarina\\ncom 58%!\",fontsize=18)\n",
        "\n",
        "plt.ylim(0,80)                                                                  #Ajustar limite do eixo y\n",
        "plt.xlabel('Mês',size=13)                                                       #Modificar o rórulo do eixo x\n",
        "plt.ylabel('Cobertura Vacinal',size=13)                                         #Modificar o rórulo do eixo y\n",
        "plt.grid(axis='y',color='lightgray')                                            #Adicionar grid apenas no eixo y\n",
        "plt.title(\"Cobertura vacinal em UF's com casos confirmados de febre amarela\",\n",
        "          size=20)                                                              #Adicionar Título"
      ],
      "execution_count": 13,
      "outputs": [
        {
          "output_type": "execute_result",
          "data": {
            "text/plain": [
              "Text(0.5, 1.0, \"Cobertura vacinal em UF's com casos confirmados de febre amarela\")"
            ]
          },
          "metadata": {},
          "execution_count": 13
        },
        {
          "output_type": "display_data",
          "data": {
            "image/png": "[encoded data removed]",
            "text/plain": [
              "<Figure size 1080x576 with 1 Axes>"
            ]
          },
          "metadata": {
            "needs_background": "light"
          }
        }
      ]
    },
    {
      "cell_type": "markdown",
      "metadata": {
        "id": "Kjvd8H7LBJty"
      },
      "source": [
        "Ao visualizar os dados de 2020-2021, me surpreendeu a cobertura vacinal estar ainda em queda para 2021. \n",
        "\n",
        "Principalmente no estado de **Santa Catarina onde está com 58%** e é o maior foco no momento de risco da febre amarela.\n",
        "\n",
        "Possivelmente esse quadro de baixa ainda é por conta da pandemia do COVID-19, no qual o maior foco de ações de imunizações foram para o covid e as pessoas também não se alertaram para o grave problema da febre amarela."
      ]
    },
    {
      "cell_type": "markdown",
      "metadata": {
        "id": "45JY0CCoNauM"
      },
      "source": [
        "## <font color= MediumSpringGreen> 2. Cobertura vacinal por municípios em UF com casos confirmados de Febre Amarela\n",
        "\n",
        "\n"
      ]
    },
    {
      "cell_type": "markdown",
      "metadata": {
        "id": "JN9r6IbShOXx"
      },
      "source": [
        "1. **Os estados afetados em 2019/2020 foram:**\n",
        "\n",
        "  *   Casos confirmados em PNH: \n",
        "      * São Paulo\n",
        "      * Paraná \n",
        "      * Santa Catarina\n",
        "\n",
        "  *   Casos confirmados em humanos:\n",
        "    * Acre\n",
        "    * Pará\n",
        "    * Santa Catarina\n",
        "\n",
        "2. Os estados afetados em 2020/2021 foram:\n",
        "\n",
        "  *   Casos confirmados em PNH: \n",
        "    * Acre\n",
        "    * Distrito Federal \n",
        "    * Goiás\n",
        "    * São Paulo\n",
        "    * Paraná\n",
        "    * Santa Catarina\n",
        "    * Rio Grande do Sul\n",
        "\n",
        "  *   Casos confirmados em humanos:\n",
        "    * Santa Catarina"
      ]
    },
    {
      "cell_type": "markdown",
      "metadata": {
        "id": "Xc_1GAdeDsHg"
      },
      "source": [
        "Devido a variação de existir uma variação da cobertura vacinal entre os municípios afetados de um mesmo estado. \n",
        "\n",
        "Buscarei entender quais como são as **distribuições** entre eles.\n",
        "\n",
        "Também procurarei entender como se deu a **evolução da cobertura vacinal de 2020 para 2021** nos municípios afetados em 2020.\n",
        "\n",
        "Por final neste tópico verificarei como estão **classificados** os municípios afetados em 2021 de acordo com a **meta (95%) e recomendação mínima (80%)** estipulada pela OPAS."
      ]
    },
    {
      "cell_type": "markdown",
      "metadata": {
        "id": "l3ilC8mjOLIj"
      },
      "source": [
        "### <font color= MediumSpringGreen> 2.1 Distribuição da cobertura vacinal dos municípios afetados em 2020\n",
        "\n",
        "Analisarei os municípios dos estados:\n",
        "\n",
        "Acre\n",
        "Pará\n",
        "Paraná\n",
        "Santa Catarina\n",
        "São Paulo"
      ]
    },
    {
      "cell_type": "markdown",
      "metadata": {
        "id": "UPIOVK7QksmU"
      },
      "source": [
        "Analisarei os municípios dos estados: \n",
        "* Acre\n",
        "* Pará\n",
        "* Paraná\n",
        "* Santa Catarina\n",
        "* São Paulo\n",
        "\n"
      ]
    },
    {
      "cell_type": "markdown",
      "metadata": {
        "id": "iuYcP1JigkW7"
      },
      "source": [
        "#### <font color= MediumSpringGreen> 2.1.1 Manipulação de dados:\n"
      ]
    },
    {
      "cell_type": "markdown",
      "metadata": {
        "id": "B8CaGZogUjAg"
      },
      "source": [
        "Irei limpar os dados de cobertura vacinais no qual já baixei do Tabnet."
      ]
    },
    {
      "cell_type": "code",
      "metadata": {
        "id": "JKdl1SQmlBMi"
      },
      "source": [
        "CV_porM_afetados2020_2020_2021 = CV_porM_afetados2020_2020_2021.iloc[:,0:3]       #Excluindo coluna de total\n",
        "CV_porM_afetados2020_2020_2021 = CV_porM_afetados2020_2020_2021[:-1]              #Excluindo linha de total\n",
        "codigo_uf = CV_porM_afetados2020_2020_2021['Município'].str[0:2]                  #Criando series com código da UF\n",
        "CV_porM_afetados2020_2020_2021.insert(0, 'UF', codigo_uf, allow_duplicates=False) #Adicionando coluna com o código da UF\n"
      ],
      "execution_count": 14,
      "outputs": []
    },
    {
      "cell_type": "code",
      "metadata": {
        "id": "OXAPyDEmYRGq"
      },
      "source": [
        "CV_porM_afetados2020_2020_2021['UF'] = CV_porM_afetados2020_2020_2021['UF'].map(          #Mapeando nome da UF \n",
        "                          {'12':'Acre','15':'Pará',\n",
        "                           '35':'São Paulo',\n",
        "                           '41':'Paraná','42':'Santa Catarina'})"
      ],
      "execution_count": 15,
      "outputs": []
    },
    {
      "cell_type": "code",
      "metadata": {
        "id": "eAX8-0r3oHyd"
      },
      "source": [
        "CV_porM_afetados2020_2020_2021['Município'] = CV_porM_afetados2020_2020_2021['Município'].str.split(' ', n=1).str[1]  #Excluindo código do município\n",
        "CV_porM_afetados2020_2020_2021 = CV_porM_afetados2020_2020_2021.set_index('UF')                                #Refazendo o índice"
      ],
      "execution_count": 16,
      "outputs": []
    },
    {
      "cell_type": "code",
      "metadata": {
        "id": "ueRB4MrYXlqk",
        "colab": {
          "base_uri": "https://localhost:8080/",
          "height": 454
        },
        "outputId": "0ff303fb-cf84-47cc-8f34-898ebf0422c2"
      },
      "source": [
        "CV_porM_afetados2020_2020_2021"
      ],
      "execution_count": 17,
      "outputs": [
        {
          "output_type": "execute_result",
          "data": {
            "text/html": [
              "<div>\n",
              "<style scoped>\n",
              "    .dataframe tbody tr th:only-of-type {\n",
              "        vertical-align: middle;\n",
              "    }\n",
              "\n",
              "    .dataframe tbody tr th {\n",
              "        vertical-align: top;\n",
              "    }\n",
              "\n",
              "    .dataframe thead th {\n",
              "        text-align: right;\n",
              "    }\n",
              "</style>\n",
              "<table border=\"1\" class=\"dataframe\">\n",
              "  <thead>\n",
              "    <tr style=\"text-align: right;\">\n",
              "      <th></th>\n",
              "      <th>Município</th>\n",
              "      <th>2020</th>\n",
              "      <th>2021</th>\n",
              "    </tr>\n",
              "    <tr>\n",
              "      <th>UF</th>\n",
              "      <th></th>\n",
              "      <th></th>\n",
              "      <th></th>\n",
              "    </tr>\n",
              "  </thead>\n",
              "  <tbody>\n",
              "    <tr>\n",
              "      <th>Acre</th>\n",
              "      <td>ACRELANDIA</td>\n",
              "      <td>78.91</td>\n",
              "      <td>47.46</td>\n",
              "    </tr>\n",
              "    <tr>\n",
              "      <th>Acre</th>\n",
              "      <td>ASSIS BRASIL</td>\n",
              "      <td>55.65</td>\n",
              "      <td>26.23</td>\n",
              "    </tr>\n",
              "    <tr>\n",
              "      <th>Acre</th>\n",
              "      <td>BRASILEIA</td>\n",
              "      <td>56.32</td>\n",
              "      <td>30.51</td>\n",
              "    </tr>\n",
              "    <tr>\n",
              "      <th>Acre</th>\n",
              "      <td>BUJARI</td>\n",
              "      <td>38.76</td>\n",
              "      <td>29.80</td>\n",
              "    </tr>\n",
              "    <tr>\n",
              "      <th>Acre</th>\n",
              "      <td>CAPIXABA</td>\n",
              "      <td>23.05</td>\n",
              "      <td>21.11</td>\n",
              "    </tr>\n",
              "    <tr>\n",
              "      <th>...</th>\n",
              "      <td>...</td>\n",
              "      <td>...</td>\n",
              "      <td>...</td>\n",
              "    </tr>\n",
              "    <tr>\n",
              "      <th>Santa Catarina</th>\n",
              "      <td>XANXERE</td>\n",
              "      <td>58.44</td>\n",
              "      <td>11.64</td>\n",
              "    </tr>\n",
              "    <tr>\n",
              "      <th>Santa Catarina</th>\n",
              "      <td>XAVANTINA</td>\n",
              "      <td>72.22</td>\n",
              "      <td>121.74</td>\n",
              "    </tr>\n",
              "    <tr>\n",
              "      <th>Santa Catarina</th>\n",
              "      <td>XAXIM</td>\n",
              "      <td>85.78</td>\n",
              "      <td>60.74</td>\n",
              "    </tr>\n",
              "    <tr>\n",
              "      <th>Santa Catarina</th>\n",
              "      <td>ZORTEA</td>\n",
              "      <td>160.47</td>\n",
              "      <td>52.46</td>\n",
              "    </tr>\n",
              "    <tr>\n",
              "      <th>Santa Catarina</th>\n",
              "      <td>BALNEARIO RINCAO</td>\n",
              "      <td>70.77</td>\n",
              "      <td>35.39</td>\n",
              "    </tr>\n",
              "  </tbody>\n",
              "</table>\n",
              "<p>1505 rows × 3 columns</p>\n",
              "</div>"
            ],
            "text/plain": [
              "                       Município    2020    2021\n",
              "UF                                              \n",
              "Acre                  ACRELANDIA   78.91   47.46\n",
              "Acre                ASSIS BRASIL   55.65   26.23\n",
              "Acre                   BRASILEIA   56.32   30.51\n",
              "Acre                      BUJARI   38.76   29.80\n",
              "Acre                    CAPIXABA   23.05   21.11\n",
              "...                          ...     ...     ...\n",
              "Santa Catarina           XANXERE   58.44   11.64\n",
              "Santa Catarina         XAVANTINA   72.22  121.74\n",
              "Santa Catarina             XAXIM   85.78   60.74\n",
              "Santa Catarina            ZORTEA  160.47   52.46\n",
              "Santa Catarina  BALNEARIO RINCAO   70.77   35.39\n",
              "\n",
              "[1505 rows x 3 columns]"
            ]
          },
          "metadata": {},
          "execution_count": 17
        }
      ]
    },
    {
      "cell_type": "markdown",
      "metadata": {
        "id": "ANVk884zUw24"
      },
      "source": [
        "Baixarei o quadro localizado no pdf do boletim para listar os municípios afetados."
      ]
    },
    {
      "cell_type": "code",
      "metadata": {
        "id": "FAnkGRQ-Hvc_"
      },
      "source": [
        "municipios_afetados_2020 = tabula.read_pdf('https://www.gov.br/saude/pt-br/assuntos/media/pdf/2020/dezembro/09/boletim_epidemiologico_svs_46.pdf',\n",
        "                                           pages='19')                          #Lendo quadro do pdf com municpios afetados"
      ],
      "execution_count": 18,
      "outputs": []
    },
    {
      "cell_type": "code",
      "metadata": {
        "id": "ReU2ToKJKati"
      },
      "source": [
        "municipios_afetados2020 = pd.DataFrame(np.array(municipios_afetados_2020).reshape(24,6)) #Transformando lista dos dados em DataFrame\n",
        "municipios_afetados2020 = municipios_afetados2020.iloc[:,[1,3,5]]                        #Escolhendo colunas apenas com municípios"
      ],
      "execution_count": 19,
      "outputs": []
    },
    {
      "cell_type": "code",
      "metadata": {
        "id": "0i6wCwVWT4S5"
      },
      "source": [
        "municipios_afetados2020 = pd.concat([municipios_afetados2020[1],municipios_afetados2020[3],municipios_afetados2020[5]])   #Concatenando colunas\n",
        "municipios_afetados2020 = municipios_afetados2020.dropna()                                                                #Excluindo NA\n",
        "municipios_afetados2020 = list(municipios_afetados2020)                                                                   #Listando municípios"
      ],
      "execution_count": 20,
      "outputs": []
    },
    {
      "cell_type": "markdown",
      "metadata": {
        "id": "Wp3I_qU-sxEM"
      },
      "source": [
        "Retirarei os acentos dos municípios e farei um filtro na tabela para listar apenas os municípios afetados."
      ]
    },
    {
      "cell_type": "code",
      "metadata": {
        "id": "YZeBmacao-qj"
      },
      "source": [
        "municipios_2020_sem_acento = []                                                 #Criando varivel para lista\n",
        "\n",
        "for palavra in municipios_afetados2020:                                         #Criando loop para cada palavra  \n",
        "  palavra = unidecode.unidecode(palavra)                                        #retirando o acento\n",
        "  municipios_2020_sem_acento.append(palavra)                                    #Adicionando cada palabra dentro da lista\n"
      ],
      "execution_count": 21,
      "outputs": []
    },
    {
      "cell_type": "code",
      "metadata": {
        "id": "kYTD2owvVaJq"
      },
      "source": [
        "selecao = CV_porM_afetados2020_2020_2021['Município'].isin(municipios_2020_sem_acento)       #Criando Series de selecao dos municipos afetados\n",
        "CV_municipios_afetados2020 = CV_porM_afetados2020_2020_2021[selecao]                         #Filtrando tabela"
      ],
      "execution_count": 22,
      "outputs": []
    },
    {
      "cell_type": "code",
      "metadata": {
        "colab": {
          "base_uri": "https://localhost:8080/",
          "height": 454
        },
        "id": "5qPgwTa9CdsA",
        "outputId": "f4ae52c5-39c8-48c9-d3d5-929a1fe3679f"
      },
      "source": [
        "CV_municipios_afetados2020"
      ],
      "execution_count": 23,
      "outputs": [
        {
          "output_type": "execute_result",
          "data": {
            "text/html": [
              "<div>\n",
              "<style scoped>\n",
              "    .dataframe tbody tr th:only-of-type {\n",
              "        vertical-align: middle;\n",
              "    }\n",
              "\n",
              "    .dataframe tbody tr th {\n",
              "        vertical-align: top;\n",
              "    }\n",
              "\n",
              "    .dataframe thead th {\n",
              "        text-align: right;\n",
              "    }\n",
              "</style>\n",
              "<table border=\"1\" class=\"dataframe\">\n",
              "  <thead>\n",
              "    <tr style=\"text-align: right;\">\n",
              "      <th></th>\n",
              "      <th>Município</th>\n",
              "      <th>2020</th>\n",
              "      <th>2021</th>\n",
              "    </tr>\n",
              "    <tr>\n",
              "      <th>UF</th>\n",
              "      <th></th>\n",
              "      <th></th>\n",
              "      <th></th>\n",
              "    </tr>\n",
              "  </thead>\n",
              "  <tbody>\n",
              "    <tr>\n",
              "      <th>Acre</th>\n",
              "      <td>ACRELANDIA</td>\n",
              "      <td>78.91</td>\n",
              "      <td>47.46</td>\n",
              "    </tr>\n",
              "    <tr>\n",
              "      <th>Pará</th>\n",
              "      <td>SANTAREM</td>\n",
              "      <td>44.71</td>\n",
              "      <td>28.67</td>\n",
              "    </tr>\n",
              "    <tr>\n",
              "      <th>São Paulo</th>\n",
              "      <td>ATIBAIA</td>\n",
              "      <td>84.60</td>\n",
              "      <td>64.18</td>\n",
              "    </tr>\n",
              "    <tr>\n",
              "      <th>São Paulo</th>\n",
              "      <td>BARUERI</td>\n",
              "      <td>65.27</td>\n",
              "      <td>12.03</td>\n",
              "    </tr>\n",
              "    <tr>\n",
              "      <th>São Paulo</th>\n",
              "      <td>ITUPEVA</td>\n",
              "      <td>84.77</td>\n",
              "      <td>56.84</td>\n",
              "    </tr>\n",
              "    <tr>\n",
              "      <th>...</th>\n",
              "      <td>...</td>\n",
              "      <td>...</td>\n",
              "      <td>...</td>\n",
              "    </tr>\n",
              "    <tr>\n",
              "      <th>Santa Catarina</th>\n",
              "      <td>POMERODE</td>\n",
              "      <td>107.82</td>\n",
              "      <td>72.70</td>\n",
              "    </tr>\n",
              "    <tr>\n",
              "      <th>Santa Catarina</th>\n",
              "      <td>RIO NEGRINHO</td>\n",
              "      <td>81.51</td>\n",
              "      <td>56.16</td>\n",
              "    </tr>\n",
              "    <tr>\n",
              "      <th>Santa Catarina</th>\n",
              "      <td>SAO BENTO DO SUL</td>\n",
              "      <td>97.79</td>\n",
              "      <td>86.27</td>\n",
              "    </tr>\n",
              "    <tr>\n",
              "      <th>Santa Catarina</th>\n",
              "      <td>TIMBO</td>\n",
              "      <td>107.52</td>\n",
              "      <td>81.74</td>\n",
              "    </tr>\n",
              "    <tr>\n",
              "      <th>Santa Catarina</th>\n",
              "      <td>TURVO</td>\n",
              "      <td>66.29</td>\n",
              "      <td>49.38</td>\n",
              "    </tr>\n",
              "  </tbody>\n",
              "</table>\n",
              "<p>72 rows × 3 columns</p>\n",
              "</div>"
            ],
            "text/plain": [
              "                       Município    2020   2021\n",
              "UF                                             \n",
              "Acre                  ACRELANDIA   78.91  47.46\n",
              "Pará                    SANTAREM   44.71  28.67\n",
              "São Paulo                ATIBAIA   84.60  64.18\n",
              "São Paulo                BARUERI   65.27  12.03\n",
              "São Paulo                ITUPEVA   84.77  56.84\n",
              "...                          ...     ...    ...\n",
              "Santa Catarina          POMERODE  107.82  72.70\n",
              "Santa Catarina      RIO NEGRINHO   81.51  56.16\n",
              "Santa Catarina  SAO BENTO DO SUL   97.79  86.27\n",
              "Santa Catarina             TIMBO  107.52  81.74\n",
              "Santa Catarina             TURVO   66.29  49.38\n",
              "\n",
              "[72 rows x 3 columns]"
            ]
          },
          "metadata": {},
          "execution_count": 23
        }
      ]
    },
    {
      "cell_type": "code",
      "metadata": {
        "colab": {
          "base_uri": "https://localhost:8080/",
          "height": 112
        },
        "id": "-qlze2cFChU4",
        "outputId": "40044f15-234d-4587-e7f5-2557e206b888"
      },
      "source": [
        "CV_municipios_afetados2020.query('UF==\"Acre\"')"
      ],
      "execution_count": 24,
      "outputs": [
        {
          "output_type": "execute_result",
          "data": {
            "text/html": [
              "<div>\n",
              "<style scoped>\n",
              "    .dataframe tbody tr th:only-of-type {\n",
              "        vertical-align: middle;\n",
              "    }\n",
              "\n",
              "    .dataframe tbody tr th {\n",
              "        vertical-align: top;\n",
              "    }\n",
              "\n",
              "    .dataframe thead th {\n",
              "        text-align: right;\n",
              "    }\n",
              "</style>\n",
              "<table border=\"1\" class=\"dataframe\">\n",
              "  <thead>\n",
              "    <tr style=\"text-align: right;\">\n",
              "      <th></th>\n",
              "      <th>Município</th>\n",
              "      <th>2020</th>\n",
              "      <th>2021</th>\n",
              "    </tr>\n",
              "    <tr>\n",
              "      <th>UF</th>\n",
              "      <th></th>\n",
              "      <th></th>\n",
              "      <th></th>\n",
              "    </tr>\n",
              "  </thead>\n",
              "  <tbody>\n",
              "    <tr>\n",
              "      <th>Acre</th>\n",
              "      <td>ACRELANDIA</td>\n",
              "      <td>78.91</td>\n",
              "      <td>47.46</td>\n",
              "    </tr>\n",
              "  </tbody>\n",
              "</table>\n",
              "</div>"
            ],
            "text/plain": [
              "       Município   2020   2021\n",
              "UF                            \n",
              "Acre  ACRELANDIA  78.91  47.46"
            ]
          },
          "metadata": {},
          "execution_count": 24
        }
      ]
    },
    {
      "cell_type": "code",
      "metadata": {
        "colab": {
          "base_uri": "https://localhost:8080/",
          "height": 112
        },
        "id": "tAiq9P3eCp7R",
        "outputId": "47a9a181-b50f-4655-aaa2-8241f115873f"
      },
      "source": [
        "CV_municipios_afetados2020.query('UF==\"Pará\"')"
      ],
      "execution_count": 25,
      "outputs": [
        {
          "output_type": "execute_result",
          "data": {
            "text/html": [
              "<div>\n",
              "<style scoped>\n",
              "    .dataframe tbody tr th:only-of-type {\n",
              "        vertical-align: middle;\n",
              "    }\n",
              "\n",
              "    .dataframe tbody tr th {\n",
              "        vertical-align: top;\n",
              "    }\n",
              "\n",
              "    .dataframe thead th {\n",
              "        text-align: right;\n",
              "    }\n",
              "</style>\n",
              "<table border=\"1\" class=\"dataframe\">\n",
              "  <thead>\n",
              "    <tr style=\"text-align: right;\">\n",
              "      <th></th>\n",
              "      <th>Município</th>\n",
              "      <th>2020</th>\n",
              "      <th>2021</th>\n",
              "    </tr>\n",
              "    <tr>\n",
              "      <th>UF</th>\n",
              "      <th></th>\n",
              "      <th></th>\n",
              "      <th></th>\n",
              "    </tr>\n",
              "  </thead>\n",
              "  <tbody>\n",
              "    <tr>\n",
              "      <th>Pará</th>\n",
              "      <td>SANTAREM</td>\n",
              "      <td>44.71</td>\n",
              "      <td>28.67</td>\n",
              "    </tr>\n",
              "  </tbody>\n",
              "</table>\n",
              "</div>"
            ],
            "text/plain": [
              "     Município   2020   2021\n",
              "UF                          \n",
              "Pará  SANTAREM  44.71  28.67"
            ]
          },
          "metadata": {},
          "execution_count": 25
        }
      ]
    },
    {
      "cell_type": "code",
      "metadata": {
        "colab": {
          "base_uri": "https://localhost:8080/",
          "height": 206
        },
        "id": "KHzOb0MMCrvd",
        "outputId": "8a14fb7a-e63b-41cc-f95c-31453fac6b66"
      },
      "source": [
        "CV_municipios_afetados2020.query('UF==\"São Paulo\"')"
      ],
      "execution_count": 26,
      "outputs": [
        {
          "output_type": "execute_result",
          "data": {
            "text/html": [
              "<div>\n",
              "<style scoped>\n",
              "    .dataframe tbody tr th:only-of-type {\n",
              "        vertical-align: middle;\n",
              "    }\n",
              "\n",
              "    .dataframe tbody tr th {\n",
              "        vertical-align: top;\n",
              "    }\n",
              "\n",
              "    .dataframe thead th {\n",
              "        text-align: right;\n",
              "    }\n",
              "</style>\n",
              "<table border=\"1\" class=\"dataframe\">\n",
              "  <thead>\n",
              "    <tr style=\"text-align: right;\">\n",
              "      <th></th>\n",
              "      <th>Município</th>\n",
              "      <th>2020</th>\n",
              "      <th>2021</th>\n",
              "    </tr>\n",
              "    <tr>\n",
              "      <th>UF</th>\n",
              "      <th></th>\n",
              "      <th></th>\n",
              "      <th></th>\n",
              "    </tr>\n",
              "  </thead>\n",
              "  <tbody>\n",
              "    <tr>\n",
              "      <th>São Paulo</th>\n",
              "      <td>ATIBAIA</td>\n",
              "      <td>84.60</td>\n",
              "      <td>64.18</td>\n",
              "    </tr>\n",
              "    <tr>\n",
              "      <th>São Paulo</th>\n",
              "      <td>BARUERI</td>\n",
              "      <td>65.27</td>\n",
              "      <td>12.03</td>\n",
              "    </tr>\n",
              "    <tr>\n",
              "      <th>São Paulo</th>\n",
              "      <td>ITUPEVA</td>\n",
              "      <td>84.77</td>\n",
              "      <td>56.84</td>\n",
              "    </tr>\n",
              "    <tr>\n",
              "      <th>São Paulo</th>\n",
              "      <td>SERRA NEGRA</td>\n",
              "      <td>70.49</td>\n",
              "      <td>53.79</td>\n",
              "    </tr>\n",
              "  </tbody>\n",
              "</table>\n",
              "</div>"
            ],
            "text/plain": [
              "             Município   2020   2021\n",
              "UF                                  \n",
              "São Paulo      ATIBAIA  84.60  64.18\n",
              "São Paulo      BARUERI  65.27  12.03\n",
              "São Paulo      ITUPEVA  84.77  56.84\n",
              "São Paulo  SERRA NEGRA  70.49  53.79"
            ]
          },
          "metadata": {},
          "execution_count": 26
        }
      ]
    },
    {
      "cell_type": "code",
      "metadata": {
        "colab": {
          "base_uri": "https://localhost:8080/"
        },
        "id": "IXj9jMI8CubP",
        "outputId": "ebd23a4a-085f-4515-f275-badee872889e"
      },
      "source": [
        "len(CV_municipios_afetados2020.query('UF==\"Paraná\"'))"
      ],
      "execution_count": 27,
      "outputs": [
        {
          "output_type": "execute_result",
          "data": {
            "text/plain": [
              "44"
            ]
          },
          "metadata": {},
          "execution_count": 27
        }
      ]
    },
    {
      "cell_type": "code",
      "metadata": {
        "colab": {
          "base_uri": "https://localhost:8080/"
        },
        "id": "1CGRRJTuC0tn",
        "outputId": "9c1c5ccc-bc63-4cd8-cd99-cc48ca93f69a"
      },
      "source": [
        "len(CV_municipios_afetados2020.query('UF==\"Santa Catarina\"'))"
      ],
      "execution_count": 28,
      "outputs": [
        {
          "output_type": "execute_result",
          "data": {
            "text/plain": [
              "22"
            ]
          },
          "metadata": {},
          "execution_count": 28
        }
      ]
    },
    {
      "cell_type": "markdown",
      "metadata": {
        "id": "pczvehrvgopa"
      },
      "source": [
        "#### <font color= MediumSpringGreen> 2.1.2 Visualização de dados:\n"
      ]
    },
    {
      "cell_type": "markdown",
      "metadata": {
        "id": "qQ51dcQhDiN-"
      },
      "source": [
        "O estado do Acre por possuir apenas uma cidade informarei o valor único."
      ]
    },
    {
      "cell_type": "code",
      "metadata": {
        "colab": {
          "base_uri": "https://localhost:8080/",
          "height": 348
        },
        "id": "vkzGSc-7Dg4A",
        "outputId": "660c0244-12b8-4eb6-ddc9-9f4158344b98"
      },
      "source": [
        "plt.figure(figsize=(8, 5))                                                      #Ajustando o tamanho\n",
        "\n",
        "for spine in plt.gca().spines.values():                                         #Removendo os eixos do gráfico\n",
        "    spine.set_visible(False)\n",
        "\n",
        "plt.tick_params(bottom=False, left=False, labelleft=False, labelbottom=False)   #Excluindo os valores dos eixos\n",
        "\n",
        "plt.text(-0.15, 1.03,'Cobertura vacinal em 2020'+' '*40,                        #Colocando o título\n",
        "         fontsize=26,color='black', weight=\"bold\")\n",
        "plt.text(-0.15, 0.86,'Acrelândia-AC',fontsize=22, color='black')                #Colocando a localidade                            \n",
        "plt.text(-0.15, 0.40,'$\\\\bf{78\\%}$',fontsize=122,color='#5e0019')               #Adicionando valor da cv\n",
        "plt.text(-0.15, 0.17,'O valor da meta é 95% e recomendação mínima 80%.',        #Adicionando legenda da recomendação mínima\n",
        "         fontsize=19,\n",
        "         color='#616364')\n"
      ],
      "execution_count": 29,
      "outputs": [
        {
          "output_type": "execute_result",
          "data": {
            "text/plain": [
              "Text(-0.15, 0.17, 'O valor da meta é 95% e recomendação mínima 80%.')"
            ]
          },
          "metadata": {},
          "execution_count": 29
        },
        {
          "output_type": "display_data",
          "data": {
            "image/png": "[encoded data removed]",
            "text/plain": [
              "<Figure size 576x360 with 1 Axes>"
            ]
          },
          "metadata": {}
        }
      ]
    },
    {
      "cell_type": "markdown",
      "metadata": {
        "id": "HtZt48QDOeiT"
      },
      "source": [
        "Acrelândia quase atingiu a recomendação mínima em 2020, entretanto é mais grave devido a ser uma localização afetada e  foi o local onde teve um caso em humano."
      ]
    },
    {
      "cell_type": "markdown",
      "metadata": {
        "id": "7Sux9jNnOXmr"
      },
      "source": [
        "O estado do Pará também teve apenas uma cidade afetada."
      ]
    },
    {
      "cell_type": "code",
      "metadata": {
        "colab": {
          "base_uri": "https://localhost:8080/",
          "height": 348
        },
        "id": "oIebXhbYM4ao",
        "outputId": "e4b00b3b-cad7-4355-d88f-dad292efa562"
      },
      "source": [
        "plt.figure(figsize=(8, 5))                                                      #Ajustando o tamanho\n",
        "\n",
        "for spine in plt.gca().spines.values():                                         #Removendo os eixos do gráfico\n",
        "    spine.set_visible(False)\n",
        "\n",
        "plt.tick_params(bottom=False, left=False, labelleft=False, labelbottom=False)   #Excluindo os valores dos eixos\n",
        "\n",
        "plt.text(-0.15, 1.03,'Cobertura vacinal em 2020'+' '*40,                        #Colocando o título\n",
        "         fontsize=26,color='black', weight=\"bold\")\n",
        "plt.text(-0.15, 0.86,'Santarém-PA',fontsize=22, color='black')                  #Colocando a localidade                            \n",
        "plt.text(-0.15, 0.40,'$\\\\bf{48\\%}$',fontsize=122,color='#5e0019')               #Adicionando valor da cv\n",
        "plt.text(-0.15, 0.17,'O valor da meta é 95% e recomendação mínima 80%.',        #Adicionando legenda da recomendação mínima\n",
        "         fontsize=19,\n",
        "         color='#616364')"
      ],
      "execution_count": 30,
      "outputs": [
        {
          "output_type": "execute_result",
          "data": {
            "text/plain": [
              "Text(-0.15, 0.17, 'O valor da meta é 95% e recomendação mínima 80%.')"
            ]
          },
          "metadata": {},
          "execution_count": 30
        },
        {
          "output_type": "display_data",
          "data": {
            "image/png": "[encoded data removed]",
            "text/plain": [
              "<Figure size 576x360 with 1 Axes>"
            ]
          },
          "metadata": {}
        }
      ]
    },
    {
      "cell_type": "markdown",
      "metadata": {
        "id": "Raa2wQtnO4Va"
      },
      "source": [
        "Em Santarém se agravou muito mais, pois atingiu praticamente a metade do valor da recomendação mínima.\n",
        "Foi também o outro lugar onde teve um caso em humano."
      ]
    },
    {
      "cell_type": "markdown",
      "metadata": {
        "id": "Sc74fZIAZvaG"
      },
      "source": [
        "Em São Paulo se teve apenas 4 cidades afetadas em 2020."
      ]
    },
    {
      "cell_type": "code",
      "metadata": {
        "id": "nr4PB-LkPfNj"
      },
      "source": [
        "SP_2020 = CV_municipios_afetados2020.query('UF==\"São Paulo\"').drop(columns='2021').sort_values(by='2020')   #Filtrando DataFrame"
      ],
      "execution_count": 31,
      "outputs": []
    },
    {
      "cell_type": "code",
      "metadata": {
        "colab": {
          "base_uri": "https://localhost:8080/",
          "height": 410
        },
        "id": "MZehL0khWCzd",
        "outputId": "75c248f8-a1e6-4029-aafe-4e2e9cfec5e6"
      },
      "source": [
        "plt.figure(figsize=(12, 6))                                                     #Ajustando o tamanho\n",
        "color=['#CD5C5C','#CD5C5C','#FF7F50','#FF7F50']\n",
        "ax =sns.barplot(data=SP_2020,y='2020',x='Município',palette = color)            #Criando grafico\n",
        "ax.yaxis.set_major_formatter(ticker.StrMethodFormatter('{x:,.0f}%'))            #Formatar números do eixo y\n",
        "\n",
        "plt.ylabel(None)                                                                #Modificar o rórulo do eixo x\n",
        "plt.xlabel(None)                                                                #Modificar o rórulo do eixo x\n",
        "plt.ylim(0,100)                                                                 #Ajustar limite do eixo y\n",
        "plt.title(\"Cobertura vacinal dos municípios afetados no estado de SP em 2020\",\n",
        "          size=16)                                                              #Adicionar Título"
      ],
      "execution_count": 32,
      "outputs": [
        {
          "output_type": "execute_result",
          "data": {
            "text/plain": [
              "Text(0.5, 1.0, 'Cobertura vacinal dos municípios afetados no estado de SP em 2020')"
            ]
          },
          "metadata": {},
          "execution_count": 32
        },
        {
          "output_type": "display_data",
          "data": {
            "image/png": "[encoded data removed]",
            "text/plain": [
              "<Figure size 864x432 with 1 Axes>"
            ]
          },
          "metadata": {
            "needs_background": "light"
          }
        }
      ]
    },
    {
      "cell_type": "markdown",
      "metadata": {
        "id": "mrOXnCWoeNze"
      },
      "source": [
        "Dentre os 4 de São Paulo, 2 municípios ficaram abaixo da recomendação mínima e dois acima dos 80%."
      ]
    },
    {
      "cell_type": "markdown",
      "metadata": {
        "id": "-xSOMVkvgfja"
      },
      "source": [
        "O estado do Paraná teve 44 municípios afetados:"
      ]
    },
    {
      "cell_type": "code",
      "metadata": {
        "id": "AZdPpVyegqH6"
      },
      "source": [
        "PR_2020 = CV_municipios_afetados2020.query('UF==\"Paraná\"').drop(columns='2021').sort_values(by='2020')   #Filtrando DataFrame"
      ],
      "execution_count": 33,
      "outputs": []
    },
    {
      "cell_type": "code",
      "metadata": {
        "colab": {
          "base_uri": "https://localhost:8080/",
          "height": 542
        },
        "id": "1Zl5yKq3hZkR",
        "outputId": "238c0c90-22d7-4f99-82c1-e01b89a378c9"
      },
      "source": [
        "fig = px.box(PR_2020,y='2020')                                                  #Criando gráfico\n",
        "\n",
        "fig.update_layout(\n",
        "    title=\"Cobertura vacinal dos municípios afetados no estado do PR em 2020\",  #Título\n",
        "    yaxis_title=None)                                                           #Excluindo label do eixo y\n",
        "layout = go.Layout(yaxis=dict(range=[0, 150]))                                  #Modificando range do eixo y\n",
        "fig.show()"
      ],
      "execution_count": 34,
      "outputs": [
        {
          "output_type": "display_data",
          "data": {
            "text/html": [
              "<html>\n",
              "<head><meta charset=\"utf-8\" /></head>\n",
              "<body>\n",
              "    <div>\n",
              "            <script src=\"https://cdnjs.cloudflare.com/ajax/libs/mathjax/2.7.5/MathJax.js?config=TeX-AMS-MML_SVG\"></script><script type=\"text/javascript\">if (window.MathJax) {MathJax.Hub.Config({SVG: {font: \"STIX-Web\"}});}</script>\n",
              "                <script type=\"text/javascript\">window.PlotlyConfig = {MathJaxConfig: 'local'};</script>\n",
              "        <script src=\"https://cdn.plot.ly/plotly-latest.min.js\"></script>    \n",
              "            <div id=\"dcb8688e-d0cc-4a69-ad56-8a11f68ef12b\" class=\"plotly-graph-div\" style=\"height:525px; width:100%;\"></div>\n",
              "            <script type=\"text/javascript\">\n",
              "                \n",
              "                    window.PLOTLYENV=window.PLOTLYENV || {};\n",
              "                    \n",
              "                if (document.getElementById(\"dcb8688e-d0cc-4a69-ad56-8a11f68ef12b\")) {\n",
              "                    Plotly.newPlot(\n",
              "                        'dcb8688e-d0cc-4a69-ad56-8a11f68ef12b',\n",
              "                        [{\"alignmentgroup\": \"True\", \"hoverlabel\": {\"namelength\": 0}, \"hovertemplate\": \"2020=%{y}\", \"legendgroup\": \"\", \"marker\": {\"color\": \"#636efa\"}, \"name\": \"\", \"notched\": false, \"offsetgroup\": \"\", \"orientation\": \"v\", \"showlegend\": false, \"type\": \"box\", \"x0\": \" \", \"xaxis\": \"x\", \"y\": [28.15, 30.42, 41.25, 45.4, 47.05, 58.67, 59.19, 60.0, 63.27, 64.29, 66.42, 68.15, 73.01, 73.15, 75.2, 75.53, 77.59, 78.23, 78.23, 81.2, 81.43, 82.74, 83.33, 84.23, 84.8, 85.09, 85.11, 85.14, 85.42, 86.96, 87.14, 89.52, 91.72, 91.75, 95.11, 97.24, 100.17, 102.15, 102.65, 102.76, 105.73, 108.48, 118.29, 123.6], \"y0\": \" \", \"yaxis\": \"y\"}],\n",
              "                        {\"boxmode\": \"group\", \"legend\": {\"tracegroupgap\": 0}, \"margin\": {\"t\": 60}, \"template\": {\"data\": {\"bar\": [{\"error_x\": {\"color\": \"#2a3f5f\"}, \"error_y\": {\"color\": \"#2a3f5f\"}, \"marker\": {\"line\": {\"color\": \"#E5ECF6\", \"width\": 0.5}}, \"type\": \"bar\"}], \"barpolar\": [{\"marker\": {\"line\": {\"color\": \"#E5ECF6\", \"width\": 0.5}}, \"type\": \"barpolar\"}], \"carpet\": [{\"aaxis\": {\"endlinecolor\": \"#2a3f5f\", \"gridcolor\": \"white\", \"linecolor\": \"white\", \"minorgridcolor\": \"white\", \"startlinecolor\": \"#2a3f5f\"}, \"baxis\": {\"endlinecolor\": \"#2a3f5f\", \"gridcolor\": \"white\", \"linecolor\": \"white\", \"minorgridcolor\": \"white\", \"startlinecolor\": \"#2a3f5f\"}, \"type\": \"carpet\"}], \"choropleth\": [{\"colorbar\": {\"outlinewidth\": 0, \"ticks\": \"\"}, \"type\": \"choropleth\"}], \"contour\": [{\"colorbar\": {\"outlinewidth\": 0, \"ticks\": \"\"}, \"colorscale\": [[0.0, \"#0d0887\"], [0.1111111111111111, \"#46039f\"], [0.2222222222222222, \"#7201a8\"], [0.3333333333333333, \"#9c179e\"], [0.4444444444444444, \"#bd3786\"], [0.5555555555555556, \"#d8576b\"], [0.6666666666666666, \"#ed7953\"], [0.7777777777777778, \"#fb9f3a\"], [0.8888888888888888, \"#fdca26\"], [1.0, \"#f0f921\"]], \"type\": \"contour\"}], \"contourcarpet\": [{\"colorbar\": {\"outlinewidth\": 0, \"ticks\": \"\"}, \"type\": \"contourcarpet\"}], \"heatmap\": [{\"colorbar\": {\"outlinewidth\": 0, \"ticks\": \"\"}, \"colorscale\": [[0.0, \"#0d0887\"], [0.1111111111111111, \"#46039f\"], [0.2222222222222222, \"#7201a8\"], [0.3333333333333333, \"#9c179e\"], [0.4444444444444444, \"#bd3786\"], [0.5555555555555556, \"#d8576b\"], [0.6666666666666666, \"#ed7953\"], [0.7777777777777778, \"#fb9f3a\"], [0.8888888888888888, \"#fdca26\"], [1.0, \"#f0f921\"]], \"type\": \"heatmap\"}], \"heatmapgl\": [{\"colorbar\": {\"outlinewidth\": 0, \"ticks\": \"\"}, \"colorscale\": [[0.0, \"#0d0887\"], [0.1111111111111111, \"#46039f\"], [0.2222222222222222, \"#7201a8\"], [0.3333333333333333, \"#9c179e\"], [0.4444444444444444, \"#bd3786\"], [0.5555555555555556, \"#d8576b\"], [0.6666666666666666, \"#ed7953\"], [0.7777777777777778, \"#fb9f3a\"], [0.8888888888888888, \"#fdca26\"], [1.0, \"#f0f921\"]], \"type\": \"heatmapgl\"}], \"histogram\": [{\"marker\": {\"colorbar\": {\"outlinewidth\": 0, \"ticks\": \"\"}}, \"type\": \"histogram\"}], \"histogram2d\": [{\"colorbar\": {\"outlinewidth\": 0, \"ticks\": \"\"}, \"colorscale\": [[0.0, \"#0d0887\"], [0.1111111111111111, \"#46039f\"], [0.2222222222222222, \"#7201a8\"], [0.3333333333333333, \"#9c179e\"], [0.4444444444444444, \"#bd3786\"], [0.5555555555555556, \"#d8576b\"], [0.6666666666666666, \"#ed7953\"], [0.7777777777777778, \"#fb9f3a\"], [0.8888888888888888, \"#fdca26\"], [1.0, \"#f0f921\"]], \"type\": \"histogram2d\"}], \"histogram2dcontour\": [{\"colorbar\": {\"outlinewidth\": 0, \"ticks\": \"\"}, \"colorscale\": [[0.0, \"#0d0887\"], [0.1111111111111111, \"#46039f\"], [0.2222222222222222, \"#7201a8\"], [0.3333333333333333, \"#9c179e\"], [0.4444444444444444, \"#bd3786\"], [0.5555555555555556, \"#d8576b\"], [0.6666666666666666, \"#ed7953\"], [0.7777777777777778, \"#fb9f3a\"], [0.8888888888888888, \"#fdca26\"], [1.0, \"#f0f921\"]], \"type\": \"histogram2dcontour\"}], \"mesh3d\": [{\"colorbar\": {\"outlinewidth\": 0, \"ticks\": \"\"}, \"type\": \"mesh3d\"}], \"parcoords\": [{\"line\": {\"colorbar\": {\"outlinewidth\": 0, \"ticks\": \"\"}}, \"type\": \"parcoords\"}], \"pie\": [{\"automargin\": true, \"type\": \"pie\"}], \"scatter\": [{\"marker\": {\"colorbar\": {\"outlinewidth\": 0, \"ticks\": \"\"}}, \"type\": \"scatter\"}], \"scatter3d\": [{\"line\": {\"colorbar\": {\"outlinewidth\": 0, \"ticks\": \"\"}}, \"marker\": {\"colorbar\": {\"outlinewidth\": 0, \"ticks\": \"\"}}, \"type\": \"scatter3d\"}], \"scattercarpet\": [{\"marker\": {\"colorbar\": {\"outlinewidth\": 0, \"ticks\": \"\"}}, \"type\": \"scattercarpet\"}], \"scattergeo\": [{\"marker\": {\"colorbar\": {\"outlinewidth\": 0, \"ticks\": \"\"}}, \"type\": \"scattergeo\"}], \"scattergl\": [{\"marker\": {\"colorbar\": {\"outlinewidth\": 0, \"ticks\": \"\"}}, \"type\": \"scattergl\"}], \"scattermapbox\": [{\"marker\": {\"colorbar\": {\"outlinewidth\": 0, \"ticks\": \"\"}}, \"type\": \"scattermapbox\"}], \"scatterpolar\": [{\"marker\": {\"colorbar\": {\"outlinewidth\": 0, \"ticks\": \"\"}}, \"type\": \"scatterpolar\"}], \"scatterpolargl\": [{\"marker\": {\"colorbar\": {\"outlinewidth\": 0, \"ticks\": \"\"}}, \"type\": \"scatterpolargl\"}], \"scatterternary\": [{\"marker\": {\"colorbar\": {\"outlinewidth\": 0, \"ticks\": \"\"}}, \"type\": \"scatterternary\"}], \"surface\": [{\"colorbar\": {\"outlinewidth\": 0, \"ticks\": \"\"}, \"colorscale\": [[0.0, \"#0d0887\"], [0.1111111111111111, \"#46039f\"], [0.2222222222222222, \"#7201a8\"], [0.3333333333333333, \"#9c179e\"], [0.4444444444444444, \"#bd3786\"], [0.5555555555555556, \"#d8576b\"], [0.6666666666666666, \"#ed7953\"], [0.7777777777777778, \"#fb9f3a\"], [0.8888888888888888, \"#fdca26\"], [1.0, \"#f0f921\"]], \"type\": \"surface\"}], \"table\": [{\"cells\": {\"fill\": {\"color\": \"#EBF0F8\"}, \"line\": {\"color\": \"white\"}}, \"header\": {\"fill\": {\"color\": \"#C8D4E3\"}, \"line\": {\"color\": \"white\"}}, \"type\": \"table\"}]}, \"layout\": {\"annotationdefaults\": {\"arrowcolor\": \"#2a3f5f\", \"arrowhead\": 0, \"arrowwidth\": 1}, \"coloraxis\": {\"colorbar\": {\"outlinewidth\": 0, \"ticks\": \"\"}}, \"colorscale\": {\"diverging\": [[0, \"#8e0152\"], [0.1, \"#c51b7d\"], [0.2, \"#de77ae\"], [0.3, \"#f1b6da\"], [0.4, \"#fde0ef\"], [0.5, \"#f7f7f7\"], [0.6, \"#e6f5d0\"], [0.7, \"#b8e186\"], [0.8, \"#7fbc41\"], [0.9, \"#4d9221\"], [1, \"#276419\"]], \"sequential\": [[0.0, \"#0d0887\"], [0.1111111111111111, \"#46039f\"], [0.2222222222222222, \"#7201a8\"], [0.3333333333333333, \"#9c179e\"], [0.4444444444444444, \"#bd3786\"], [0.5555555555555556, \"#d8576b\"], [0.6666666666666666, \"#ed7953\"], [0.7777777777777778, \"#fb9f3a\"], [0.8888888888888888, \"#fdca26\"], [1.0, \"#f0f921\"]], \"sequentialminus\": [[0.0, \"#0d0887\"], [0.1111111111111111, \"#46039f\"], [0.2222222222222222, \"#7201a8\"], [0.3333333333333333, \"#9c179e\"], [0.4444444444444444, \"#bd3786\"], [0.5555555555555556, \"#d8576b\"], [0.6666666666666666, \"#ed7953\"], [0.7777777777777778, \"#fb9f3a\"], [0.8888888888888888, \"#fdca26\"], [1.0, \"#f0f921\"]]}, \"colorway\": [\"#636efa\", \"#EF553B\", \"#00cc96\", \"#ab63fa\", \"#FFA15A\", \"#19d3f3\", \"#FF6692\", \"#B6E880\", \"#FF97FF\", \"#FECB52\"], \"font\": {\"color\": \"#2a3f5f\"}, \"geo\": {\"bgcolor\": \"white\", \"lakecolor\": \"white\", \"landcolor\": \"#E5ECF6\", \"showlakes\": true, \"showland\": true, \"subunitcolor\": \"white\"}, \"hoverlabel\": {\"align\": \"left\"}, \"hovermode\": \"closest\", \"mapbox\": {\"style\": \"light\"}, \"paper_bgcolor\": \"white\", \"plot_bgcolor\": \"#E5ECF6\", \"polar\": {\"angularaxis\": {\"gridcolor\": \"white\", \"linecolor\": \"white\", \"ticks\": \"\"}, \"bgcolor\": \"#E5ECF6\", \"radialaxis\": {\"gridcolor\": \"white\", \"linecolor\": \"white\", \"ticks\": \"\"}}, \"scene\": {\"xaxis\": {\"backgroundcolor\": \"#E5ECF6\", \"gridcolor\": \"white\", \"gridwidth\": 2, \"linecolor\": \"white\", \"showbackground\": true, \"ticks\": \"\", \"zerolinecolor\": \"white\"}, \"yaxis\": {\"backgroundcolor\": \"#E5ECF6\", \"gridcolor\": \"white\", \"gridwidth\": 2, \"linecolor\": \"white\", \"showbackground\": true, \"ticks\": \"\", \"zerolinecolor\": \"white\"}, \"zaxis\": {\"backgroundcolor\": \"#E5ECF6\", \"gridcolor\": \"white\", \"gridwidth\": 2, \"linecolor\": \"white\", \"showbackground\": true, \"ticks\": \"\", \"zerolinecolor\": \"white\"}}, \"shapedefaults\": {\"line\": {\"color\": \"#2a3f5f\"}}, \"ternary\": {\"aaxis\": {\"gridcolor\": \"white\", \"linecolor\": \"white\", \"ticks\": \"\"}, \"baxis\": {\"gridcolor\": \"white\", \"linecolor\": \"white\", \"ticks\": \"\"}, \"bgcolor\": \"#E5ECF6\", \"caxis\": {\"gridcolor\": \"white\", \"linecolor\": \"white\", \"ticks\": \"\"}}, \"title\": {\"x\": 0.05}, \"xaxis\": {\"automargin\": true, \"gridcolor\": \"white\", \"linecolor\": \"white\", \"ticks\": \"\", \"title\": {\"standoff\": 15}, \"zerolinecolor\": \"white\", \"zerolinewidth\": 2}, \"yaxis\": {\"automargin\": true, \"gridcolor\": \"white\", \"linecolor\": \"white\", \"ticks\": \"\", \"title\": {\"standoff\": 15}, \"zerolinecolor\": \"white\", \"zerolinewidth\": 2}}}, \"title\": {\"text\": \"Cobertura vacinal dos munic\\u00edpios afetados no estado do PR em 2020\"}, \"xaxis\": {\"anchor\": \"y\", \"domain\": [0.0, 1.0]}, \"yaxis\": {\"anchor\": \"x\", \"domain\": [0.0, 1.0], \"title\": {}}},\n",
              "                        {\"responsive\": true}\n",
              "                    ).then(function(){\n",
              "                            \n",
              "var gd = document.getElementById('dcb8688e-d0cc-4a69-ad56-8a11f68ef12b');\n",
              "var x = new MutationObserver(function (mutations, observer) {{\n",
              "        var display = window.getComputedStyle(gd).display;\n",
              "        if (!display || display === 'none') {{\n",
              "            console.log([gd, 'removed!']);\n",
              "            Plotly.purge(gd);\n",
              "            observer.disconnect();\n",
              "        }}\n",
              "}});\n",
              "\n",
              "// Listen for the removal of the full notebook cells\n",
              "var notebookContainer = gd.closest('#notebook-container');\n",
              "if (notebookContainer) {{\n",
              "    x.observe(notebookContainer, {childList: true});\n",
              "}}\n",
              "\n",
              "// Listen for the clearing of the current output cell\n",
              "var outputEl = gd.closest('.output');\n",
              "if (outputEl) {{\n",
              "    x.observe(outputEl, {childList: true});\n",
              "}}\n",
              "\n",
              "                        })\n",
              "                };\n",
              "                \n",
              "            </script>\n",
              "        </div>\n",
              "</body>\n",
              "</html>"
            ]
          },
          "metadata": {}
        }
      ]
    },
    {
      "cell_type": "markdown",
      "metadata": {
        "id": "z3oflIUnlI57"
      },
      "source": [
        "Os muncípios do Paraná, tiveram em sua faixa central valore entre 65% a 95%. Mas pode-se perceber a grande desigualdade entre eles, pois há municípios que conseguiram ultrapassar os 100% e outros abaixo de 40%."
      ]
    },
    {
      "cell_type": "markdown",
      "metadata": {
        "id": "JQxwJtcAlzii"
      },
      "source": [
        "O estado de SC teve 22 municípios afetados em 2020."
      ]
    },
    {
      "cell_type": "code",
      "metadata": {
        "id": "QI98FTzTl3J4"
      },
      "source": [
        "SC_2020 = CV_municipios_afetados2020.query('UF==\"Santa Catarina\"').drop(columns='2021').sort_values(by='2020')   #Filtrando DataFrame"
      ],
      "execution_count": 35,
      "outputs": []
    },
    {
      "cell_type": "code",
      "metadata": {
        "colab": {
          "base_uri": "https://localhost:8080/",
          "height": 542
        },
        "id": "mIVQRbNjgRAb",
        "outputId": "7030a873-510e-44b1-b958-7de29199f9a7"
      },
      "source": [
        "fig = px.box(SC_2020,y='2020')                                                  #Criando gráfico\n",
        "\n",
        "fig.update_layout(\n",
        "    title=\"Cobertura vacinal dos municípios afetados no estado de SC em 2020\",  #Título\n",
        "    yaxis_title=None)                                                           #Excluindo label do eixo y\n",
        "layout = go.Layout(yaxis=dict(range=[0, 150]))                                  #Modificando range do eixo y\n",
        "fig.show()"
      ],
      "execution_count": 36,
      "outputs": [
        {
          "output_type": "display_data",
          "data": {
            "text/html": [
              "<html>\n",
              "<head><meta charset=\"utf-8\" /></head>\n",
              "<body>\n",
              "    <div>\n",
              "            <script src=\"https://cdnjs.cloudflare.com/ajax/libs/mathjax/2.7.5/MathJax.js?config=TeX-AMS-MML_SVG\"></script><script type=\"text/javascript\">if (window.MathJax) {MathJax.Hub.Config({SVG: {font: \"STIX-Web\"}});}</script>\n",
              "                <script type=\"text/javascript\">window.PlotlyConfig = {MathJaxConfig: 'local'};</script>\n",
              "        <script src=\"https://cdn.plot.ly/plotly-latest.min.js\"></script>    \n",
              "            <div id=\"8de7813b-ecd8-49a4-8c05-31bb65c53df3\" class=\"plotly-graph-div\" style=\"height:525px; width:100%;\"></div>\n",
              "            <script type=\"text/javascript\">\n",
              "                \n",
              "                    window.PLOTLYENV=window.PLOTLYENV || {};\n",
              "                    \n",
              "                if (document.getElementById(\"8de7813b-ecd8-49a4-8c05-31bb65c53df3\")) {\n",
              "                    Plotly.newPlot(\n",
              "                        '8de7813b-ecd8-49a4-8c05-31bb65c53df3',\n",
              "                        [{\"alignmentgroup\": \"True\", \"hoverlabel\": {\"namelength\": 0}, \"hovertemplate\": \"2020=%{y}\", \"legendgroup\": \"\", \"marker\": {\"color\": \"#636efa\"}, \"name\": \"\", \"notched\": false, \"offsetgroup\": \"\", \"orientation\": \"v\", \"showlegend\": false, \"type\": \"box\", \"x0\": \" \", \"xaxis\": \"x\", \"y\": [50.0, 58.02, 63.33, 66.29, 67.87, 70.84, 75.41, 75.56, 80.65, 81.51, 88.76, 93.84, 94.48, 95.14, 97.25, 97.79, 100.12, 107.5, 107.52, 107.62, 107.82, 110.0], \"y0\": \" \", \"yaxis\": \"y\"}],\n",
              "                        {\"boxmode\": \"group\", \"legend\": {\"tracegroupgap\": 0}, \"margin\": {\"t\": 60}, \"template\": {\"data\": {\"bar\": [{\"error_x\": {\"color\": \"#2a3f5f\"}, \"error_y\": {\"color\": \"#2a3f5f\"}, \"marker\": {\"line\": {\"color\": \"#E5ECF6\", \"width\": 0.5}}, \"type\": \"bar\"}], \"barpolar\": [{\"marker\": {\"line\": {\"color\": \"#E5ECF6\", \"width\": 0.5}}, \"type\": \"barpolar\"}], \"carpet\": [{\"aaxis\": {\"endlinecolor\": \"#2a3f5f\", \"gridcolor\": \"white\", \"linecolor\": \"white\", \"minorgridcolor\": \"white\", \"startlinecolor\": \"#2a3f5f\"}, \"baxis\": {\"endlinecolor\": \"#2a3f5f\", \"gridcolor\": \"white\", \"linecolor\": \"white\", \"minorgridcolor\": \"white\", \"startlinecolor\": \"#2a3f5f\"}, \"type\": \"carpet\"}], \"choropleth\": [{\"colorbar\": {\"outlinewidth\": 0, \"ticks\": \"\"}, \"type\": \"choropleth\"}], \"contour\": [{\"colorbar\": {\"outlinewidth\": 0, \"ticks\": \"\"}, \"colorscale\": [[0.0, \"#0d0887\"], [0.1111111111111111, \"#46039f\"], [0.2222222222222222, \"#7201a8\"], [0.3333333333333333, \"#9c179e\"], [0.4444444444444444, \"#bd3786\"], [0.5555555555555556, \"#d8576b\"], [0.6666666666666666, \"#ed7953\"], [0.7777777777777778, \"#fb9f3a\"], [0.8888888888888888, \"#fdca26\"], [1.0, \"#f0f921\"]], \"type\": \"contour\"}], \"contourcarpet\": [{\"colorbar\": {\"outlinewidth\": 0, \"ticks\": \"\"}, \"type\": \"contourcarpet\"}], \"heatmap\": [{\"colorbar\": {\"outlinewidth\": 0, \"ticks\": \"\"}, \"colorscale\": [[0.0, \"#0d0887\"], [0.1111111111111111, \"#46039f\"], [0.2222222222222222, \"#7201a8\"], [0.3333333333333333, \"#9c179e\"], [0.4444444444444444, \"#bd3786\"], [0.5555555555555556, \"#d8576b\"], [0.6666666666666666, \"#ed7953\"], [0.7777777777777778, \"#fb9f3a\"], [0.8888888888888888, \"#fdca26\"], [1.0, \"#f0f921\"]], \"type\": \"heatmap\"}], \"heatmapgl\": [{\"colorbar\": {\"outlinewidth\": 0, \"ticks\": \"\"}, \"colorscale\": [[0.0, \"#0d0887\"], [0.1111111111111111, \"#46039f\"], [0.2222222222222222, \"#7201a8\"], [0.3333333333333333, \"#9c179e\"], [0.4444444444444444, \"#bd3786\"], [0.5555555555555556, \"#d8576b\"], [0.6666666666666666, \"#ed7953\"], [0.7777777777777778, \"#fb9f3a\"], [0.8888888888888888, \"#fdca26\"], [1.0, \"#f0f921\"]], \"type\": \"heatmapgl\"}], \"histogram\": [{\"marker\": {\"colorbar\": {\"outlinewidth\": 0, \"ticks\": \"\"}}, \"type\": \"histogram\"}], \"histogram2d\": [{\"colorbar\": {\"outlinewidth\": 0, \"ticks\": \"\"}, \"colorscale\": [[0.0, \"#0d0887\"], [0.1111111111111111, \"#46039f\"], [0.2222222222222222, \"#7201a8\"], [0.3333333333333333, \"#9c179e\"], [0.4444444444444444, \"#bd3786\"], [0.5555555555555556, \"#d8576b\"], [0.6666666666666666, \"#ed7953\"], [0.7777777777777778, \"#fb9f3a\"], [0.8888888888888888, \"#fdca26\"], [1.0, \"#f0f921\"]], \"type\": \"histogram2d\"}], \"histogram2dcontour\": [{\"colorbar\": {\"outlinewidth\": 0, \"ticks\": \"\"}, \"colorscale\": [[0.0, \"#0d0887\"], [0.1111111111111111, \"#46039f\"], [0.2222222222222222, \"#7201a8\"], [0.3333333333333333, \"#9c179e\"], [0.4444444444444444, \"#bd3786\"], [0.5555555555555556, \"#d8576b\"], [0.6666666666666666, \"#ed7953\"], [0.7777777777777778, \"#fb9f3a\"], [0.8888888888888888, \"#fdca26\"], [1.0, \"#f0f921\"]], \"type\": \"histogram2dcontour\"}], \"mesh3d\": [{\"colorbar\": {\"outlinewidth\": 0, \"ticks\": \"\"}, \"type\": \"mesh3d\"}], \"parcoords\": [{\"line\": {\"colorbar\": {\"outlinewidth\": 0, \"ticks\": \"\"}}, \"type\": \"parcoords\"}], \"pie\": [{\"automargin\": true, \"type\": \"pie\"}], \"scatter\": [{\"marker\": {\"colorbar\": {\"outlinewidth\": 0, \"ticks\": \"\"}}, \"type\": \"scatter\"}], \"scatter3d\": [{\"line\": {\"colorbar\": {\"outlinewidth\": 0, \"ticks\": \"\"}}, \"marker\": {\"colorbar\": {\"outlinewidth\": 0, \"ticks\": \"\"}}, \"type\": \"scatter3d\"}], \"scattercarpet\": [{\"marker\": {\"colorbar\": {\"outlinewidth\": 0, \"ticks\": \"\"}}, \"type\": \"scattercarpet\"}], \"scattergeo\": [{\"marker\": {\"colorbar\": {\"outlinewidth\": 0, \"ticks\": \"\"}}, \"type\": \"scattergeo\"}], \"scattergl\": [{\"marker\": {\"colorbar\": {\"outlinewidth\": 0, \"ticks\": \"\"}}, \"type\": \"scattergl\"}], \"scattermapbox\": [{\"marker\": {\"colorbar\": {\"outlinewidth\": 0, \"ticks\": \"\"}}, \"type\": \"scattermapbox\"}], \"scatterpolar\": [{\"marker\": {\"colorbar\": {\"outlinewidth\": 0, \"ticks\": \"\"}}, \"type\": \"scatterpolar\"}], \"scatterpolargl\": [{\"marker\": {\"colorbar\": {\"outlinewidth\": 0, \"ticks\": \"\"}}, \"type\": \"scatterpolargl\"}], \"scatterternary\": [{\"marker\": {\"colorbar\": {\"outlinewidth\": 0, \"ticks\": \"\"}}, \"type\": \"scatterternary\"}], \"surface\": [{\"colorbar\": {\"outlinewidth\": 0, \"ticks\": \"\"}, \"colorscale\": [[0.0, \"#0d0887\"], [0.1111111111111111, \"#46039f\"], [0.2222222222222222, \"#7201a8\"], [0.3333333333333333, \"#9c179e\"], [0.4444444444444444, \"#bd3786\"], [0.5555555555555556, \"#d8576b\"], [0.6666666666666666, \"#ed7953\"], [0.7777777777777778, \"#fb9f3a\"], [0.8888888888888888, \"#fdca26\"], [1.0, \"#f0f921\"]], \"type\": \"surface\"}], \"table\": [{\"cells\": {\"fill\": {\"color\": \"#EBF0F8\"}, \"line\": {\"color\": \"white\"}}, \"header\": {\"fill\": {\"color\": \"#C8D4E3\"}, \"line\": {\"color\": \"white\"}}, \"type\": \"table\"}]}, \"layout\": {\"annotationdefaults\": {\"arrowcolor\": \"#2a3f5f\", \"arrowhead\": 0, \"arrowwidth\": 1}, \"coloraxis\": {\"colorbar\": {\"outlinewidth\": 0, \"ticks\": \"\"}}, \"colorscale\": {\"diverging\": [[0, \"#8e0152\"], [0.1, \"#c51b7d\"], [0.2, \"#de77ae\"], [0.3, \"#f1b6da\"], [0.4, \"#fde0ef\"], [0.5, \"#f7f7f7\"], [0.6, \"#e6f5d0\"], [0.7, \"#b8e186\"], [0.8, \"#7fbc41\"], [0.9, \"#4d9221\"], [1, \"#276419\"]], \"sequential\": [[0.0, \"#0d0887\"], [0.1111111111111111, \"#46039f\"], [0.2222222222222222, \"#7201a8\"], [0.3333333333333333, \"#9c179e\"], [0.4444444444444444, \"#bd3786\"], [0.5555555555555556, \"#d8576b\"], [0.6666666666666666, \"#ed7953\"], [0.7777777777777778, \"#fb9f3a\"], [0.8888888888888888, \"#fdca26\"], [1.0, \"#f0f921\"]], \"sequentialminus\": [[0.0, \"#0d0887\"], [0.1111111111111111, \"#46039f\"], [0.2222222222222222, \"#7201a8\"], [0.3333333333333333, \"#9c179e\"], [0.4444444444444444, \"#bd3786\"], [0.5555555555555556, \"#d8576b\"], [0.6666666666666666, \"#ed7953\"], [0.7777777777777778, \"#fb9f3a\"], [0.8888888888888888, \"#fdca26\"], [1.0, \"#f0f921\"]]}, \"colorway\": [\"#636efa\", \"#EF553B\", \"#00cc96\", \"#ab63fa\", \"#FFA15A\", \"#19d3f3\", \"#FF6692\", \"#B6E880\", \"#FF97FF\", \"#FECB52\"], \"font\": {\"color\": \"#2a3f5f\"}, \"geo\": {\"bgcolor\": \"white\", \"lakecolor\": \"white\", \"landcolor\": \"#E5ECF6\", \"showlakes\": true, \"showland\": true, \"subunitcolor\": \"white\"}, \"hoverlabel\": {\"align\": \"left\"}, \"hovermode\": \"closest\", \"mapbox\": {\"style\": \"light\"}, \"paper_bgcolor\": \"white\", \"plot_bgcolor\": \"#E5ECF6\", \"polar\": {\"angularaxis\": {\"gridcolor\": \"white\", \"linecolor\": \"white\", \"ticks\": \"\"}, \"bgcolor\": \"#E5ECF6\", \"radialaxis\": {\"gridcolor\": \"white\", \"linecolor\": \"white\", \"ticks\": \"\"}}, \"scene\": {\"xaxis\": {\"backgroundcolor\": \"#E5ECF6\", \"gridcolor\": \"white\", \"gridwidth\": 2, \"linecolor\": \"white\", \"showbackground\": true, \"ticks\": \"\", \"zerolinecolor\": \"white\"}, \"yaxis\": {\"backgroundcolor\": \"#E5ECF6\", \"gridcolor\": \"white\", \"gridwidth\": 2, \"linecolor\": \"white\", \"showbackground\": true, \"ticks\": \"\", \"zerolinecolor\": \"white\"}, \"zaxis\": {\"backgroundcolor\": \"#E5ECF6\", \"gridcolor\": \"white\", \"gridwidth\": 2, \"linecolor\": \"white\", \"showbackground\": true, \"ticks\": \"\", \"zerolinecolor\": \"white\"}}, \"shapedefaults\": {\"line\": {\"color\": \"#2a3f5f\"}}, \"ternary\": {\"aaxis\": {\"gridcolor\": \"white\", \"linecolor\": \"white\", \"ticks\": \"\"}, \"baxis\": {\"gridcolor\": \"white\", \"linecolor\": \"white\", \"ticks\": \"\"}, \"bgcolor\": \"#E5ECF6\", \"caxis\": {\"gridcolor\": \"white\", \"linecolor\": \"white\", \"ticks\": \"\"}}, \"title\": {\"x\": 0.05}, \"xaxis\": {\"automargin\": true, \"gridcolor\": \"white\", \"linecolor\": \"white\", \"ticks\": \"\", \"title\": {\"standoff\": 15}, \"zerolinecolor\": \"white\", \"zerolinewidth\": 2}, \"yaxis\": {\"automargin\": true, \"gridcolor\": \"white\", \"linecolor\": \"white\", \"ticks\": \"\", \"title\": {\"standoff\": 15}, \"zerolinecolor\": \"white\", \"zerolinewidth\": 2}}}, \"title\": {\"text\": \"Cobertura vacinal dos munic\\u00edpios afetados no estado de SC em 2020\"}, \"xaxis\": {\"anchor\": \"y\", \"domain\": [0.0, 1.0]}, \"yaxis\": {\"anchor\": \"x\", \"domain\": [0.0, 1.0], \"title\": {}}},\n",
              "                        {\"responsive\": true}\n",
              "                    ).then(function(){\n",
              "                            \n",
              "var gd = document.getElementById('8de7813b-ecd8-49a4-8c05-31bb65c53df3');\n",
              "var x = new MutationObserver(function (mutations, observer) {{\n",
              "        var display = window.getComputedStyle(gd).display;\n",
              "        if (!display || display === 'none') {{\n",
              "            console.log([gd, 'removed!']);\n",
              "            Plotly.purge(gd);\n",
              "            observer.disconnect();\n",
              "        }}\n",
              "}});\n",
              "\n",
              "// Listen for the removal of the full notebook cells\n",
              "var notebookContainer = gd.closest('#notebook-container');\n",
              "if (notebookContainer) {{\n",
              "    x.observe(notebookContainer, {childList: true});\n",
              "}}\n",
              "\n",
              "// Listen for the clearing of the current output cell\n",
              "var outputEl = gd.closest('.output');\n",
              "if (outputEl) {{\n",
              "    x.observe(outputEl, {childList: true});\n",
              "}}\n",
              "\n",
              "                        })\n",
              "                };\n",
              "                \n",
              "            </script>\n",
              "        </div>\n",
              "</body>\n",
              "</html>"
            ]
          },
          "metadata": {}
        }
      ]
    },
    {
      "cell_type": "markdown",
      "metadata": {
        "id": "F3JYMDlGm_To"
      },
      "source": [
        "50% dos muncípios afetados do estado de SC estão acima de 90% de cobertura vacinal.\n",
        "25% então entre 70% e 90%  de cobertura vacinal.\n",
        "25% estão entre 50% e 70% de cobertura vacinal.\n",
        "\n"
      ]
    },
    {
      "cell_type": "markdown",
      "metadata": {
        "id": "pAecObqAPgFh"
      },
      "source": [
        "### <font color= MediumSpringGreen> 2.2 Distribuição da cobertura vacinal dos municípios afetados em 2021\n",
        "\n",
        "Analisarei os municípios dos estados: \n",
        "* Acre\n",
        "* Distrito Federal\n",
        "* Goiás\n",
        "* Paraná\n",
        "* Rio Grande do Sul\n",
        "* Santa Catarina\n",
        "* São Paulo\n",
        "\n",
        "\n",
        "\n",
        "\n",
        "\n",
        "\n"
      ]
    },
    {
      "cell_type": "markdown",
      "metadata": {
        "id": "h4ia4KGygvzT"
      },
      "source": [
        "#### <font color= MediumSpringGreen> 2.2.1 Manipulação de dados:\n"
      ]
    },
    {
      "cell_type": "markdown",
      "metadata": {
        "id": "1G47DMkOxuBL"
      },
      "source": [
        "Farei os mesmos procedimento que fiz em 2020 só que para os municípios afetados em 2021"
      ]
    },
    {
      "cell_type": "code",
      "metadata": {
        "id": "CysFrRbKv4ng"
      },
      "source": [
        "CV_porM_afetados2021_2020_2021 = CV_porM_afetados2021_2020_2021.iloc[:,0:3]       #Excluindo coluna de total\n",
        "CV_porM_afetados2021_2020_2021 = CV_porM_afetados2021_2020_2021[:-1]              #Excluindo linha de total\n",
        "codigo_uf = CV_porM_afetados2021_2020_2021['Município'].str[0:2]                  #Criando series com código da UF\n",
        "CV_porM_afetados2021_2020_2021.insert(0, 'UF', codigo_uf, allow_duplicates=False) #Adicionando coluna com o código da UF\n"
      ],
      "execution_count": 37,
      "outputs": []
    },
    {
      "cell_type": "code",
      "metadata": {
        "id": "qDXdg88Ev7Bu"
      },
      "source": [
        "CV_porM_afetados2021_2020_2021['UF'] = CV_porM_afetados2021_2020_2021['UF'].map(              #Mapeando nome da UF \n",
        "                          {'12':'Acre',\n",
        "                           '35':'São Paulo',\n",
        "                           '41':'Paraná','42':'Santa Catarina','43':'Rio Grande do Sul',\n",
        "                           '52':'Goiás','53':'Distrito Federal'})"
      ],
      "execution_count": 38,
      "outputs": []
    },
    {
      "cell_type": "code",
      "metadata": {
        "id": "UZbQ_REfv-A3"
      },
      "source": [
        "CV_porM_afetados2021_2020_2021['Município'] = CV_porM_afetados2021_2020_2021['Município'].str.split(' ', n=1).str[1]  #Excluindo código do município\n",
        "CV_porM_afetados2021_2020_2021 = CV_porM_afetados2021_2020_2021.set_index('UF')                                #Refazendo o índice"
      ],
      "execution_count": 39,
      "outputs": []
    },
    {
      "cell_type": "markdown",
      "metadata": {
        "id": "n5oPiulpzzUj"
      },
      "source": [
        "Importando os dados da tabela do boletim com os municípios afetados em 2021"
      ]
    },
    {
      "cell_type": "code",
      "metadata": {
        "id": "jy0DZ9iwwHF-"
      },
      "source": [
        "municipios_afetados_2021 = tabula.read_pdf('https://www.gov.br/saude/pt-br/media/pdf/2021/agosto/30/boletim_epidemiologico_svs_31.pdf',\n",
        "                                           pages='31')                          #Lendo quadro do pdf com municpios afetados"
      ],
      "execution_count": 40,
      "outputs": []
    },
    {
      "cell_type": "code",
      "metadata": {
        "id": "tOfH47Hxz_Kv"
      },
      "source": [
        "municipios_afetados2021 = pd.DataFrame(np.array(municipios_afetados_2021).reshape(32,4)) #Transformando lista dos dados em DataFrame\n",
        "municipios_afetados2021 = municipios_afetados2021.iloc[:,[1,3]]                          #Escolhendo colunas apenas com municípios"
      ],
      "execution_count": 41,
      "outputs": []
    },
    {
      "cell_type": "code",
      "metadata": {
        "id": "7pGaXk_C0C4f"
      },
      "source": [
        "municipios_afetados2021 = pd.concat([municipios_afetados2021[1],municipios_afetados2021[3]])   #Concatenando colunas\n",
        "municipios_afetados2021 = municipios_afetados2021.dropna()                                    #Excluindo NA\n",
        "municipios_afetados2021 = list(municipios_afetados2021)                                       #Listando municípios"
      ],
      "execution_count": 42,
      "outputs": []
    },
    {
      "cell_type": "code",
      "metadata": {
        "id": "qlrBSsyW0Cuw"
      },
      "source": [
        "municipios_2021_sem_acento = []                                                 #Criando varivel para lista\n",
        "\n",
        "for palavra in municipios_afetados2021:                                         #Criando loop para cada palavra  \n",
        "  palavra = unidecode.unidecode(palavra)                                        #Retirando o acento\n",
        "  palavra = palavra.upper()                                                     #Formatando para maiúscula\n",
        "  municipios_2021_sem_acento.append(palavra)                                    #Adicionando cada palabra dentro da lista\n"
      ],
      "execution_count": 43,
      "outputs": []
    },
    {
      "cell_type": "code",
      "metadata": {
        "id": "KfdTffs90PEn"
      },
      "source": [
        "selecao = CV_porM_afetados2021_2020_2021['Município'].isin(municipios_2021_sem_acento)       #Criando Series de selecao dos municipos afetados\n",
        "CV_municipios_afetados2021 = CV_porM_afetados2021_2020_2021[selecao]                         #Filtrando tabela"
      ],
      "execution_count": 44,
      "outputs": []
    },
    {
      "cell_type": "markdown",
      "metadata": {
        "id": "DbSQBegGgy0q"
      },
      "source": [
        "#### <font color= MediumSpringGreen> 2.2.2 Visualização de dados:\n"
      ]
    },
    {
      "cell_type": "markdown",
      "metadata": {
        "id": "0IRoBAKnnxPV"
      },
      "source": [
        "Em 2021, novamente o Acre teve apenas uma cidade afetada. "
      ]
    },
    {
      "cell_type": "code",
      "metadata": {
        "colab": {
          "base_uri": "https://localhost:8080/",
          "height": 112
        },
        "id": "JeYYJW4tnzx9",
        "outputId": "c6af9416-3f81-4d65-8fe1-38395c8da4cd"
      },
      "source": [
        "CV_municipios_afetados2021.query('UF==\"Acre\"')"
      ],
      "execution_count": 45,
      "outputs": [
        {
          "output_type": "execute_result",
          "data": {
            "text/html": [
              "<div>\n",
              "<style scoped>\n",
              "    .dataframe tbody tr th:only-of-type {\n",
              "        vertical-align: middle;\n",
              "    }\n",
              "\n",
              "    .dataframe tbody tr th {\n",
              "        vertical-align: top;\n",
              "    }\n",
              "\n",
              "    .dataframe thead th {\n",
              "        text-align: right;\n",
              "    }\n",
              "</style>\n",
              "<table border=\"1\" class=\"dataframe\">\n",
              "  <thead>\n",
              "    <tr style=\"text-align: right;\">\n",
              "      <th></th>\n",
              "      <th>Município</th>\n",
              "      <th>2020</th>\n",
              "      <th>2021</th>\n",
              "    </tr>\n",
              "    <tr>\n",
              "      <th>UF</th>\n",
              "      <th></th>\n",
              "      <th></th>\n",
              "      <th></th>\n",
              "    </tr>\n",
              "  </thead>\n",
              "  <tbody>\n",
              "    <tr>\n",
              "      <th>Acre</th>\n",
              "      <td>PLACIDO DE CASTRO</td>\n",
              "      <td>55.74</td>\n",
              "      <td>31.51</td>\n",
              "    </tr>\n",
              "  </tbody>\n",
              "</table>\n",
              "</div>"
            ],
            "text/plain": [
              "              Município   2020   2021\n",
              "UF                                   \n",
              "Acre  PLACIDO DE CASTRO  55.74  31.51"
            ]
          },
          "metadata": {},
          "execution_count": 45
        }
      ]
    },
    {
      "cell_type": "code",
      "metadata": {
        "id": "yvEcHyysoq3d"
      },
      "source": [
        ""
      ],
      "execution_count": 45,
      "outputs": []
    },
    {
      "cell_type": "code",
      "metadata": {
        "colab": {
          "base_uri": "https://localhost:8080/",
          "height": 348
        },
        "id": "GUv-j-T7oB8s",
        "outputId": "1875e8a4-292d-458a-ae8c-9ab1b529f65f"
      },
      "source": [
        "plt.figure(figsize=(8, 5))                                                      #Ajustando o tamanho\n",
        "\n",
        "for spine in plt.gca().spines.values():                                         #Removendo os eixos do gráfico\n",
        "    spine.set_visible(False)\n",
        "\n",
        "plt.tick_params(bottom=False, left=False, labelleft=False, labelbottom=False)   #Excluindo os valores dos eixos\n",
        "\n",
        "plt.text(-0.15, 1.03,'Cobertura vacinal em 2021'+' '*40,                        #Colocando o título\n",
        "         fontsize=26,color='black', weight=\"bold\")\n",
        "plt.text(-0.15, 0.86,'Plácido de Castro-AC',fontsize=22, color='black')         #Colocando a localidade                            \n",
        "plt.text(-0.15, 0.40,'$\\\\bf{32\\%}$',fontsize=122,color='#5e0019')               #Adicionando valor da cv\n",
        "plt.text(-0.15, 0.17,'O valor da meta é 95% e recomendação mínima 80%.',        #Adicionando legenda da recomendação mínima\n",
        "         fontsize=19,\n",
        "         color='#616364')"
      ],
      "execution_count": 46,
      "outputs": [
        {
          "output_type": "execute_result",
          "data": {
            "text/plain": [
              "Text(-0.15, 0.17, 'O valor da meta é 95% e recomendação mínima 80%.')"
            ]
          },
          "metadata": {},
          "execution_count": 46
        },
        {
          "output_type": "display_data",
          "data": {
            "image/png": "[encoded data removed]",
            "text/plain": [
              "<Figure size 576x360 with 1 Axes>"
            ]
          },
          "metadata": {}
        }
      ]
    },
    {
      "cell_type": "markdown",
      "metadata": {
        "id": "kNZCb_XeoqVj"
      },
      "source": [
        "Um valor muito a baixo da quantidade recomendada e com grande gravidade para a região. "
      ]
    },
    {
      "cell_type": "markdown",
      "metadata": {
        "id": "ASxXCmHPo_wj"
      },
      "source": [
        "Distrito Federal teve também apenas a cidade de Brasília afetada."
      ]
    },
    {
      "cell_type": "code",
      "metadata": {
        "colab": {
          "base_uri": "https://localhost:8080/",
          "height": 112
        },
        "id": "I_xaFRdTo_fL",
        "outputId": "793fd1d0-abb7-497e-afb3-ec84d72e4719"
      },
      "source": [
        "CV_municipios_afetados2021.query('UF==\"Distrito Federal\"')"
      ],
      "execution_count": 47,
      "outputs": [
        {
          "output_type": "execute_result",
          "data": {
            "text/html": [
              "<div>\n",
              "<style scoped>\n",
              "    .dataframe tbody tr th:only-of-type {\n",
              "        vertical-align: middle;\n",
              "    }\n",
              "\n",
              "    .dataframe tbody tr th {\n",
              "        vertical-align: top;\n",
              "    }\n",
              "\n",
              "    .dataframe thead th {\n",
              "        text-align: right;\n",
              "    }\n",
              "</style>\n",
              "<table border=\"1\" class=\"dataframe\">\n",
              "  <thead>\n",
              "    <tr style=\"text-align: right;\">\n",
              "      <th></th>\n",
              "      <th>Município</th>\n",
              "      <th>2020</th>\n",
              "      <th>2021</th>\n",
              "    </tr>\n",
              "    <tr>\n",
              "      <th>UF</th>\n",
              "      <th></th>\n",
              "      <th></th>\n",
              "      <th></th>\n",
              "    </tr>\n",
              "  </thead>\n",
              "  <tbody>\n",
              "    <tr>\n",
              "      <th>Distrito Federal</th>\n",
              "      <td>BRASILIA</td>\n",
              "      <td>74.36</td>\n",
              "      <td>60.72</td>\n",
              "    </tr>\n",
              "  </tbody>\n",
              "</table>\n",
              "</div>"
            ],
            "text/plain": [
              "                 Município   2020   2021\n",
              "UF                                      \n",
              "Distrito Federal  BRASILIA  74.36  60.72"
            ]
          },
          "metadata": {},
          "execution_count": 47
        }
      ]
    },
    {
      "cell_type": "code",
      "metadata": {
        "colab": {
          "base_uri": "https://localhost:8080/",
          "height": 348
        },
        "id": "E-Uqy0Q5oLkE",
        "outputId": "c823dae5-f696-454c-cd07-8b60b45f7476"
      },
      "source": [
        "plt.figure(figsize=(8, 5))                                                      #Ajustando o tamanho\n",
        "\n",
        "for spine in plt.gca().spines.values():                                         #Removendo os eixos do gráfico\n",
        "    spine.set_visible(False)\n",
        "\n",
        "plt.tick_params(bottom=False, left=False, labelleft=False, labelbottom=False)   #Excluindo os valores dos eixos\n",
        "\n",
        "plt.text(-0.15, 1.03,'Cobertura vacinal em 2021'+' '*40,                        #Colocando o título\n",
        "         fontsize=26,color='black', weight=\"bold\")\n",
        "plt.text(-0.15, 0.86,'Brasília-DF',fontsize=22, color='black')         #Colocando a localidade                            \n",
        "plt.text(-0.15, 0.40,'$\\\\bf{61\\%}$',fontsize=122,color='#5e0019')               #Adicionando valor da cv\n",
        "plt.text(-0.15, 0.17,'O valor da meta é 95% e recomendação mínima 80%.',        #Adicionando legenda da recomendação mínima\n",
        "         fontsize=19,\n",
        "         color='#616364')"
      ],
      "execution_count": 48,
      "outputs": [
        {
          "output_type": "execute_result",
          "data": {
            "text/plain": [
              "Text(-0.15, 0.17, 'O valor da meta é 95% e recomendação mínima 80%.')"
            ]
          },
          "metadata": {},
          "execution_count": 48
        },
        {
          "output_type": "display_data",
          "data": {
            "image/png": "[encoded data removed]",
            "text/plain": [
              "<Figure size 576x360 with 1 Axes>"
            ]
          },
          "metadata": {}
        }
      ]
    },
    {
      "cell_type": "markdown",
      "metadata": {
        "id": "UePXbgIWpRCC"
      },
      "source": [
        "Brasília, também está com um valor preocupante da cobertura vacinal total."
      ]
    },
    {
      "cell_type": "markdown",
      "metadata": {
        "id": "Y8jNmPCYqvPo"
      },
      "source": [
        "Em Goiás, ao todo foram 6 municípios afetados."
      ]
    },
    {
      "cell_type": "code",
      "metadata": {
        "id": "6lTkWrkLpzVi"
      },
      "source": [
        "GO_2021 = CV_municipios_afetados2021.query('UF==\"Goiás\"').sort_values(by='2021',ascending=False)"
      ],
      "execution_count": 49,
      "outputs": []
    },
    {
      "cell_type": "code",
      "metadata": {
        "colab": {
          "base_uri": "https://localhost:8080/",
          "height": 268
        },
        "id": "CRmCvp4Dq1LY",
        "outputId": "d924d99e-b9e4-4652-d948-3578581a4c12"
      },
      "source": [
        "GO_2021\n"
      ],
      "execution_count": 50,
      "outputs": [
        {
          "output_type": "execute_result",
          "data": {
            "text/html": [
              "<div>\n",
              "<style scoped>\n",
              "    .dataframe tbody tr th:only-of-type {\n",
              "        vertical-align: middle;\n",
              "    }\n",
              "\n",
              "    .dataframe tbody tr th {\n",
              "        vertical-align: top;\n",
              "    }\n",
              "\n",
              "    .dataframe thead th {\n",
              "        text-align: right;\n",
              "    }\n",
              "</style>\n",
              "<table border=\"1\" class=\"dataframe\">\n",
              "  <thead>\n",
              "    <tr style=\"text-align: right;\">\n",
              "      <th></th>\n",
              "      <th>Município</th>\n",
              "      <th>2020</th>\n",
              "      <th>2021</th>\n",
              "    </tr>\n",
              "    <tr>\n",
              "      <th>UF</th>\n",
              "      <th></th>\n",
              "      <th></th>\n",
              "      <th></th>\n",
              "    </tr>\n",
              "  </thead>\n",
              "  <tbody>\n",
              "    <tr>\n",
              "      <th>Goiás</th>\n",
              "      <td>ARAGOIANIA</td>\n",
              "      <td>88.19</td>\n",
              "      <td>68.03</td>\n",
              "    </tr>\n",
              "    <tr>\n",
              "      <th>Goiás</th>\n",
              "      <td>GOIANIA</td>\n",
              "      <td>58.94</td>\n",
              "      <td>59.25</td>\n",
              "    </tr>\n",
              "    <tr>\n",
              "      <th>Goiás</th>\n",
              "      <td>LUZIANIA</td>\n",
              "      <td>66.48</td>\n",
              "      <td>48.16</td>\n",
              "    </tr>\n",
              "    <tr>\n",
              "      <th>Goiás</th>\n",
              "      <td>JUSSARA</td>\n",
              "      <td>58.55</td>\n",
              "      <td>40.60</td>\n",
              "    </tr>\n",
              "    <tr>\n",
              "      <th>Goiás</th>\n",
              "      <td>ABADIA DE GOIAS</td>\n",
              "      <td>59.18</td>\n",
              "      <td>38.25</td>\n",
              "    </tr>\n",
              "    <tr>\n",
              "      <th>Goiás</th>\n",
              "      <td>APARECIDA DE GOIANIA</td>\n",
              "      <td>55.46</td>\n",
              "      <td>19.09</td>\n",
              "    </tr>\n",
              "  </tbody>\n",
              "</table>\n",
              "</div>"
            ],
            "text/plain": [
              "                  Município   2020   2021\n",
              "UF                                       \n",
              "Goiás            ARAGOIANIA  88.19  68.03\n",
              "Goiás               GOIANIA  58.94  59.25\n",
              "Goiás              LUZIANIA  66.48  48.16\n",
              "Goiás               JUSSARA  58.55  40.60\n",
              "Goiás       ABADIA DE GOIAS  59.18  38.25\n",
              "Goiás  APARECIDA DE GOIANIA  55.46  19.09"
            ]
          },
          "metadata": {},
          "execution_count": 50
        }
      ]
    },
    {
      "cell_type": "code",
      "metadata": {
        "colab": {
          "base_uri": "https://localhost:8080/",
          "height": 410
        },
        "id": "lHyVwoU9pqzs",
        "outputId": "19301c55-602f-41a5-be8b-42f586726f59"
      },
      "source": [
        "plt.figure(figsize=(12, 6))                                                     #Ajustando o tamanho\n",
        "color=['#CD5C5C','#CD5C5C','#CD5C5C','#CD5C5C','#CD5C5C','#CD5C5C']\n",
        "ax =sns.barplot(data=GO_2021,y='2021',x='Município',palette = color)            #Criando grafico\n",
        "ax.yaxis.set_major_formatter(ticker.StrMethodFormatter('{x:,.0f}%'))            #Formatar números do eixo y\n",
        "\n",
        "plt.ylabel(None)                                                                #Modificar o rórulo do eixo x\n",
        "plt.xlabel(None)                                                                #Modificar o rórulo do eixo x\n",
        "plt.ylim(0,100)                                                                 #Ajustar limite do eixo y\n",
        "plt.title(\"Cobertura vacinal dos municípios afetados no estado de GO em 2021\",\n",
        "          size=16)                                                              #Adicionar Título"
      ],
      "execution_count": 51,
      "outputs": [
        {
          "output_type": "execute_result",
          "data": {
            "text/plain": [
              "Text(0.5, 1.0, 'Cobertura vacinal dos municípios afetados no estado de GO em 2021')"
            ]
          },
          "metadata": {},
          "execution_count": 51
        },
        {
          "output_type": "display_data",
          "data": {
            "image/png": "[encoded data removed]",
            "text/plain": [
              "<Figure size 864x432 with 1 Axes>"
            ]
          },
          "metadata": {
            "needs_background": "light"
          }
        }
      ]
    },
    {
      "cell_type": "markdown",
      "metadata": {
        "id": "gZZi_ODbq9W3"
      },
      "source": [
        "Nenhum dos muncípios possuem cobertura vacinal acima de 80%."
      ]
    },
    {
      "cell_type": "markdown",
      "metadata": {
        "id": "-1xA3xC8rJTP"
      },
      "source": [
        "São Paulo, teve apenas 2 municípios afetados em 2021."
      ]
    },
    {
      "cell_type": "code",
      "metadata": {
        "id": "wkHtk9KorRo3"
      },
      "source": [
        "SP_2021 = CV_municipios_afetados2021.query('UF==\"São Paulo\"').sort_values(by='2021',ascending=False)\n"
      ],
      "execution_count": 52,
      "outputs": []
    },
    {
      "cell_type": "code",
      "metadata": {
        "colab": {
          "base_uri": "https://localhost:8080/",
          "height": 410
        },
        "id": "-vBirDSlr2q6",
        "outputId": "d4c57037-79dc-4e08-a811-f17b2b8a6203"
      },
      "source": [
        "plt.figure(figsize=(12, 6))                                                     #Ajustando o tamanho\n",
        "color=['#CD5C5C']\n",
        "ax =sns.barplot(data=SP_2021,y='2021',x='Município',palette = color)            #Criando grafico\n",
        "ax.yaxis.set_major_formatter(ticker.StrMethodFormatter('{x:,.0f}%'))            #Formatar números do eixo y\n",
        "\n",
        "plt.ylabel(None)                                                                #Modificar o rórulo do eixo x\n",
        "plt.xlabel(None)                                                                #Modificar o rórulo do eixo x\n",
        "plt.ylim(0,100)                                                                 #Ajustar limite do eixo y\n",
        "plt.title(\"Cobertura vacinal dos municípios afetados no estado de SP em 2021\",\n",
        "          size=16)                                                              #Adicionar Título"
      ],
      "execution_count": 53,
      "outputs": [
        {
          "output_type": "execute_result",
          "data": {
            "text/plain": [
              "Text(0.5, 1.0, 'Cobertura vacinal dos municípios afetados no estado de SP em 2021')"
            ]
          },
          "metadata": {},
          "execution_count": 53
        },
        {
          "output_type": "display_data",
          "data": {
            "image/png": "[encoded data removed]",
            "text/plain": [
              "<Figure size 864x432 with 1 Axes>"
            ]
          },
          "metadata": {
            "needs_background": "light"
          }
        }
      ]
    },
    {
      "cell_type": "markdown",
      "metadata": {
        "id": "cxEhX-bpsYK0"
      },
      "source": [
        "Nenhum dos dois municípios possuem valores mínimos."
      ]
    },
    {
      "cell_type": "markdown",
      "metadata": {
        "id": "o73VMUxytpj8"
      },
      "source": [
        "No Paraná foram 10 muncípios afetados em 2021."
      ]
    },
    {
      "cell_type": "code",
      "metadata": {
        "id": "bvO24Amhshvk"
      },
      "source": [
        "PR_2021 = CV_municipios_afetados2021.query('UF==\"Paraná\"').sort_values(by='2021',ascending=False)\n"
      ],
      "execution_count": 54,
      "outputs": []
    },
    {
      "cell_type": "code",
      "metadata": {
        "colab": {
          "base_uri": "https://localhost:8080/",
          "height": 542
        },
        "id": "OhyZFJBBslws",
        "outputId": "f743b9dd-3bcc-4995-c202-05aa1b1491f6"
      },
      "source": [
        "fig = px.box(PR_2021,y='2021')                                                  #Criando gráfico\n",
        "\n",
        "fig.update_layout(\n",
        "    title=\"Cobertura vacinal dos municípios afetados no estado do PR em 2021\",  #Título\n",
        "    yaxis_title=None)                                                           #Excluindo label do eixo y\n",
        "layout = go.Layout(yaxis=dict(range=[0, 150]))                                  #Modificando range do eixo y\n",
        "fig.show()"
      ],
      "execution_count": 55,
      "outputs": [
        {
          "output_type": "display_data",
          "data": {
            "text/html": [
              "<html>\n",
              "<head><meta charset=\"utf-8\" /></head>\n",
              "<body>\n",
              "    <div>\n",
              "            <script src=\"https://cdnjs.cloudflare.com/ajax/libs/mathjax/2.7.5/MathJax.js?config=TeX-AMS-MML_SVG\"></script><script type=\"text/javascript\">if (window.MathJax) {MathJax.Hub.Config({SVG: {font: \"STIX-Web\"}});}</script>\n",
              "                <script type=\"text/javascript\">window.PlotlyConfig = {MathJaxConfig: 'local'};</script>\n",
              "        <script src=\"https://cdn.plot.ly/plotly-latest.min.js\"></script>    \n",
              "            <div id=\"46e35b74-3f3d-4a52-b345-3a7b097e68f8\" class=\"plotly-graph-div\" style=\"height:525px; width:100%;\"></div>\n",
              "            <script type=\"text/javascript\">\n",
              "                \n",
              "                    window.PLOTLYENV=window.PLOTLYENV || {};\n",
              "                    \n",
              "                if (document.getElementById(\"46e35b74-3f3d-4a52-b345-3a7b097e68f8\")) {\n",
              "                    Plotly.newPlot(\n",
              "                        '46e35b74-3f3d-4a52-b345-3a7b097e68f8',\n",
              "                        [{\"alignmentgroup\": \"True\", \"hoverlabel\": {\"namelength\": 0}, \"hovertemplate\": \"2021=%{y}\", \"legendgroup\": \"\", \"marker\": {\"color\": \"#636efa\"}, \"name\": \"\", \"notched\": false, \"offsetgroup\": \"\", \"orientation\": \"v\", \"showlegend\": false, \"type\": \"box\", \"x0\": \" \", \"xaxis\": \"x\", \"y\": [71.43, 68.42, 66.67, 60.52, 58.5, 57.69, 54.36, 53.88, 47.67, 33.47], \"y0\": \" \", \"yaxis\": \"y\"}],\n",
              "                        {\"boxmode\": \"group\", \"legend\": {\"tracegroupgap\": 0}, \"margin\": {\"t\": 60}, \"template\": {\"data\": {\"bar\": [{\"error_x\": {\"color\": \"#2a3f5f\"}, \"error_y\": {\"color\": \"#2a3f5f\"}, \"marker\": {\"line\": {\"color\": \"#E5ECF6\", \"width\": 0.5}}, \"type\": \"bar\"}], \"barpolar\": [{\"marker\": {\"line\": {\"color\": \"#E5ECF6\", \"width\": 0.5}}, \"type\": \"barpolar\"}], \"carpet\": [{\"aaxis\": {\"endlinecolor\": \"#2a3f5f\", \"gridcolor\": \"white\", \"linecolor\": \"white\", \"minorgridcolor\": \"white\", \"startlinecolor\": \"#2a3f5f\"}, \"baxis\": {\"endlinecolor\": \"#2a3f5f\", \"gridcolor\": \"white\", \"linecolor\": \"white\", \"minorgridcolor\": \"white\", \"startlinecolor\": \"#2a3f5f\"}, \"type\": \"carpet\"}], \"choropleth\": [{\"colorbar\": {\"outlinewidth\": 0, \"ticks\": \"\"}, \"type\": \"choropleth\"}], \"contour\": [{\"colorbar\": {\"outlinewidth\": 0, \"ticks\": \"\"}, \"colorscale\": [[0.0, \"#0d0887\"], [0.1111111111111111, \"#46039f\"], [0.2222222222222222, \"#7201a8\"], [0.3333333333333333, \"#9c179e\"], [0.4444444444444444, \"#bd3786\"], [0.5555555555555556, \"#d8576b\"], [0.6666666666666666, \"#ed7953\"], [0.7777777777777778, \"#fb9f3a\"], [0.8888888888888888, \"#fdca26\"], [1.0, \"#f0f921\"]], \"type\": \"contour\"}], \"contourcarpet\": [{\"colorbar\": {\"outlinewidth\": 0, \"ticks\": \"\"}, \"type\": \"contourcarpet\"}], \"heatmap\": [{\"colorbar\": {\"outlinewidth\": 0, \"ticks\": \"\"}, \"colorscale\": [[0.0, \"#0d0887\"], [0.1111111111111111, \"#46039f\"], [0.2222222222222222, \"#7201a8\"], [0.3333333333333333, \"#9c179e\"], [0.4444444444444444, \"#bd3786\"], [0.5555555555555556, \"#d8576b\"], [0.6666666666666666, \"#ed7953\"], [0.7777777777777778, \"#fb9f3a\"], [0.8888888888888888, \"#fdca26\"], [1.0, \"#f0f921\"]], \"type\": \"heatmap\"}], \"heatmapgl\": [{\"colorbar\": {\"outlinewidth\": 0, \"ticks\": \"\"}, \"colorscale\": [[0.0, \"#0d0887\"], [0.1111111111111111, \"#46039f\"], [0.2222222222222222, \"#7201a8\"], [0.3333333333333333, \"#9c179e\"], [0.4444444444444444, \"#bd3786\"], [0.5555555555555556, \"#d8576b\"], [0.6666666666666666, \"#ed7953\"], [0.7777777777777778, \"#fb9f3a\"], [0.8888888888888888, \"#fdca26\"], [1.0, \"#f0f921\"]], \"type\": \"heatmapgl\"}], \"histogram\": [{\"marker\": {\"colorbar\": {\"outlinewidth\": 0, \"ticks\": \"\"}}, \"type\": \"histogram\"}], \"histogram2d\": [{\"colorbar\": {\"outlinewidth\": 0, \"ticks\": \"\"}, \"colorscale\": [[0.0, \"#0d0887\"], [0.1111111111111111, \"#46039f\"], [0.2222222222222222, \"#7201a8\"], [0.3333333333333333, \"#9c179e\"], [0.4444444444444444, \"#bd3786\"], [0.5555555555555556, \"#d8576b\"], [0.6666666666666666, \"#ed7953\"], [0.7777777777777778, \"#fb9f3a\"], [0.8888888888888888, \"#fdca26\"], [1.0, \"#f0f921\"]], \"type\": \"histogram2d\"}], \"histogram2dcontour\": [{\"colorbar\": {\"outlinewidth\": 0, \"ticks\": \"\"}, \"colorscale\": [[0.0, \"#0d0887\"], [0.1111111111111111, \"#46039f\"], [0.2222222222222222, \"#7201a8\"], [0.3333333333333333, \"#9c179e\"], [0.4444444444444444, \"#bd3786\"], [0.5555555555555556, \"#d8576b\"], [0.6666666666666666, \"#ed7953\"], [0.7777777777777778, \"#fb9f3a\"], [0.8888888888888888, \"#fdca26\"], [1.0, \"#f0f921\"]], \"type\": \"histogram2dcontour\"}], \"mesh3d\": [{\"colorbar\": {\"outlinewidth\": 0, \"ticks\": \"\"}, \"type\": \"mesh3d\"}], \"parcoords\": [{\"line\": {\"colorbar\": {\"outlinewidth\": 0, \"ticks\": \"\"}}, \"type\": \"parcoords\"}], \"pie\": [{\"automargin\": true, \"type\": \"pie\"}], \"scatter\": [{\"marker\": {\"colorbar\": {\"outlinewidth\": 0, \"ticks\": \"\"}}, \"type\": \"scatter\"}], \"scatter3d\": [{\"line\": {\"colorbar\": {\"outlinewidth\": 0, \"ticks\": \"\"}}, \"marker\": {\"colorbar\": {\"outlinewidth\": 0, \"ticks\": \"\"}}, \"type\": \"scatter3d\"}], \"scattercarpet\": [{\"marker\": {\"colorbar\": {\"outlinewidth\": 0, \"ticks\": \"\"}}, \"type\": \"scattercarpet\"}], \"scattergeo\": [{\"marker\": {\"colorbar\": {\"outlinewidth\": 0, \"ticks\": \"\"}}, \"type\": \"scattergeo\"}], \"scattergl\": [{\"marker\": {\"colorbar\": {\"outlinewidth\": 0, \"ticks\": \"\"}}, \"type\": \"scattergl\"}], \"scattermapbox\": [{\"marker\": {\"colorbar\": {\"outlinewidth\": 0, \"ticks\": \"\"}}, \"type\": \"scattermapbox\"}], \"scatterpolar\": [{\"marker\": {\"colorbar\": {\"outlinewidth\": 0, \"ticks\": \"\"}}, \"type\": \"scatterpolar\"}], \"scatterpolargl\": [{\"marker\": {\"colorbar\": {\"outlinewidth\": 0, \"ticks\": \"\"}}, \"type\": \"scatterpolargl\"}], \"scatterternary\": [{\"marker\": {\"colorbar\": {\"outlinewidth\": 0, \"ticks\": \"\"}}, \"type\": \"scatterternary\"}], \"surface\": [{\"colorbar\": {\"outlinewidth\": 0, \"ticks\": \"\"}, \"colorscale\": [[0.0, \"#0d0887\"], [0.1111111111111111, \"#46039f\"], [0.2222222222222222, \"#7201a8\"], [0.3333333333333333, \"#9c179e\"], [0.4444444444444444, \"#bd3786\"], [0.5555555555555556, \"#d8576b\"], [0.6666666666666666, \"#ed7953\"], [0.7777777777777778, \"#fb9f3a\"], [0.8888888888888888, \"#fdca26\"], [1.0, \"#f0f921\"]], \"type\": \"surface\"}], \"table\": [{\"cells\": {\"fill\": {\"color\": \"#EBF0F8\"}, \"line\": {\"color\": \"white\"}}, \"header\": {\"fill\": {\"color\": \"#C8D4E3\"}, \"line\": {\"color\": \"white\"}}, \"type\": \"table\"}]}, \"layout\": {\"annotationdefaults\": {\"arrowcolor\": \"#2a3f5f\", \"arrowhead\": 0, \"arrowwidth\": 1}, \"coloraxis\": {\"colorbar\": {\"outlinewidth\": 0, \"ticks\": \"\"}}, \"colorscale\": {\"diverging\": [[0, \"#8e0152\"], [0.1, \"#c51b7d\"], [0.2, \"#de77ae\"], [0.3, \"#f1b6da\"], [0.4, \"#fde0ef\"], [0.5, \"#f7f7f7\"], [0.6, \"#e6f5d0\"], [0.7, \"#b8e186\"], [0.8, \"#7fbc41\"], [0.9, \"#4d9221\"], [1, \"#276419\"]], \"sequential\": [[0.0, \"#0d0887\"], [0.1111111111111111, \"#46039f\"], [0.2222222222222222, \"#7201a8\"], [0.3333333333333333, \"#9c179e\"], [0.4444444444444444, \"#bd3786\"], [0.5555555555555556, \"#d8576b\"], [0.6666666666666666, \"#ed7953\"], [0.7777777777777778, \"#fb9f3a\"], [0.8888888888888888, \"#fdca26\"], [1.0, \"#f0f921\"]], \"sequentialminus\": [[0.0, \"#0d0887\"], [0.1111111111111111, \"#46039f\"], [0.2222222222222222, \"#7201a8\"], [0.3333333333333333, \"#9c179e\"], [0.4444444444444444, \"#bd3786\"], [0.5555555555555556, \"#d8576b\"], [0.6666666666666666, \"#ed7953\"], [0.7777777777777778, \"#fb9f3a\"], [0.8888888888888888, \"#fdca26\"], [1.0, \"#f0f921\"]]}, \"colorway\": [\"#636efa\", \"#EF553B\", \"#00cc96\", \"#ab63fa\", \"#FFA15A\", \"#19d3f3\", \"#FF6692\", \"#B6E880\", \"#FF97FF\", \"#FECB52\"], \"font\": {\"color\": \"#2a3f5f\"}, \"geo\": {\"bgcolor\": \"white\", \"lakecolor\": \"white\", \"landcolor\": \"#E5ECF6\", \"showlakes\": true, \"showland\": true, \"subunitcolor\": \"white\"}, \"hoverlabel\": {\"align\": \"left\"}, \"hovermode\": \"closest\", \"mapbox\": {\"style\": \"light\"}, \"paper_bgcolor\": \"white\", \"plot_bgcolor\": \"#E5ECF6\", \"polar\": {\"angularaxis\": {\"gridcolor\": \"white\", \"linecolor\": \"white\", \"ticks\": \"\"}, \"bgcolor\": \"#E5ECF6\", \"radialaxis\": {\"gridcolor\": \"white\", \"linecolor\": \"white\", \"ticks\": \"\"}}, \"scene\": {\"xaxis\": {\"backgroundcolor\": \"#E5ECF6\", \"gridcolor\": \"white\", \"gridwidth\": 2, \"linecolor\": \"white\", \"showbackground\": true, \"ticks\": \"\", \"zerolinecolor\": \"white\"}, \"yaxis\": {\"backgroundcolor\": \"#E5ECF6\", \"gridcolor\": \"white\", \"gridwidth\": 2, \"linecolor\": \"white\", \"showbackground\": true, \"ticks\": \"\", \"zerolinecolor\": \"white\"}, \"zaxis\": {\"backgroundcolor\": \"#E5ECF6\", \"gridcolor\": \"white\", \"gridwidth\": 2, \"linecolor\": \"white\", \"showbackground\": true, \"ticks\": \"\", \"zerolinecolor\": \"white\"}}, \"shapedefaults\": {\"line\": {\"color\": \"#2a3f5f\"}}, \"ternary\": {\"aaxis\": {\"gridcolor\": \"white\", \"linecolor\": \"white\", \"ticks\": \"\"}, \"baxis\": {\"gridcolor\": \"white\", \"linecolor\": \"white\", \"ticks\": \"\"}, \"bgcolor\": \"#E5ECF6\", \"caxis\": {\"gridcolor\": \"white\", \"linecolor\": \"white\", \"ticks\": \"\"}}, \"title\": {\"x\": 0.05}, \"xaxis\": {\"automargin\": true, \"gridcolor\": \"white\", \"linecolor\": \"white\", \"ticks\": \"\", \"title\": {\"standoff\": 15}, \"zerolinecolor\": \"white\", \"zerolinewidth\": 2}, \"yaxis\": {\"automargin\": true, \"gridcolor\": \"white\", \"linecolor\": \"white\", \"ticks\": \"\", \"title\": {\"standoff\": 15}, \"zerolinecolor\": \"white\", \"zerolinewidth\": 2}}}, \"title\": {\"text\": \"Cobertura vacinal dos munic\\u00edpios afetados no estado do PR em 2021\"}, \"xaxis\": {\"anchor\": \"y\", \"domain\": [0.0, 1.0]}, \"yaxis\": {\"anchor\": \"x\", \"domain\": [0.0, 1.0], \"title\": {}}},\n",
              "                        {\"responsive\": true}\n",
              "                    ).then(function(){\n",
              "                            \n",
              "var gd = document.getElementById('46e35b74-3f3d-4a52-b345-3a7b097e68f8');\n",
              "var x = new MutationObserver(function (mutations, observer) {{\n",
              "        var display = window.getComputedStyle(gd).display;\n",
              "        if (!display || display === 'none') {{\n",
              "            console.log([gd, 'removed!']);\n",
              "            Plotly.purge(gd);\n",
              "            observer.disconnect();\n",
              "        }}\n",
              "}});\n",
              "\n",
              "// Listen for the removal of the full notebook cells\n",
              "var notebookContainer = gd.closest('#notebook-container');\n",
              "if (notebookContainer) {{\n",
              "    x.observe(notebookContainer, {childList: true});\n",
              "}}\n",
              "\n",
              "// Listen for the clearing of the current output cell\n",
              "var outputEl = gd.closest('.output');\n",
              "if (outputEl) {{\n",
              "    x.observe(outputEl, {childList: true});\n",
              "}}\n",
              "\n",
              "                        })\n",
              "                };\n",
              "                \n",
              "            </script>\n",
              "        </div>\n",
              "</body>\n",
              "</html>"
            ]
          },
          "metadata": {}
        }
      ]
    },
    {
      "cell_type": "markdown",
      "metadata": {
        "id": "mbs6ctesuAS6"
      },
      "source": [
        "Todos eles com índices abaixo do recomendado.\n",
        "O que é muito preocupante, devido a grande probablidade de contágio de febre amarela."
      ]
    },
    {
      "cell_type": "markdown",
      "metadata": {
        "id": "lKNRtseGuQ_y"
      },
      "source": [
        "Santa Catarina ao todo foram 33 muncípios afetados."
      ]
    },
    {
      "cell_type": "code",
      "metadata": {
        "id": "wqhen6YruU19"
      },
      "source": [
        "SC_2021 = CV_municipios_afetados2021.query('UF==\"Santa Catarina\"').sort_values(by='2021',ascending=False)\n"
      ],
      "execution_count": 56,
      "outputs": []
    },
    {
      "cell_type": "code",
      "metadata": {
        "colab": {
          "base_uri": "https://localhost:8080/",
          "height": 542
        },
        "id": "aiMPzaTvup7R",
        "outputId": "0df35598-ef5f-4533-dda9-a997c61e2014"
      },
      "source": [
        "fig = px.box(SC_2021,y='2021')                                                  #Criando gráfico\n",
        "\n",
        "fig.update_layout(\n",
        "    title=\"Cobertura vacinal dos municípios afetados no estado de SC em 2021\",  #Título\n",
        "    yaxis_title=None)                                                           #Excluindo label do eixo y\n",
        "layout = go.Layout(yaxis=dict(range=[0, 150]))                                  #Modificando range do eixo y\n",
        "fig.show()"
      ],
      "execution_count": 57,
      "outputs": [
        {
          "output_type": "display_data",
          "data": {
            "text/html": [
              "<html>\n",
              "<head><meta charset=\"utf-8\" /></head>\n",
              "<body>\n",
              "    <div>\n",
              "            <script src=\"https://cdnjs.cloudflare.com/ajax/libs/mathjax/2.7.5/MathJax.js?config=TeX-AMS-MML_SVG\"></script><script type=\"text/javascript\">if (window.MathJax) {MathJax.Hub.Config({SVG: {font: \"STIX-Web\"}});}</script>\n",
              "                <script type=\"text/javascript\">window.PlotlyConfig = {MathJaxConfig: 'local'};</script>\n",
              "        <script src=\"https://cdn.plot.ly/plotly-latest.min.js\"></script>    \n",
              "            <div id=\"2e58104d-0022-43fa-8a99-e5ae281fc650\" class=\"plotly-graph-div\" style=\"height:525px; width:100%;\"></div>\n",
              "            <script type=\"text/javascript\">\n",
              "                \n",
              "                    window.PLOTLYENV=window.PLOTLYENV || {};\n",
              "                    \n",
              "                if (document.getElementById(\"2e58104d-0022-43fa-8a99-e5ae281fc650\")) {\n",
              "                    Plotly.newPlot(\n",
              "                        '2e58104d-0022-43fa-8a99-e5ae281fc650',\n",
              "                        [{\"alignmentgroup\": \"True\", \"hoverlabel\": {\"namelength\": 0}, \"hovertemplate\": \"2021=%{y}\", \"legendgroup\": \"\", \"marker\": {\"color\": \"#636efa\"}, \"name\": \"\", \"notched\": false, \"offsetgroup\": \"\", \"orientation\": \"v\", \"showlegend\": false, \"type\": \"box\", \"x0\": \" \", \"xaxis\": \"x\", \"y\": [118.18, 107.46, 105.88, 105.0, 99.12, 98.53, 96.88, 86.34, 84.26, 81.08, 76.67, 75.58, 73.31, 72.5, 72.13, 71.43, 70.69, 70.67, 68.18, 66.67, 66.67, 66.57, 65.0, 63.81, 62.5, 61.29, 59.72, 58.24, 48.57, 42.15, 34.12, 33.33, 25.62], \"y0\": \" \", \"yaxis\": \"y\"}],\n",
              "                        {\"boxmode\": \"group\", \"legend\": {\"tracegroupgap\": 0}, \"margin\": {\"t\": 60}, \"template\": {\"data\": {\"bar\": [{\"error_x\": {\"color\": \"#2a3f5f\"}, \"error_y\": {\"color\": \"#2a3f5f\"}, \"marker\": {\"line\": {\"color\": \"#E5ECF6\", \"width\": 0.5}}, \"type\": \"bar\"}], \"barpolar\": [{\"marker\": {\"line\": {\"color\": \"#E5ECF6\", \"width\": 0.5}}, \"type\": \"barpolar\"}], \"carpet\": [{\"aaxis\": {\"endlinecolor\": \"#2a3f5f\", \"gridcolor\": \"white\", \"linecolor\": \"white\", \"minorgridcolor\": \"white\", \"startlinecolor\": \"#2a3f5f\"}, \"baxis\": {\"endlinecolor\": \"#2a3f5f\", \"gridcolor\": \"white\", \"linecolor\": \"white\", \"minorgridcolor\": \"white\", \"startlinecolor\": \"#2a3f5f\"}, \"type\": \"carpet\"}], \"choropleth\": [{\"colorbar\": {\"outlinewidth\": 0, \"ticks\": \"\"}, \"type\": \"choropleth\"}], \"contour\": [{\"colorbar\": {\"outlinewidth\": 0, \"ticks\": \"\"}, \"colorscale\": [[0.0, \"#0d0887\"], [0.1111111111111111, \"#46039f\"], [0.2222222222222222, \"#7201a8\"], [0.3333333333333333, \"#9c179e\"], [0.4444444444444444, \"#bd3786\"], [0.5555555555555556, \"#d8576b\"], [0.6666666666666666, \"#ed7953\"], [0.7777777777777778, \"#fb9f3a\"], [0.8888888888888888, \"#fdca26\"], [1.0, \"#f0f921\"]], \"type\": \"contour\"}], \"contourcarpet\": [{\"colorbar\": {\"outlinewidth\": 0, \"ticks\": \"\"}, \"type\": \"contourcarpet\"}], \"heatmap\": [{\"colorbar\": {\"outlinewidth\": 0, \"ticks\": \"\"}, \"colorscale\": [[0.0, \"#0d0887\"], [0.1111111111111111, \"#46039f\"], [0.2222222222222222, \"#7201a8\"], [0.3333333333333333, \"#9c179e\"], [0.4444444444444444, \"#bd3786\"], [0.5555555555555556, \"#d8576b\"], [0.6666666666666666, \"#ed7953\"], [0.7777777777777778, \"#fb9f3a\"], [0.8888888888888888, \"#fdca26\"], [1.0, \"#f0f921\"]], \"type\": \"heatmap\"}], \"heatmapgl\": [{\"colorbar\": {\"outlinewidth\": 0, \"ticks\": \"\"}, \"colorscale\": [[0.0, \"#0d0887\"], [0.1111111111111111, \"#46039f\"], [0.2222222222222222, \"#7201a8\"], [0.3333333333333333, \"#9c179e\"], [0.4444444444444444, \"#bd3786\"], [0.5555555555555556, \"#d8576b\"], [0.6666666666666666, \"#ed7953\"], [0.7777777777777778, \"#fb9f3a\"], [0.8888888888888888, \"#fdca26\"], [1.0, \"#f0f921\"]], \"type\": \"heatmapgl\"}], \"histogram\": [{\"marker\": {\"colorbar\": {\"outlinewidth\": 0, \"ticks\": \"\"}}, \"type\": \"histogram\"}], \"histogram2d\": [{\"colorbar\": {\"outlinewidth\": 0, \"ticks\": \"\"}, \"colorscale\": [[0.0, \"#0d0887\"], [0.1111111111111111, \"#46039f\"], [0.2222222222222222, \"#7201a8\"], [0.3333333333333333, \"#9c179e\"], [0.4444444444444444, \"#bd3786\"], [0.5555555555555556, \"#d8576b\"], [0.6666666666666666, \"#ed7953\"], [0.7777777777777778, \"#fb9f3a\"], [0.8888888888888888, \"#fdca26\"], [1.0, \"#f0f921\"]], \"type\": \"histogram2d\"}], \"histogram2dcontour\": [{\"colorbar\": {\"outlinewidth\": 0, \"ticks\": \"\"}, \"colorscale\": [[0.0, \"#0d0887\"], [0.1111111111111111, \"#46039f\"], [0.2222222222222222, \"#7201a8\"], [0.3333333333333333, \"#9c179e\"], [0.4444444444444444, \"#bd3786\"], [0.5555555555555556, \"#d8576b\"], [0.6666666666666666, \"#ed7953\"], [0.7777777777777778, \"#fb9f3a\"], [0.8888888888888888, \"#fdca26\"], [1.0, \"#f0f921\"]], \"type\": \"histogram2dcontour\"}], \"mesh3d\": [{\"colorbar\": {\"outlinewidth\": 0, \"ticks\": \"\"}, \"type\": \"mesh3d\"}], \"parcoords\": [{\"line\": {\"colorbar\": {\"outlinewidth\": 0, \"ticks\": \"\"}}, \"type\": \"parcoords\"}], \"pie\": [{\"automargin\": true, \"type\": \"pie\"}], \"scatter\": [{\"marker\": {\"colorbar\": {\"outlinewidth\": 0, \"ticks\": \"\"}}, \"type\": \"scatter\"}], \"scatter3d\": [{\"line\": {\"colorbar\": {\"outlinewidth\": 0, \"ticks\": \"\"}}, \"marker\": {\"colorbar\": {\"outlinewidth\": 0, \"ticks\": \"\"}}, \"type\": \"scatter3d\"}], \"scattercarpet\": [{\"marker\": {\"colorbar\": {\"outlinewidth\": 0, \"ticks\": \"\"}}, \"type\": \"scattercarpet\"}], \"scattergeo\": [{\"marker\": {\"colorbar\": {\"outlinewidth\": 0, \"ticks\": \"\"}}, \"type\": \"scattergeo\"}], \"scattergl\": [{\"marker\": {\"colorbar\": {\"outlinewidth\": 0, \"ticks\": \"\"}}, \"type\": \"scattergl\"}], \"scattermapbox\": [{\"marker\": {\"colorbar\": {\"outlinewidth\": 0, \"ticks\": \"\"}}, \"type\": \"scattermapbox\"}], \"scatterpolar\": [{\"marker\": {\"colorbar\": {\"outlinewidth\": 0, \"ticks\": \"\"}}, \"type\": \"scatterpolar\"}], \"scatterpolargl\": [{\"marker\": {\"colorbar\": {\"outlinewidth\": 0, \"ticks\": \"\"}}, \"type\": \"scatterpolargl\"}], \"scatterternary\": [{\"marker\": {\"colorbar\": {\"outlinewidth\": 0, \"ticks\": \"\"}}, \"type\": \"scatterternary\"}], \"surface\": [{\"colorbar\": {\"outlinewidth\": 0, \"ticks\": \"\"}, \"colorscale\": [[0.0, \"#0d0887\"], [0.1111111111111111, \"#46039f\"], [0.2222222222222222, \"#7201a8\"], [0.3333333333333333, \"#9c179e\"], [0.4444444444444444, \"#bd3786\"], [0.5555555555555556, \"#d8576b\"], [0.6666666666666666, \"#ed7953\"], [0.7777777777777778, \"#fb9f3a\"], [0.8888888888888888, \"#fdca26\"], [1.0, \"#f0f921\"]], \"type\": \"surface\"}], \"table\": [{\"cells\": {\"fill\": {\"color\": \"#EBF0F8\"}, \"line\": {\"color\": \"white\"}}, \"header\": {\"fill\": {\"color\": \"#C8D4E3\"}, \"line\": {\"color\": \"white\"}}, \"type\": \"table\"}]}, \"layout\": {\"annotationdefaults\": {\"arrowcolor\": \"#2a3f5f\", \"arrowhead\": 0, \"arrowwidth\": 1}, \"coloraxis\": {\"colorbar\": {\"outlinewidth\": 0, \"ticks\": \"\"}}, \"colorscale\": {\"diverging\": [[0, \"#8e0152\"], [0.1, \"#c51b7d\"], [0.2, \"#de77ae\"], [0.3, \"#f1b6da\"], [0.4, \"#fde0ef\"], [0.5, \"#f7f7f7\"], [0.6, \"#e6f5d0\"], [0.7, \"#b8e186\"], [0.8, \"#7fbc41\"], [0.9, \"#4d9221\"], [1, \"#276419\"]], \"sequential\": [[0.0, \"#0d0887\"], [0.1111111111111111, \"#46039f\"], [0.2222222222222222, \"#7201a8\"], [0.3333333333333333, \"#9c179e\"], [0.4444444444444444, \"#bd3786\"], [0.5555555555555556, \"#d8576b\"], [0.6666666666666666, \"#ed7953\"], [0.7777777777777778, \"#fb9f3a\"], [0.8888888888888888, \"#fdca26\"], [1.0, \"#f0f921\"]], \"sequentialminus\": [[0.0, \"#0d0887\"], [0.1111111111111111, \"#46039f\"], [0.2222222222222222, \"#7201a8\"], [0.3333333333333333, \"#9c179e\"], [0.4444444444444444, \"#bd3786\"], [0.5555555555555556, \"#d8576b\"], [0.6666666666666666, \"#ed7953\"], [0.7777777777777778, \"#fb9f3a\"], [0.8888888888888888, \"#fdca26\"], [1.0, \"#f0f921\"]]}, \"colorway\": [\"#636efa\", \"#EF553B\", \"#00cc96\", \"#ab63fa\", \"#FFA15A\", \"#19d3f3\", \"#FF6692\", \"#B6E880\", \"#FF97FF\", \"#FECB52\"], \"font\": {\"color\": \"#2a3f5f\"}, \"geo\": {\"bgcolor\": \"white\", \"lakecolor\": \"white\", \"landcolor\": \"#E5ECF6\", \"showlakes\": true, \"showland\": true, \"subunitcolor\": \"white\"}, \"hoverlabel\": {\"align\": \"left\"}, \"hovermode\": \"closest\", \"mapbox\": {\"style\": \"light\"}, \"paper_bgcolor\": \"white\", \"plot_bgcolor\": \"#E5ECF6\", \"polar\": {\"angularaxis\": {\"gridcolor\": \"white\", \"linecolor\": \"white\", \"ticks\": \"\"}, \"bgcolor\": \"#E5ECF6\", \"radialaxis\": {\"gridcolor\": \"white\", \"linecolor\": \"white\", \"ticks\": \"\"}}, \"scene\": {\"xaxis\": {\"backgroundcolor\": \"#E5ECF6\", \"gridcolor\": \"white\", \"gridwidth\": 2, \"linecolor\": \"white\", \"showbackground\": true, \"ticks\": \"\", \"zerolinecolor\": \"white\"}, \"yaxis\": {\"backgroundcolor\": \"#E5ECF6\", \"gridcolor\": \"white\", \"gridwidth\": 2, \"linecolor\": \"white\", \"showbackground\": true, \"ticks\": \"\", \"zerolinecolor\": \"white\"}, \"zaxis\": {\"backgroundcolor\": \"#E5ECF6\", \"gridcolor\": \"white\", \"gridwidth\": 2, \"linecolor\": \"white\", \"showbackground\": true, \"ticks\": \"\", \"zerolinecolor\": \"white\"}}, \"shapedefaults\": {\"line\": {\"color\": \"#2a3f5f\"}}, \"ternary\": {\"aaxis\": {\"gridcolor\": \"white\", \"linecolor\": \"white\", \"ticks\": \"\"}, \"baxis\": {\"gridcolor\": \"white\", \"linecolor\": \"white\", \"ticks\": \"\"}, \"bgcolor\": \"#E5ECF6\", \"caxis\": {\"gridcolor\": \"white\", \"linecolor\": \"white\", \"ticks\": \"\"}}, \"title\": {\"x\": 0.05}, \"xaxis\": {\"automargin\": true, \"gridcolor\": \"white\", \"linecolor\": \"white\", \"ticks\": \"\", \"title\": {\"standoff\": 15}, \"zerolinecolor\": \"white\", \"zerolinewidth\": 2}, \"yaxis\": {\"automargin\": true, \"gridcolor\": \"white\", \"linecolor\": \"white\", \"ticks\": \"\", \"title\": {\"standoff\": 15}, \"zerolinecolor\": \"white\", \"zerolinewidth\": 2}}}, \"title\": {\"text\": \"Cobertura vacinal dos munic\\u00edpios afetados no estado de SC em 2021\"}, \"xaxis\": {\"anchor\": \"y\", \"domain\": [0.0, 1.0]}, \"yaxis\": {\"anchor\": \"x\", \"domain\": [0.0, 1.0], \"title\": {}}},\n",
              "                        {\"responsive\": true}\n",
              "                    ).then(function(){\n",
              "                            \n",
              "var gd = document.getElementById('2e58104d-0022-43fa-8a99-e5ae281fc650');\n",
              "var x = new MutationObserver(function (mutations, observer) {{\n",
              "        var display = window.getComputedStyle(gd).display;\n",
              "        if (!display || display === 'none') {{\n",
              "            console.log([gd, 'removed!']);\n",
              "            Plotly.purge(gd);\n",
              "            observer.disconnect();\n",
              "        }}\n",
              "}});\n",
              "\n",
              "// Listen for the removal of the full notebook cells\n",
              "var notebookContainer = gd.closest('#notebook-container');\n",
              "if (notebookContainer) {{\n",
              "    x.observe(notebookContainer, {childList: true});\n",
              "}}\n",
              "\n",
              "// Listen for the clearing of the current output cell\n",
              "var outputEl = gd.closest('.output');\n",
              "if (outputEl) {{\n",
              "    x.observe(outputEl, {childList: true});\n",
              "}}\n",
              "\n",
              "                        })\n",
              "                };\n",
              "                \n",
              "            </script>\n",
              "        </div>\n",
              "</body>\n",
              "</html>"
            ]
          },
          "metadata": {}
        }
      ]
    },
    {
      "cell_type": "markdown",
      "metadata": {
        "id": "woZrpIoku5JA"
      },
      "source": [
        "Aproxidamente 70% dos muncípios estão com valores abaixo do recomendado. \n",
        "Atualmente é gravíssimo esse ponto devido ao volume de de casos que estão na região."
      ]
    },
    {
      "cell_type": "markdown",
      "metadata": {
        "id": "vySESOhQvjYw"
      },
      "source": [
        "17 municípios foram afetados no RS em 2021"
      ]
    },
    {
      "cell_type": "code",
      "metadata": {
        "id": "tSRSyXwCvjFA"
      },
      "source": [
        "RS_2021 = CV_municipios_afetados2021.query('UF==\"Rio Grande do Sul\"').sort_values(by='2021',ascending=False)"
      ],
      "execution_count": 58,
      "outputs": []
    },
    {
      "cell_type": "code",
      "metadata": {
        "colab": {
          "base_uri": "https://localhost:8080/",
          "height": 542
        },
        "id": "ewaZFkLBvnyn",
        "outputId": "c34e2064-cfe8-46d5-8fb3-f4a7fce25cae"
      },
      "source": [
        "fig = px.box(RS_2021,y='2021')                                                  #Criando gráfico\n",
        "\n",
        "fig.update_layout(\n",
        "    title=\"Cobertura vacinal dos municípios afetados no estado de RS em 2021\",  #Título\n",
        "    yaxis_title=None)                                                           #Excluindo label do eixo y\n",
        "layout = go.Layout(yaxis=dict(range=[0, 150]))                                  #Modificando range do eixo y\n",
        "fig.show()"
      ],
      "execution_count": 59,
      "outputs": [
        {
          "output_type": "display_data",
          "data": {
            "text/html": [
              "<html>\n",
              "<head><meta charset=\"utf-8\" /></head>\n",
              "<body>\n",
              "    <div>\n",
              "            <script src=\"https://cdnjs.cloudflare.com/ajax/libs/mathjax/2.7.5/MathJax.js?config=TeX-AMS-MML_SVG\"></script><script type=\"text/javascript\">if (window.MathJax) {MathJax.Hub.Config({SVG: {font: \"STIX-Web\"}});}</script>\n",
              "                <script type=\"text/javascript\">window.PlotlyConfig = {MathJaxConfig: 'local'};</script>\n",
              "        <script src=\"https://cdn.plot.ly/plotly-latest.min.js\"></script>    \n",
              "            <div id=\"1596d949-d5a9-4fd0-b865-bba6989dfb52\" class=\"plotly-graph-div\" style=\"height:525px; width:100%;\"></div>\n",
              "            <script type=\"text/javascript\">\n",
              "                \n",
              "                    window.PLOTLYENV=window.PLOTLYENV || {};\n",
              "                    \n",
              "                if (document.getElementById(\"1596d949-d5a9-4fd0-b865-bba6989dfb52\")) {\n",
              "                    Plotly.newPlot(\n",
              "                        '1596d949-d5a9-4fd0-b865-bba6989dfb52',\n",
              "                        [{\"alignmentgroup\": \"True\", \"hoverlabel\": {\"namelength\": 0}, \"hovertemplate\": \"2021=%{y}\", \"legendgroup\": \"\", \"marker\": {\"color\": \"#636efa\"}, \"name\": \"\", \"notched\": false, \"offsetgroup\": \"\", \"orientation\": \"v\", \"showlegend\": false, \"type\": \"box\", \"x0\": \" \", \"xaxis\": \"x\", \"y\": [116.67, 115.0, 100.0, 96.08, 88.46, 86.27, 70.73, 65.0, 63.89, 57.38, 54.44, 54.42, 51.72, 51.39, 34.69, 27.78, 12.93], \"y0\": \" \", \"yaxis\": \"y\"}],\n",
              "                        {\"boxmode\": \"group\", \"legend\": {\"tracegroupgap\": 0}, \"margin\": {\"t\": 60}, \"template\": {\"data\": {\"bar\": [{\"error_x\": {\"color\": \"#2a3f5f\"}, \"error_y\": {\"color\": \"#2a3f5f\"}, \"marker\": {\"line\": {\"color\": \"#E5ECF6\", \"width\": 0.5}}, \"type\": \"bar\"}], \"barpolar\": [{\"marker\": {\"line\": {\"color\": \"#E5ECF6\", \"width\": 0.5}}, \"type\": \"barpolar\"}], \"carpet\": [{\"aaxis\": {\"endlinecolor\": \"#2a3f5f\", \"gridcolor\": \"white\", \"linecolor\": \"white\", \"minorgridcolor\": \"white\", \"startlinecolor\": \"#2a3f5f\"}, \"baxis\": {\"endlinecolor\": \"#2a3f5f\", \"gridcolor\": \"white\", \"linecolor\": \"white\", \"minorgridcolor\": \"white\", \"startlinecolor\": \"#2a3f5f\"}, \"type\": \"carpet\"}], \"choropleth\": [{\"colorbar\": {\"outlinewidth\": 0, \"ticks\": \"\"}, \"type\": \"choropleth\"}], \"contour\": [{\"colorbar\": {\"outlinewidth\": 0, \"ticks\": \"\"}, \"colorscale\": [[0.0, \"#0d0887\"], [0.1111111111111111, \"#46039f\"], [0.2222222222222222, \"#7201a8\"], [0.3333333333333333, \"#9c179e\"], [0.4444444444444444, \"#bd3786\"], [0.5555555555555556, \"#d8576b\"], [0.6666666666666666, \"#ed7953\"], [0.7777777777777778, \"#fb9f3a\"], [0.8888888888888888, \"#fdca26\"], [1.0, \"#f0f921\"]], \"type\": \"contour\"}], \"contourcarpet\": [{\"colorbar\": {\"outlinewidth\": 0, \"ticks\": \"\"}, \"type\": \"contourcarpet\"}], \"heatmap\": [{\"colorbar\": {\"outlinewidth\": 0, \"ticks\": \"\"}, \"colorscale\": [[0.0, \"#0d0887\"], [0.1111111111111111, \"#46039f\"], [0.2222222222222222, \"#7201a8\"], [0.3333333333333333, \"#9c179e\"], [0.4444444444444444, \"#bd3786\"], [0.5555555555555556, \"#d8576b\"], [0.6666666666666666, \"#ed7953\"], [0.7777777777777778, \"#fb9f3a\"], [0.8888888888888888, \"#fdca26\"], [1.0, \"#f0f921\"]], \"type\": \"heatmap\"}], \"heatmapgl\": [{\"colorbar\": {\"outlinewidth\": 0, \"ticks\": \"\"}, \"colorscale\": [[0.0, \"#0d0887\"], [0.1111111111111111, \"#46039f\"], [0.2222222222222222, \"#7201a8\"], [0.3333333333333333, \"#9c179e\"], [0.4444444444444444, \"#bd3786\"], [0.5555555555555556, \"#d8576b\"], [0.6666666666666666, \"#ed7953\"], [0.7777777777777778, \"#fb9f3a\"], [0.8888888888888888, \"#fdca26\"], [1.0, \"#f0f921\"]], \"type\": \"heatmapgl\"}], \"histogram\": [{\"marker\": {\"colorbar\": {\"outlinewidth\": 0, \"ticks\": \"\"}}, \"type\": \"histogram\"}], \"histogram2d\": [{\"colorbar\": {\"outlinewidth\": 0, \"ticks\": \"\"}, \"colorscale\": [[0.0, \"#0d0887\"], [0.1111111111111111, \"#46039f\"], [0.2222222222222222, \"#7201a8\"], [0.3333333333333333, \"#9c179e\"], [0.4444444444444444, \"#bd3786\"], [0.5555555555555556, \"#d8576b\"], [0.6666666666666666, \"#ed7953\"], [0.7777777777777778, \"#fb9f3a\"], [0.8888888888888888, \"#fdca26\"], [1.0, \"#f0f921\"]], \"type\": \"histogram2d\"}], \"histogram2dcontour\": [{\"colorbar\": {\"outlinewidth\": 0, \"ticks\": \"\"}, \"colorscale\": [[0.0, \"#0d0887\"], [0.1111111111111111, \"#46039f\"], [0.2222222222222222, \"#7201a8\"], [0.3333333333333333, \"#9c179e\"], [0.4444444444444444, \"#bd3786\"], [0.5555555555555556, \"#d8576b\"], [0.6666666666666666, \"#ed7953\"], [0.7777777777777778, \"#fb9f3a\"], [0.8888888888888888, \"#fdca26\"], [1.0, \"#f0f921\"]], \"type\": \"histogram2dcontour\"}], \"mesh3d\": [{\"colorbar\": {\"outlinewidth\": 0, \"ticks\": \"\"}, \"type\": \"mesh3d\"}], \"parcoords\": [{\"line\": {\"colorbar\": {\"outlinewidth\": 0, \"ticks\": \"\"}}, \"type\": \"parcoords\"}], \"pie\": [{\"automargin\": true, \"type\": \"pie\"}], \"scatter\": [{\"marker\": {\"colorbar\": {\"outlinewidth\": 0, \"ticks\": \"\"}}, \"type\": \"scatter\"}], \"scatter3d\": [{\"line\": {\"colorbar\": {\"outlinewidth\": 0, \"ticks\": \"\"}}, \"marker\": {\"colorbar\": {\"outlinewidth\": 0, \"ticks\": \"\"}}, \"type\": \"scatter3d\"}], \"scattercarpet\": [{\"marker\": {\"colorbar\": {\"outlinewidth\": 0, \"ticks\": \"\"}}, \"type\": \"scattercarpet\"}], \"scattergeo\": [{\"marker\": {\"colorbar\": {\"outlinewidth\": 0, \"ticks\": \"\"}}, \"type\": \"scattergeo\"}], \"scattergl\": [{\"marker\": {\"colorbar\": {\"outlinewidth\": 0, \"ticks\": \"\"}}, \"type\": \"scattergl\"}], \"scattermapbox\": [{\"marker\": {\"colorbar\": {\"outlinewidth\": 0, \"ticks\": \"\"}}, \"type\": \"scattermapbox\"}], \"scatterpolar\": [{\"marker\": {\"colorbar\": {\"outlinewidth\": 0, \"ticks\": \"\"}}, \"type\": \"scatterpolar\"}], \"scatterpolargl\": [{\"marker\": {\"colorbar\": {\"outlinewidth\": 0, \"ticks\": \"\"}}, \"type\": \"scatterpolargl\"}], \"scatterternary\": [{\"marker\": {\"colorbar\": {\"outlinewidth\": 0, \"ticks\": \"\"}}, \"type\": \"scatterternary\"}], \"surface\": [{\"colorbar\": {\"outlinewidth\": 0, \"ticks\": \"\"}, \"colorscale\": [[0.0, \"#0d0887\"], [0.1111111111111111, \"#46039f\"], [0.2222222222222222, \"#7201a8\"], [0.3333333333333333, \"#9c179e\"], [0.4444444444444444, \"#bd3786\"], [0.5555555555555556, \"#d8576b\"], [0.6666666666666666, \"#ed7953\"], [0.7777777777777778, \"#fb9f3a\"], [0.8888888888888888, \"#fdca26\"], [1.0, \"#f0f921\"]], \"type\": \"surface\"}], \"table\": [{\"cells\": {\"fill\": {\"color\": \"#EBF0F8\"}, \"line\": {\"color\": \"white\"}}, \"header\": {\"fill\": {\"color\": \"#C8D4E3\"}, \"line\": {\"color\": \"white\"}}, \"type\": \"table\"}]}, \"layout\": {\"annotationdefaults\": {\"arrowcolor\": \"#2a3f5f\", \"arrowhead\": 0, \"arrowwidth\": 1}, \"coloraxis\": {\"colorbar\": {\"outlinewidth\": 0, \"ticks\": \"\"}}, \"colorscale\": {\"diverging\": [[0, \"#8e0152\"], [0.1, \"#c51b7d\"], [0.2, \"#de77ae\"], [0.3, \"#f1b6da\"], [0.4, \"#fde0ef\"], [0.5, \"#f7f7f7\"], [0.6, \"#e6f5d0\"], [0.7, \"#b8e186\"], [0.8, \"#7fbc41\"], [0.9, \"#4d9221\"], [1, \"#276419\"]], \"sequential\": [[0.0, \"#0d0887\"], [0.1111111111111111, \"#46039f\"], [0.2222222222222222, \"#7201a8\"], [0.3333333333333333, \"#9c179e\"], [0.4444444444444444, \"#bd3786\"], [0.5555555555555556, \"#d8576b\"], [0.6666666666666666, \"#ed7953\"], [0.7777777777777778, \"#fb9f3a\"], [0.8888888888888888, \"#fdca26\"], [1.0, \"#f0f921\"]], \"sequentialminus\": [[0.0, \"#0d0887\"], [0.1111111111111111, \"#46039f\"], [0.2222222222222222, \"#7201a8\"], [0.3333333333333333, \"#9c179e\"], [0.4444444444444444, \"#bd3786\"], [0.5555555555555556, \"#d8576b\"], [0.6666666666666666, \"#ed7953\"], [0.7777777777777778, \"#fb9f3a\"], [0.8888888888888888, \"#fdca26\"], [1.0, \"#f0f921\"]]}, \"colorway\": [\"#636efa\", \"#EF553B\", \"#00cc96\", \"#ab63fa\", \"#FFA15A\", \"#19d3f3\", \"#FF6692\", \"#B6E880\", \"#FF97FF\", \"#FECB52\"], \"font\": {\"color\": \"#2a3f5f\"}, \"geo\": {\"bgcolor\": \"white\", \"lakecolor\": \"white\", \"landcolor\": \"#E5ECF6\", \"showlakes\": true, \"showland\": true, \"subunitcolor\": \"white\"}, \"hoverlabel\": {\"align\": \"left\"}, \"hovermode\": \"closest\", \"mapbox\": {\"style\": \"light\"}, \"paper_bgcolor\": \"white\", \"plot_bgcolor\": \"#E5ECF6\", \"polar\": {\"angularaxis\": {\"gridcolor\": \"white\", \"linecolor\": \"white\", \"ticks\": \"\"}, \"bgcolor\": \"#E5ECF6\", \"radialaxis\": {\"gridcolor\": \"white\", \"linecolor\": \"white\", \"ticks\": \"\"}}, \"scene\": {\"xaxis\": {\"backgroundcolor\": \"#E5ECF6\", \"gridcolor\": \"white\", \"gridwidth\": 2, \"linecolor\": \"white\", \"showbackground\": true, \"ticks\": \"\", \"zerolinecolor\": \"white\"}, \"yaxis\": {\"backgroundcolor\": \"#E5ECF6\", \"gridcolor\": \"white\", \"gridwidth\": 2, \"linecolor\": \"white\", \"showbackground\": true, \"ticks\": \"\", \"zerolinecolor\": \"white\"}, \"zaxis\": {\"backgroundcolor\": \"#E5ECF6\", \"gridcolor\": \"white\", \"gridwidth\": 2, \"linecolor\": \"white\", \"showbackground\": true, \"ticks\": \"\", \"zerolinecolor\": \"white\"}}, \"shapedefaults\": {\"line\": {\"color\": \"#2a3f5f\"}}, \"ternary\": {\"aaxis\": {\"gridcolor\": \"white\", \"linecolor\": \"white\", \"ticks\": \"\"}, \"baxis\": {\"gridcolor\": \"white\", \"linecolor\": \"white\", \"ticks\": \"\"}, \"bgcolor\": \"#E5ECF6\", \"caxis\": {\"gridcolor\": \"white\", \"linecolor\": \"white\", \"ticks\": \"\"}}, \"title\": {\"x\": 0.05}, \"xaxis\": {\"automargin\": true, \"gridcolor\": \"white\", \"linecolor\": \"white\", \"ticks\": \"\", \"title\": {\"standoff\": 15}, \"zerolinecolor\": \"white\", \"zerolinewidth\": 2}, \"yaxis\": {\"automargin\": true, \"gridcolor\": \"white\", \"linecolor\": \"white\", \"ticks\": \"\", \"title\": {\"standoff\": 15}, \"zerolinecolor\": \"white\", \"zerolinewidth\": 2}}}, \"title\": {\"text\": \"Cobertura vacinal dos munic\\u00edpios afetados no estado de RS em 2021\"}, \"xaxis\": {\"anchor\": \"y\", \"domain\": [0.0, 1.0]}, \"yaxis\": {\"anchor\": \"x\", \"domain\": [0.0, 1.0], \"title\": {}}},\n",
              "                        {\"responsive\": true}\n",
              "                    ).then(function(){\n",
              "                            \n",
              "var gd = document.getElementById('1596d949-d5a9-4fd0-b865-bba6989dfb52');\n",
              "var x = new MutationObserver(function (mutations, observer) {{\n",
              "        var display = window.getComputedStyle(gd).display;\n",
              "        if (!display || display === 'none') {{\n",
              "            console.log([gd, 'removed!']);\n",
              "            Plotly.purge(gd);\n",
              "            observer.disconnect();\n",
              "        }}\n",
              "}});\n",
              "\n",
              "// Listen for the removal of the full notebook cells\n",
              "var notebookContainer = gd.closest('#notebook-container');\n",
              "if (notebookContainer) {{\n",
              "    x.observe(notebookContainer, {childList: true});\n",
              "}}\n",
              "\n",
              "// Listen for the clearing of the current output cell\n",
              "var outputEl = gd.closest('.output');\n",
              "if (outputEl) {{\n",
              "    x.observe(outputEl, {childList: true});\n",
              "}}\n",
              "\n",
              "                        })\n",
              "                };\n",
              "                \n",
              "            </script>\n",
              "        </div>\n",
              "</body>\n",
              "</html>"
            ]
          },
          "metadata": {}
        }
      ]
    },
    {
      "cell_type": "markdown",
      "metadata": {
        "id": "SZAAY3sNwY-_"
      },
      "source": [
        "Aproximadamente 70% dos municípios do estado do RS também estão abaixo do valor mínimo recomendado."
      ]
    },
    {
      "cell_type": "markdown",
      "metadata": {
        "id": "VNXK-2s5P_JH"
      },
      "source": [
        "### <font color= MediumSpringGreen> 2.3 Classificação de municípios afetados em 2021 de acordo com a meta de cobertura vacinal \n",
        "\n",
        "Qual é a quantidade dos municípios, dos estados afetados em 2021 que estão abaixo da meta de 95% e do mínimo de 80% de cobertura vacinal?\n",
        "\n",
        "Quais são estes municípios? "
      ]
    },
    {
      "cell_type": "markdown",
      "metadata": {
        "id": "fp4pPlGwhAga"
      },
      "source": [
        "#### <font color= MediumSpringGreen> 2.3.1 Manipulação de dados:\n"
      ]
    },
    {
      "cell_type": "code",
      "metadata": {
        "id": "HKBAd3A1_eor"
      },
      "source": [
        "rank_CV_municipios_afetados2021 = CV_municipios_afetados2021.drop(columns='2020')                 #Excluindo coluna de 2020"
      ],
      "execution_count": 60,
      "outputs": []
    },
    {
      "cell_type": "code",
      "metadata": {
        "id": "xV2v5kV8C8El"
      },
      "source": [
        "rank_CV_municipios_afetados2021[['2021']] = rank_CV_municipios_afetados2021[['2021']].astype(int) #Transformando coluna de Float para Int"
      ],
      "execution_count": 61,
      "outputs": []
    },
    {
      "cell_type": "code",
      "metadata": {
        "id": "mL8vQegXIJaz"
      },
      "source": [
        "rank_CV_municipios_afetados2021.columns = ['municipio','cobertura_vacinal']     #Renomeando coluna"
      ],
      "execution_count": 62,
      "outputs": []
    },
    {
      "cell_type": "code",
      "metadata": {
        "id": "YC53EEeORQM5"
      },
      "source": [
        "rank = []                                                                       #Criando ranking de classificação\n",
        "for cv  in rank_CV_municipios_afetados2021['cobertura_vacinal']:\n",
        "  if cv >= 95:\n",
        "    rank.append('95%')\n",
        "  elif cv >= 80:\n",
        "    rank.append('80%')\n",
        "  else: \n",
        "    rank.append('<80%')\n",
        "\n",
        "rank_CV_municipios_afetados2021['classificacao'] = rank                         #Inserindo no DataFrame"
      ],
      "execution_count": 63,
      "outputs": []
    },
    {
      "cell_type": "code",
      "metadata": {
        "id": "xRPuelHhFVLg"
      },
      "source": [
        "rank_CV_municipios_afetados2021 = rank_CV_municipios_afetados2021.sort_values('cobertura_vacinal',  #Reoordenando de acordo com a cobertura vacinal\n",
        "                                                                              ascending=False)    "
      ],
      "execution_count": 64,
      "outputs": []
    },
    {
      "cell_type": "code",
      "metadata": {
        "id": "-wye6d7TcsTV"
      },
      "source": [
        "rank_CV_municipios_afetados2021['frequencia'] = list(rank_CV_municipios_afetados2021.value_counts())  #listar valores\n",
        "CV_menor_80 = rank_CV_municipios_afetados2021.query('classificacao == \"<80%\"')                        #Filtrar menorses que 80%"
      ],
      "execution_count": 65,
      "outputs": []
    },
    {
      "cell_type": "code",
      "metadata": {
        "colab": {
          "base_uri": "https://localhost:8080/",
          "height": 300
        },
        "id": "uMkXDykLxjFk",
        "outputId": "f43dbbc1-8d70-46a0-bd0e-c5184876628b"
      },
      "source": [
        "freq_CV_menor_80 = CV_menor_80.groupby(by=['UF','classificacao']).sum()         #Agrupar por estado e classificação\n",
        "freq_CV_menor_80"
      ],
      "execution_count": 66,
      "outputs": [
        {
          "output_type": "execute_result",
          "data": {
            "text/html": [
              "<div>\n",
              "<style scoped>\n",
              "    .dataframe tbody tr th:only-of-type {\n",
              "        vertical-align: middle;\n",
              "    }\n",
              "\n",
              "    .dataframe tbody tr th {\n",
              "        vertical-align: top;\n",
              "    }\n",
              "\n",
              "    .dataframe thead th {\n",
              "        text-align: right;\n",
              "    }\n",
              "</style>\n",
              "<table border=\"1\" class=\"dataframe\">\n",
              "  <thead>\n",
              "    <tr style=\"text-align: right;\">\n",
              "      <th></th>\n",
              "      <th></th>\n",
              "      <th>cobertura_vacinal</th>\n",
              "      <th>frequencia</th>\n",
              "    </tr>\n",
              "    <tr>\n",
              "      <th>UF</th>\n",
              "      <th>classificacao</th>\n",
              "      <th></th>\n",
              "      <th></th>\n",
              "    </tr>\n",
              "  </thead>\n",
              "  <tbody>\n",
              "    <tr>\n",
              "      <th>Acre</th>\n",
              "      <th>&lt;80%</th>\n",
              "      <td>31</td>\n",
              "      <td>1</td>\n",
              "    </tr>\n",
              "    <tr>\n",
              "      <th>Distrito Federal</th>\n",
              "      <th>&lt;80%</th>\n",
              "      <td>60</td>\n",
              "      <td>1</td>\n",
              "    </tr>\n",
              "    <tr>\n",
              "      <th>Goiás</th>\n",
              "      <th>&lt;80%</th>\n",
              "      <td>272</td>\n",
              "      <td>6</td>\n",
              "    </tr>\n",
              "    <tr>\n",
              "      <th>Paraná</th>\n",
              "      <th>&lt;80%</th>\n",
              "      <td>567</td>\n",
              "      <td>10</td>\n",
              "    </tr>\n",
              "    <tr>\n",
              "      <th>Rio Grande do Sul</th>\n",
              "      <th>&lt;80%</th>\n",
              "      <td>538</td>\n",
              "      <td>11</td>\n",
              "    </tr>\n",
              "    <tr>\n",
              "      <th>Santa Catarina</th>\n",
              "      <th>&lt;80%</th>\n",
              "      <td>1395</td>\n",
              "      <td>23</td>\n",
              "    </tr>\n",
              "    <tr>\n",
              "      <th>São Paulo</th>\n",
              "      <th>&lt;80%</th>\n",
              "      <td>128</td>\n",
              "      <td>2</td>\n",
              "    </tr>\n",
              "  </tbody>\n",
              "</table>\n",
              "</div>"
            ],
            "text/plain": [
              "                                 cobertura_vacinal  frequencia\n",
              "UF                classificacao                               \n",
              "Acre              <80%                          31           1\n",
              "Distrito Federal  <80%                          60           1\n",
              "Goiás             <80%                         272           6\n",
              "Paraná            <80%                         567          10\n",
              "Rio Grande do Sul <80%                         538          11\n",
              "Santa Catarina    <80%                        1395          23\n",
              "São Paulo         <80%                         128           2"
            ]
          },
          "metadata": {},
          "execution_count": 66
        }
      ]
    },
    {
      "cell_type": "code",
      "metadata": {
        "colab": {
          "base_uri": "https://localhost:8080/",
          "height": 268
        },
        "id": "0hCRI6bEyNci",
        "outputId": "5839afa8-4cd1-4379-a567-54d500d71678"
      },
      "source": [
        "freq_CV_menor_80 = freq_CV_menor_80.reset_index().sort_values(by='frequencia')\n",
        "freq_CV_menor_80"
      ],
      "execution_count": 67,
      "outputs": [
        {
          "output_type": "execute_result",
          "data": {
            "text/html": [
              "<div>\n",
              "<style scoped>\n",
              "    .dataframe tbody tr th:only-of-type {\n",
              "        vertical-align: middle;\n",
              "    }\n",
              "\n",
              "    .dataframe tbody tr th {\n",
              "        vertical-align: top;\n",
              "    }\n",
              "\n",
              "    .dataframe thead th {\n",
              "        text-align: right;\n",
              "    }\n",
              "</style>\n",
              "<table border=\"1\" class=\"dataframe\">\n",
              "  <thead>\n",
              "    <tr style=\"text-align: right;\">\n",
              "      <th></th>\n",
              "      <th>UF</th>\n",
              "      <th>classificacao</th>\n",
              "      <th>cobertura_vacinal</th>\n",
              "      <th>frequencia</th>\n",
              "    </tr>\n",
              "  </thead>\n",
              "  <tbody>\n",
              "    <tr>\n",
              "      <th>0</th>\n",
              "      <td>Acre</td>\n",
              "      <td>&lt;80%</td>\n",
              "      <td>31</td>\n",
              "      <td>1</td>\n",
              "    </tr>\n",
              "    <tr>\n",
              "      <th>1</th>\n",
              "      <td>Distrito Federal</td>\n",
              "      <td>&lt;80%</td>\n",
              "      <td>60</td>\n",
              "      <td>1</td>\n",
              "    </tr>\n",
              "    <tr>\n",
              "      <th>6</th>\n",
              "      <td>São Paulo</td>\n",
              "      <td>&lt;80%</td>\n",
              "      <td>128</td>\n",
              "      <td>2</td>\n",
              "    </tr>\n",
              "    <tr>\n",
              "      <th>2</th>\n",
              "      <td>Goiás</td>\n",
              "      <td>&lt;80%</td>\n",
              "      <td>272</td>\n",
              "      <td>6</td>\n",
              "    </tr>\n",
              "    <tr>\n",
              "      <th>3</th>\n",
              "      <td>Paraná</td>\n",
              "      <td>&lt;80%</td>\n",
              "      <td>567</td>\n",
              "      <td>10</td>\n",
              "    </tr>\n",
              "    <tr>\n",
              "      <th>4</th>\n",
              "      <td>Rio Grande do Sul</td>\n",
              "      <td>&lt;80%</td>\n",
              "      <td>538</td>\n",
              "      <td>11</td>\n",
              "    </tr>\n",
              "    <tr>\n",
              "      <th>5</th>\n",
              "      <td>Santa Catarina</td>\n",
              "      <td>&lt;80%</td>\n",
              "      <td>1395</td>\n",
              "      <td>23</td>\n",
              "    </tr>\n",
              "  </tbody>\n",
              "</table>\n",
              "</div>"
            ],
            "text/plain": [
              "                  UF classificacao  cobertura_vacinal  frequencia\n",
              "0               Acre          <80%                 31           1\n",
              "1   Distrito Federal          <80%                 60           1\n",
              "6          São Paulo          <80%                128           2\n",
              "2              Goiás          <80%                272           6\n",
              "3             Paraná          <80%                567          10\n",
              "4  Rio Grande do Sul          <80%                538          11\n",
              "5     Santa Catarina          <80%               1395          23"
            ]
          },
          "metadata": {},
          "execution_count": 67
        }
      ]
    },
    {
      "cell_type": "markdown",
      "metadata": {
        "id": "ZvKpo6VmhDh6"
      },
      "source": [
        "#### <font color= MediumSpringGreen> 2.3.2 Visualização de dados:\n"
      ]
    },
    {
      "cell_type": "code",
      "metadata": {
        "colab": {
          "base_uri": "https://localhost:8080/",
          "height": 573
        },
        "id": "ES08g_tixShs",
        "outputId": "f37776b9-f13b-44af-95a0-8b20c9bdbe16"
      },
      "source": [
        "plt.figure(figsize=(18, 9))                                                     #Ajustando o tamanho\n",
        "color=['#FF7F50','#FF7F50','#FF7F50','#FF7F50','#CD5C5C','#CD5C5C','#CD5C5C']\n",
        "ax =sns.barplot(data=freq_CV_menor_80,y='frequencia',x='UF',palette = color)    #Criando grafico\n",
        "ax.yaxis.set_major_formatter(ticker.StrMethodFormatter('{x:,.0f}'))             #Formatar números do eixo y\n",
        "ax.text(4.5,27, \"Santa Catarina está\\n com com 23!\",fontsize=18)\n",
        "\n",
        "plt.ylabel('Quantidade de municípios',size=12)                                  #Modificar o rórulo do eixo x\n",
        "plt.xlabel(None)                                                                #Modificar o rórulo do eixo x\n",
        "plt.ylim(0,30)                                                                  #Ajustar limite do eixo y\n",
        "plt.title(\"Estados com municípios abaixo de 80% de cobertura vacinal\",\n",
        "          size=16)                                                              #Adicionar Título"
      ],
      "execution_count": 68,
      "outputs": [
        {
          "output_type": "execute_result",
          "data": {
            "text/plain": [
              "Text(0.5, 1.0, 'Estados com municípios abaixo de 80% de cobertura vacinal')"
            ]
          },
          "metadata": {},
          "execution_count": 68
        },
        {
          "output_type": "display_data",
          "data": {
            "image/png": "[encoded data removed]",
            "text/plain": [
              "<Figure size 1296x648 with 1 Axes>"
            ]
          },
          "metadata": {
            "needs_background": "light"
          }
        }
      ]
    },
    {
      "cell_type": "markdown",
      "metadata": {
        "id": "W_f_pbU41BU_"
      },
      "source": [
        "A mairo parte dos municípios afetados estão com valores abaixo da recomendação mínima recomendada de cobertura vacinal.\n",
        "\n",
        "Principalmente os da região sul, onde está atualmente o maior índice de casos de febre amarela."
      ]
    },
    {
      "cell_type": "code",
      "metadata": {
        "id": "Vh-9vijE0jV3"
      },
      "source": [
        "municipios_CV_menor_80 = CV_menor_80.iloc[:,0:1]\n",
        "municipios_CV_menor_80.columns = ['Municípios']"
      ],
      "execution_count": 69,
      "outputs": []
    },
    {
      "cell_type": "markdown",
      "metadata": {
        "id": "1GkjGFmP1U_e"
      },
      "source": [
        "Está é a lista de municípios que estão com risco elevado, devido a baixa cobertura vacinal e a mairo probabilidade de contágio devido a localização do vírus:"
      ]
    },
    {
      "cell_type": "code",
      "metadata": {
        "colab": {
          "base_uri": "https://localhost:8080/",
          "height": 1000
        },
        "id": "9onRfI1l06gG",
        "outputId": "b510baa2-3630-4bbd-bf23-2e8d84576d59"
      },
      "source": [
        "municipios_CV_menor_80"
      ],
      "execution_count": 70,
      "outputs": [
        {
          "output_type": "execute_result",
          "data": {
            "text/html": [
              "<div>\n",
              "<style scoped>\n",
              "    .dataframe tbody tr th:only-of-type {\n",
              "        vertical-align: middle;\n",
              "    }\n",
              "\n",
              "    .dataframe tbody tr th {\n",
              "        vertical-align: top;\n",
              "    }\n",
              "\n",
              "    .dataframe thead th {\n",
              "        text-align: right;\n",
              "    }\n",
              "</style>\n",
              "<table border=\"1\" class=\"dataframe\">\n",
              "  <thead>\n",
              "    <tr style=\"text-align: right;\">\n",
              "      <th></th>\n",
              "      <th>Municípios</th>\n",
              "    </tr>\n",
              "    <tr>\n",
              "      <th>UF</th>\n",
              "      <th></th>\n",
              "    </tr>\n",
              "  </thead>\n",
              "  <tbody>\n",
              "    <tr>\n",
              "      <th>Santa Catarina</th>\n",
              "      <td>BOCAINA DO SUL</td>\n",
              "    </tr>\n",
              "    <tr>\n",
              "      <th>Santa Catarina</th>\n",
              "      <td>CORREIA PINTO</td>\n",
              "    </tr>\n",
              "    <tr>\n",
              "      <th>Santa Catarina</th>\n",
              "      <td>CURITIBANOS</td>\n",
              "    </tr>\n",
              "    <tr>\n",
              "      <th>Santa Catarina</th>\n",
              "      <td>PASSOS MAIA</td>\n",
              "    </tr>\n",
              "    <tr>\n",
              "      <th>Santa Catarina</th>\n",
              "      <td>BRACO DO TROMBUDO</td>\n",
              "    </tr>\n",
              "    <tr>\n",
              "      <th>Paraná</th>\n",
              "      <td>CRUZ MACHADO</td>\n",
              "    </tr>\n",
              "    <tr>\n",
              "      <th>Santa Catarina</th>\n",
              "      <td>PALMEIRA</td>\n",
              "    </tr>\n",
              "    <tr>\n",
              "      <th>Santa Catarina</th>\n",
              "      <td>PONTE ALTA</td>\n",
              "    </tr>\n",
              "    <tr>\n",
              "      <th>Santa Catarina</th>\n",
              "      <td>SAO CRISTOVAO DO SUL</td>\n",
              "    </tr>\n",
              "    <tr>\n",
              "      <th>Rio Grande do Sul</th>\n",
              "      <td>LAGOA VERMELHA</td>\n",
              "    </tr>\n",
              "    <tr>\n",
              "      <th>Santa Catarina</th>\n",
              "      <td>ANITA GARIBALDI</td>\n",
              "    </tr>\n",
              "    <tr>\n",
              "      <th>Paraná</th>\n",
              "      <td>CORONEL DOMINGOS SOARES</td>\n",
              "    </tr>\n",
              "    <tr>\n",
              "      <th>Goiás</th>\n",
              "      <td>ARAGOIANIA</td>\n",
              "    </tr>\n",
              "    <tr>\n",
              "      <th>São Paulo</th>\n",
              "      <td>VARGEM</td>\n",
              "    </tr>\n",
              "    <tr>\n",
              "      <th>Santa Catarina</th>\n",
              "      <td>MAFRA</td>\n",
              "    </tr>\n",
              "    <tr>\n",
              "      <th>Paraná</th>\n",
              "      <td>HONORIO SERPA</td>\n",
              "    </tr>\n",
              "    <tr>\n",
              "      <th>Santa Catarina</th>\n",
              "      <td>SAO MARTINHO</td>\n",
              "    </tr>\n",
              "    <tr>\n",
              "      <th>Santa Catarina</th>\n",
              "      <td>BOM JESUS</td>\n",
              "    </tr>\n",
              "    <tr>\n",
              "      <th>Rio Grande do Sul</th>\n",
              "      <td>PINHAL DA SERRA</td>\n",
              "    </tr>\n",
              "    <tr>\n",
              "      <th>Santa Catarina</th>\n",
              "      <td>SANTA ROSA DE LIMA</td>\n",
              "    </tr>\n",
              "    <tr>\n",
              "      <th>Santa Catarina</th>\n",
              "      <td>BRACO DO NORTE</td>\n",
              "    </tr>\n",
              "    <tr>\n",
              "      <th>Rio Grande do Sul</th>\n",
              "      <td>MONTE ALEGRE DOS CAMPOS</td>\n",
              "    </tr>\n",
              "    <tr>\n",
              "      <th>Santa Catarina</th>\n",
              "      <td>ATALANTA</td>\n",
              "    </tr>\n",
              "    <tr>\n",
              "      <th>Santa Catarina</th>\n",
              "      <td>VARGEM</td>\n",
              "    </tr>\n",
              "    <tr>\n",
              "      <th>Distrito Federal</th>\n",
              "      <td>BRASILIA</td>\n",
              "    </tr>\n",
              "    <tr>\n",
              "      <th>São Paulo</th>\n",
              "      <td>SAO JOSE DO RIO PRETO</td>\n",
              "    </tr>\n",
              "    <tr>\n",
              "      <th>Paraná</th>\n",
              "      <td>PIRAQUARA</td>\n",
              "    </tr>\n",
              "    <tr>\n",
              "      <th>Goiás</th>\n",
              "      <td>GOIANIA</td>\n",
              "    </tr>\n",
              "    <tr>\n",
              "      <th>Santa Catarina</th>\n",
              "      <td>CAMPO BELO DO SUL</td>\n",
              "    </tr>\n",
              "    <tr>\n",
              "      <th>Paraná</th>\n",
              "      <td>MANGUEIRINHA</td>\n",
              "    </tr>\n",
              "    <tr>\n",
              "      <th>Santa Catarina</th>\n",
              "      <td>ABELARDO LUZ</td>\n",
              "    </tr>\n",
              "    <tr>\n",
              "      <th>Rio Grande do Sul</th>\n",
              "      <td>ROLANTE</td>\n",
              "    </tr>\n",
              "    <tr>\n",
              "      <th>Paraná</th>\n",
              "      <td>JUSSARA</td>\n",
              "    </tr>\n",
              "    <tr>\n",
              "      <th>Paraná</th>\n",
              "      <td>BARRACAO</td>\n",
              "    </tr>\n",
              "    <tr>\n",
              "      <th>Rio Grande do Sul</th>\n",
              "      <td>BOM JESUS</td>\n",
              "    </tr>\n",
              "    <tr>\n",
              "      <th>Rio Grande do Sul</th>\n",
              "      <td>FARROUPILHA</td>\n",
              "    </tr>\n",
              "    <tr>\n",
              "      <th>Paraná</th>\n",
              "      <td>PALMEIRA</td>\n",
              "    </tr>\n",
              "    <tr>\n",
              "      <th>Rio Grande do Sul</th>\n",
              "      <td>BARRACAO</td>\n",
              "    </tr>\n",
              "    <tr>\n",
              "      <th>Rio Grande do Sul</th>\n",
              "      <td>VACARIA</td>\n",
              "    </tr>\n",
              "    <tr>\n",
              "      <th>Goiás</th>\n",
              "      <td>LUZIANIA</td>\n",
              "    </tr>\n",
              "    <tr>\n",
              "      <th>Santa Catarina</th>\n",
              "      <td>SAO BERNARDINO</td>\n",
              "    </tr>\n",
              "    <tr>\n",
              "      <th>Paraná</th>\n",
              "      <td>PALMAS</td>\n",
              "    </tr>\n",
              "    <tr>\n",
              "      <th>Santa Catarina</th>\n",
              "      <td>SAO LOURENCO DO OESTE</td>\n",
              "    </tr>\n",
              "    <tr>\n",
              "      <th>Goiás</th>\n",
              "      <td>JUSSARA</td>\n",
              "    </tr>\n",
              "    <tr>\n",
              "      <th>Goiás</th>\n",
              "      <td>ABADIA DE GOIAS</td>\n",
              "    </tr>\n",
              "    <tr>\n",
              "      <th>Rio Grande do Sul</th>\n",
              "      <td>PORTO ALEGRE</td>\n",
              "    </tr>\n",
              "    <tr>\n",
              "      <th>Santa Catarina</th>\n",
              "      <td>CAMPOS NOVOS</td>\n",
              "    </tr>\n",
              "    <tr>\n",
              "      <th>Paraná</th>\n",
              "      <td>CLEVELANDIA</td>\n",
              "    </tr>\n",
              "    <tr>\n",
              "      <th>Santa Catarina</th>\n",
              "      <td>CAPAO ALTO</td>\n",
              "    </tr>\n",
              "    <tr>\n",
              "      <th>Acre</th>\n",
              "      <td>PLACIDO DE CASTRO</td>\n",
              "    </tr>\n",
              "    <tr>\n",
              "      <th>Rio Grande do Sul</th>\n",
              "      <td>ESMERALDA</td>\n",
              "    </tr>\n",
              "    <tr>\n",
              "      <th>Santa Catarina</th>\n",
              "      <td>LAGES</td>\n",
              "    </tr>\n",
              "    <tr>\n",
              "      <th>Goiás</th>\n",
              "      <td>APARECIDA DE GOIANIA</td>\n",
              "    </tr>\n",
              "    <tr>\n",
              "      <th>Rio Grande do Sul</th>\n",
              "      <td>ANTONIO PRADO</td>\n",
              "    </tr>\n",
              "  </tbody>\n",
              "</table>\n",
              "</div>"
            ],
            "text/plain": [
              "                                Municípios\n",
              "UF                                        \n",
              "Santa Catarina              BOCAINA DO SUL\n",
              "Santa Catarina               CORREIA PINTO\n",
              "Santa Catarina                 CURITIBANOS\n",
              "Santa Catarina                 PASSOS MAIA\n",
              "Santa Catarina           BRACO DO TROMBUDO\n",
              "Paraná                        CRUZ MACHADO\n",
              "Santa Catarina                    PALMEIRA\n",
              "Santa Catarina                  PONTE ALTA\n",
              "Santa Catarina        SAO CRISTOVAO DO SUL\n",
              "Rio Grande do Sul           LAGOA VERMELHA\n",
              "Santa Catarina             ANITA GARIBALDI\n",
              "Paraná             CORONEL DOMINGOS SOARES\n",
              "Goiás                           ARAGOIANIA\n",
              "São Paulo                           VARGEM\n",
              "Santa Catarina                       MAFRA\n",
              "Paraná                       HONORIO SERPA\n",
              "Santa Catarina                SAO MARTINHO\n",
              "Santa Catarina                   BOM JESUS\n",
              "Rio Grande do Sul          PINHAL DA SERRA\n",
              "Santa Catarina          SANTA ROSA DE LIMA\n",
              "Santa Catarina              BRACO DO NORTE\n",
              "Rio Grande do Sul  MONTE ALEGRE DOS CAMPOS\n",
              "Santa Catarina                    ATALANTA\n",
              "Santa Catarina                      VARGEM\n",
              "Distrito Federal                  BRASILIA\n",
              "São Paulo            SAO JOSE DO RIO PRETO\n",
              "Paraná                           PIRAQUARA\n",
              "Goiás                              GOIANIA\n",
              "Santa Catarina           CAMPO BELO DO SUL\n",
              "Paraná                        MANGUEIRINHA\n",
              "Santa Catarina                ABELARDO LUZ\n",
              "Rio Grande do Sul                  ROLANTE\n",
              "Paraná                             JUSSARA\n",
              "Paraná                            BARRACAO\n",
              "Rio Grande do Sul                BOM JESUS\n",
              "Rio Grande do Sul              FARROUPILHA\n",
              "Paraná                            PALMEIRA\n",
              "Rio Grande do Sul                 BARRACAO\n",
              "Rio Grande do Sul                  VACARIA\n",
              "Goiás                             LUZIANIA\n",
              "Santa Catarina              SAO BERNARDINO\n",
              "Paraná                              PALMAS\n",
              "Santa Catarina       SAO LOURENCO DO OESTE\n",
              "Goiás                              JUSSARA\n",
              "Goiás                      ABADIA DE GOIAS\n",
              "Rio Grande do Sul             PORTO ALEGRE\n",
              "Santa Catarina                CAMPOS NOVOS\n",
              "Paraná                         CLEVELANDIA\n",
              "Santa Catarina                  CAPAO ALTO\n",
              "Acre                     PLACIDO DE CASTRO\n",
              "Rio Grande do Sul                ESMERALDA\n",
              "Santa Catarina                       LAGES\n",
              "Goiás                 APARECIDA DE GOIANIA\n",
              "Rio Grande do Sul            ANTONIO PRADO"
            ]
          },
          "metadata": {},
          "execution_count": 70
        }
      ]
    },
    {
      "cell_type": "markdown",
      "metadata": {
        "id": "tDwwcCfyQxIP"
      },
      "source": [
        "## <font color= MediumSpringGreen> 3. Considerações finais"
      ]
    },
    {
      "cell_type": "markdown",
      "metadata": {
        "id": "2ovgJCy02OQT"
      },
      "source": [
        "Foi possível averiguar que os dados de cobertura vacinal em estados onde foram afetados em 2020 e 2021 estão menores em 2021.\n",
        "\n",
        "Principamente em estados da região sul, onde se encontra atualmente a maior concentração de casos em PNH (primatas não humanos) e humanos.\n",
        "\n",
        "O que é uma notícia grave, diante de uma doença que tem como a vacina o principal combate.\n",
        "\n",
        "É possível que este quadro seja devido:\n",
        "*    Transição do vírus ao decorrer dos anos para a região sul\n",
        "*    Crise do COVID-19, no qual diminuiu o volume de pessoas vacinadas no período\n",
        "*    Movimento de grupos anti-vacina, no qual nos últimos anos vem tomando frente em redes sociais\n",
        "*    Ampliação para o país inteiro da população alvo, no qual diminui assim a cobertura vacinal local proporcionalmente.\n",
        "\n",
        "Estamos em novembro de 2021 e é importante termos campanhas de vacinação, devido a época de maior incidência da doença chegando.\n",
        "\n",
        "Para que desta forma, o vírus seja controlado e não cause danos maiores a população."
      ]
    }
  ]
}